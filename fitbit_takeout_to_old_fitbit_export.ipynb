{
 "cells": [
  {
   "cell_type": "code",
   "execution_count": 21,
   "id": "84c820c5",
   "metadata": {},
   "outputs": [],
   "source": [
    "import pandas as pd\n",
    "import os\n",
    "import re\n",
    "from datetime import datetime"
   ]
  },
  {
   "cell_type": "markdown",
   "id": "585c5979-09ac-4daf-987c-b8bf7048d637",
   "metadata": {},
   "source": [
    "\n",
    "#### Reformat data into old Fitbit export style.\n"
   ]
  },
  {
   "cell_type": "code",
   "execution_count": 22,
   "id": "6578f4e2-5fda-4d80-99d2-162aee289d13",
   "metadata": {},
   "outputs": [
    {
     "data": {
      "text/plain": [
       "['sleep-2016-08-29.json',\n",
       " 'sleep-2016-09-28.json',\n",
       " 'sleep-2016-10-28.json',\n",
       " 'sleep-2016-11-27.json',\n",
       " 'sleep-2016-12-27.json']"
      ]
     },
     "execution_count": 22,
     "metadata": {},
     "output_type": "execute_result"
    }
   ],
   "source": [
    "filepath = r'~/Downloads/takeout-20231226T235127Z-001/Takeout/Fitbit/Global Export Data'\n",
    "json_files = os.listdir(os.path.expanduser(filepath))\n",
    "filtered_files = [file for file in json_files if re.match(r'sleep-\\d{4}-\\d{2}-\\d{2}\\.json$', file)]\n",
    "filtered_files.sort()\n",
    "filtered_files[:5] # Check first 5 are as expected."
   ]
  },
  {
   "cell_type": "code",
   "execution_count": 23,
   "id": "a623fe2f-d6d8-4dac-8b3d-bf7fb7d6a71c",
   "metadata": {},
   "outputs": [],
   "source": [
    "dfs = []\n",
    "for file in filtered_files:\n",
    "    file_path = os.path.join(r'~/Downloads/takeout-20231226T235127Z-001/Takeout/Fitbit/Global Export Data/', file)\n",
    "    df = pd.read_json(file_path)\n",
    "    dfs.append(df)\n",
    "\n",
    "df = pd.concat(dfs, ignore_index=True)"
   ]
  },
  {
   "cell_type": "code",
   "execution_count": 24,
   "id": "4016555b",
   "metadata": {},
   "outputs": [],
   "source": [
    "unnested = pd.json_normalize(df['levels'])"
   ]
  },
  {
   "cell_type": "code",
   "execution_count": 25,
   "id": "7e95ab44",
   "metadata": {},
   "outputs": [],
   "source": [
    "df = pd.merge(\n",
    "    left=df[['startTime', 'endTime', 'minutesAsleep', 'minutesAwake', 'timeInBed']], \n",
    "    right=unnested.iloc[:, 2:], \n",
    "    left_index=True, \n",
    "    right_index=True\n",
    ")"
   ]
  },
  {
   "cell_type": "code",
   "execution_count": 26,
   "id": "c78583c1",
   "metadata": {},
   "outputs": [],
   "source": [
    "df.rename(columns={\n",
    "    'summary.wake.count':'Number of Awakenings',\n",
    "    'summary.rem.minutes': 'Minutes REM Sleep',\n",
    "    'summary.light.minutes':'Minutes Light Sleep',\n",
    "    'summary.deep.minutes':'Minutes Deep Sleep',\n",
    "}, inplace=True)"
   ]
  },
  {
   "cell_type": "code",
   "execution_count": 27,
   "id": "ceaa53b1",
   "metadata": {},
   "outputs": [],
   "source": [
    "tmp_col = df['Number of Awakenings'].copy()\n",
    "df.drop(columns=['Number of Awakenings'], inplace=True)\n",
    "df.insert(4, 'Number of Awakenings', tmp_col)"
   ]
  },
  {
   "cell_type": "code",
   "execution_count": 28,
   "id": "d37f9031",
   "metadata": {},
   "outputs": [],
   "source": [
    "df = df[[\n",
    "    'startTime', \n",
    "    'endTime', \n",
    "    'minutesAsleep', \n",
    "    'minutesAwake', \n",
    "    'Number of Awakenings', \n",
    "    'timeInBed', \n",
    "    'Minutes REM Sleep',\n",
    "    'Minutes Light Sleep',\n",
    "    'Minutes Deep Sleep',\n",
    "]]"
   ]
  },
  {
   "cell_type": "code",
   "execution_count": 29,
   "id": "1cfd6779",
   "metadata": {},
   "outputs": [],
   "source": [
    "df = df.astype({'startTime':'datetime64[ns]', 'endTime':'datetime64[ns]'})"
   ]
  },
  {
   "cell_type": "code",
   "execution_count": 30,
   "id": "df8fec6b",
   "metadata": {},
   "outputs": [],
   "source": [
    "def convert_to_fitbit_time(cols):\n",
    "    \"\"\"Converts millisecond UTC timestamp into native 12h time.\"\"\"\n",
    "    for col in cols:\n",
    "        df[col] = df[col].apply(lambda x: x.strftime('%Y-%m-%d %I:%M%p'))\n",
    "        df[col] = df[col].apply(lambda x: x.replace(' 0', ' '))\n",
    "\n",
    "        \n",
    "convert_to_fitbit_time(['startTime', 'endTime'])"
   ]
  },
  {
   "cell_type": "code",
   "execution_count": 31,
   "id": "f6d61b41-1108-4b8e-ad6f-5455cd6164a4",
   "metadata": {},
   "outputs": [
    {
     "data": {
      "text/html": [
       "<div>\n",
       "<style scoped>\n",
       "    .dataframe tbody tr th:only-of-type {\n",
       "        vertical-align: middle;\n",
       "    }\n",
       "\n",
       "    .dataframe tbody tr th {\n",
       "        vertical-align: top;\n",
       "    }\n",
       "\n",
       "    .dataframe thead th {\n",
       "        text-align: right;\n",
       "    }\n",
       "</style>\n",
       "<table border=\"1\" class=\"dataframe\">\n",
       "  <thead>\n",
       "    <tr style=\"text-align: right;\">\n",
       "      <th></th>\n",
       "      <th>startTime</th>\n",
       "      <th>endTime</th>\n",
       "      <th>minutesAsleep</th>\n",
       "      <th>minutesAwake</th>\n",
       "      <th>Number of Awakenings</th>\n",
       "      <th>timeInBed</th>\n",
       "      <th>Minutes REM Sleep</th>\n",
       "      <th>Minutes Light Sleep</th>\n",
       "      <th>Minutes Deep Sleep</th>\n",
       "    </tr>\n",
       "  </thead>\n",
       "  <tbody>\n",
       "    <tr>\n",
       "      <th>0</th>\n",
       "      <td>2016-09-27 10:21PM</td>\n",
       "      <td>2016-09-28 7:33AM</td>\n",
       "      <td>521</td>\n",
       "      <td>26</td>\n",
       "      <td>NaN</td>\n",
       "      <td>551</td>\n",
       "      <td>NaN</td>\n",
       "      <td>NaN</td>\n",
       "      <td>NaN</td>\n",
       "    </tr>\n",
       "    <tr>\n",
       "      <th>1</th>\n",
       "      <td>2016-09-26 11:54PM</td>\n",
       "      <td>2016-09-27 7:34AM</td>\n",
       "      <td>439</td>\n",
       "      <td>21</td>\n",
       "      <td>NaN</td>\n",
       "      <td>460</td>\n",
       "      <td>NaN</td>\n",
       "      <td>NaN</td>\n",
       "      <td>NaN</td>\n",
       "    </tr>\n",
       "    <tr>\n",
       "      <th>2</th>\n",
       "      <td>2016-09-26 12:14AM</td>\n",
       "      <td>2016-09-26 7:24AM</td>\n",
       "      <td>403</td>\n",
       "      <td>27</td>\n",
       "      <td>NaN</td>\n",
       "      <td>430</td>\n",
       "      <td>NaN</td>\n",
       "      <td>NaN</td>\n",
       "      <td>NaN</td>\n",
       "    </tr>\n",
       "    <tr>\n",
       "      <th>3</th>\n",
       "      <td>2016-09-24 10:41PM</td>\n",
       "      <td>2016-09-25 9:28AM</td>\n",
       "      <td>599</td>\n",
       "      <td>47</td>\n",
       "      <td>NaN</td>\n",
       "      <td>647</td>\n",
       "      <td>NaN</td>\n",
       "      <td>NaN</td>\n",
       "      <td>NaN</td>\n",
       "    </tr>\n",
       "    <tr>\n",
       "      <th>4</th>\n",
       "      <td>2016-09-23 11:07PM</td>\n",
       "      <td>2016-09-24 5:22AM</td>\n",
       "      <td>357</td>\n",
       "      <td>17</td>\n",
       "      <td>NaN</td>\n",
       "      <td>374</td>\n",
       "      <td>NaN</td>\n",
       "      <td>NaN</td>\n",
       "      <td>NaN</td>\n",
       "    </tr>\n",
       "  </tbody>\n",
       "</table>\n",
       "</div>"
      ],
      "text/plain": [
       "            startTime            endTime  minutesAsleep  minutesAwake  \\\n",
       "0  2016-09-27 10:21PM  2016-09-28 7:33AM            521            26   \n",
       "1  2016-09-26 11:54PM  2016-09-27 7:34AM            439            21   \n",
       "2  2016-09-26 12:14AM  2016-09-26 7:24AM            403            27   \n",
       "3  2016-09-24 10:41PM  2016-09-25 9:28AM            599            47   \n",
       "4  2016-09-23 11:07PM  2016-09-24 5:22AM            357            17   \n",
       "\n",
       "   Number of Awakenings  timeInBed  Minutes REM Sleep  Minutes Light Sleep  \\\n",
       "0                   NaN        551                NaN                  NaN   \n",
       "1                   NaN        460                NaN                  NaN   \n",
       "2                   NaN        430                NaN                  NaN   \n",
       "3                   NaN        647                NaN                  NaN   \n",
       "4                   NaN        374                NaN                  NaN   \n",
       "\n",
       "   Minutes Deep Sleep  \n",
       "0                 NaN  \n",
       "1                 NaN  \n",
       "2                 NaN  \n",
       "3                 NaN  \n",
       "4                 NaN  "
      ]
     },
     "execution_count": 31,
     "metadata": {},
     "output_type": "execute_result"
    }
   ],
   "source": [
    "df.head()"
   ]
  },
  {
   "cell_type": "code",
   "execution_count": 32,
   "id": "6bef754d",
   "metadata": {},
   "outputs": [],
   "source": [
    "savepath = r'~/OneDrive/Documents/531_data' # Make this the location where you want to save the new DataFrame.\n",
    "df.to_csv(f'{savepath}/fitbit_sleep_export.csv', index=False, header=False, na_rep='N/A')"
   ]
  }
 ],
 "metadata": {
  "kernelspec": {
   "display_name": "Python 3 (ipykernel)",
   "language": "python",
   "name": "python3"
  },
  "language_info": {
   "codemirror_mode": {
    "name": "ipython",
    "version": 3
   },
   "file_extension": ".py",
   "mimetype": "text/x-python",
   "name": "python",
   "nbconvert_exporter": "python",
   "pygments_lexer": "ipython3",
   "version": "3.9.18"
  }
 },
 "nbformat": 4,
 "nbformat_minor": 5
}
