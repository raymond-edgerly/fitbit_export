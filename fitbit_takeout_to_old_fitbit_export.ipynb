{
 "cells": [
  {
   "cell_type": "code",
   "execution_count": 117,
   "id": "84c820c5",
   "metadata": {},
   "outputs": [],
   "source": [
    "import pandas as pd\n",
    "import numpy as np\n",
    "import os\n",
    "import re\n",
    "from datetime import datetime\n",
    "\n",
    "# Vis. modules.\n",
    "import altair as alt"
   ]
  },
  {
   "cell_type": "markdown",
   "id": "585c5979-09ac-4daf-987c-b8bf7048d637",
   "metadata": {},
   "source": [
    "\n",
    "#### Reformat data into old Fitbit export style.\n"
   ]
  },
  {
   "cell_type": "markdown",
   "id": "b861dead-7c45-45ac-a812-c11943a48829",
   "metadata": {},
   "source": [
    "\n",
    "#### Sleep\n"
   ]
  },
  {
   "cell_type": "code",
   "execution_count": 2,
   "id": "6578f4e2-5fda-4d80-99d2-162aee289d13",
   "metadata": {},
   "outputs": [
    {
     "data": {
      "text/plain": [
       "['sleep-2016-08-29.json',\n",
       " 'sleep-2016-09-28.json',\n",
       " 'sleep-2016-10-28.json',\n",
       " 'sleep-2016-11-27.json',\n",
       " 'sleep-2016-12-27.json']"
      ]
     },
     "execution_count": 2,
     "metadata": {},
     "output_type": "execute_result"
    }
   ],
   "source": [
    "filepath = r'~/Downloads/takeout-20240330T183803Z-001/Takeout/Fitbit/Global Export Data'\n",
    "json_files = os.listdir(os.path.expanduser(filepath))\n",
    "sleep_files = [file for file in json_files if re.match(r'sleep-\\d{4}-\\d{2}-\\d{2}\\.json$', file)]\n",
    "sleep_files.sort()\n",
    "sleep_files[:5] # Check first 5 are as expected."
   ]
  },
  {
   "cell_type": "code",
   "execution_count": 3,
   "id": "a623fe2f-d6d8-4dac-8b3d-bf7fb7d6a71c",
   "metadata": {},
   "outputs": [],
   "source": [
    "dfs = []\n",
    "for file in sleep_files:\n",
    "    file_path = os.path.join(filepath + '/', file)\n",
    "    df = pd.read_json(file_path)\n",
    "    dfs.append(df)\n",
    "\n",
    "df = pd.concat(dfs, ignore_index=True)"
   ]
  },
  {
   "cell_type": "code",
   "execution_count": 4,
   "id": "4016555b",
   "metadata": {},
   "outputs": [],
   "source": [
    "unnested = pd.json_normalize(df['levels'])"
   ]
  },
  {
   "cell_type": "code",
   "execution_count": 5,
   "id": "7e95ab44",
   "metadata": {},
   "outputs": [],
   "source": [
    "df = pd.merge(\n",
    "    left=df[['startTime', 'endTime', 'minutesAsleep', 'minutesAwake', 'timeInBed']], \n",
    "    right=unnested.iloc[:, 2:], \n",
    "    left_index=True, \n",
    "    right_index=True\n",
    ")"
   ]
  },
  {
   "cell_type": "code",
   "execution_count": 6,
   "id": "c78583c1",
   "metadata": {},
   "outputs": [],
   "source": [
    "df.rename(columns={\n",
    "    'summary.wake.count':'Number of Awakenings',\n",
    "    'summary.rem.minutes': 'Minutes REM Sleep',\n",
    "    'summary.light.minutes':'Minutes Light Sleep',\n",
    "    'summary.deep.minutes':'Minutes Deep Sleep',\n",
    "}, inplace=True)"
   ]
  },
  {
   "cell_type": "code",
   "execution_count": 7,
   "id": "ceaa53b1",
   "metadata": {},
   "outputs": [],
   "source": [
    "tmp_col = df['Number of Awakenings'].copy()\n",
    "df.drop(columns=['Number of Awakenings'], inplace=True)\n",
    "df.insert(4, 'Number of Awakenings', tmp_col)"
   ]
  },
  {
   "cell_type": "code",
   "execution_count": 8,
   "id": "d37f9031",
   "metadata": {},
   "outputs": [],
   "source": [
    "df = df[[\n",
    "    'startTime', \n",
    "    'endTime', \n",
    "    'minutesAsleep', \n",
    "    'minutesAwake', \n",
    "    'Number of Awakenings', \n",
    "    'timeInBed', \n",
    "    'Minutes REM Sleep',\n",
    "    'Minutes Light Sleep',\n",
    "    'Minutes Deep Sleep',\n",
    "]]"
   ]
  },
  {
   "cell_type": "code",
   "execution_count": 9,
   "id": "1cfd6779",
   "metadata": {},
   "outputs": [],
   "source": [
    "df = df.astype({'startTime':'datetime64[ns]', 'endTime':'datetime64[ns]'})"
   ]
  },
  {
   "cell_type": "code",
   "execution_count": 10,
   "id": "df8fec6b",
   "metadata": {},
   "outputs": [],
   "source": [
    "def convert_to_fitbit_time(cols):\n",
    "    \"\"\"Converts millisecond UTC timestamp into native 12h time.\"\"\"\n",
    "    for col in cols:\n",
    "        df[col] = df[col].apply(lambda x: x.strftime('%Y-%m-%d %I:%M%p'))\n",
    "        df[col] = df[col].apply(lambda x: x.replace(' 0', ' '))\n",
    "\n",
    "        \n",
    "convert_to_fitbit_time(['startTime', 'endTime'])"
   ]
  },
  {
   "cell_type": "code",
   "execution_count": 11,
   "id": "f6d61b41-1108-4b8e-ad6f-5455cd6164a4",
   "metadata": {},
   "outputs": [
    {
     "data": {
      "text/html": [
       "<div>\n",
       "<style scoped>\n",
       "    .dataframe tbody tr th:only-of-type {\n",
       "        vertical-align: middle;\n",
       "    }\n",
       "\n",
       "    .dataframe tbody tr th {\n",
       "        vertical-align: top;\n",
       "    }\n",
       "\n",
       "    .dataframe thead th {\n",
       "        text-align: right;\n",
       "    }\n",
       "</style>\n",
       "<table border=\"1\" class=\"dataframe\">\n",
       "  <thead>\n",
       "    <tr style=\"text-align: right;\">\n",
       "      <th></th>\n",
       "      <th>startTime</th>\n",
       "      <th>endTime</th>\n",
       "      <th>minutesAsleep</th>\n",
       "      <th>minutesAwake</th>\n",
       "      <th>Number of Awakenings</th>\n",
       "      <th>timeInBed</th>\n",
       "      <th>Minutes REM Sleep</th>\n",
       "      <th>Minutes Light Sleep</th>\n",
       "      <th>Minutes Deep Sleep</th>\n",
       "    </tr>\n",
       "  </thead>\n",
       "  <tbody>\n",
       "    <tr>\n",
       "      <th>0</th>\n",
       "      <td>2016-09-27 10:21PM</td>\n",
       "      <td>2016-09-28 7:33AM</td>\n",
       "      <td>521</td>\n",
       "      <td>26</td>\n",
       "      <td>NaN</td>\n",
       "      <td>551</td>\n",
       "      <td>NaN</td>\n",
       "      <td>NaN</td>\n",
       "      <td>NaN</td>\n",
       "    </tr>\n",
       "    <tr>\n",
       "      <th>1</th>\n",
       "      <td>2016-09-26 11:54PM</td>\n",
       "      <td>2016-09-27 7:34AM</td>\n",
       "      <td>439</td>\n",
       "      <td>21</td>\n",
       "      <td>NaN</td>\n",
       "      <td>460</td>\n",
       "      <td>NaN</td>\n",
       "      <td>NaN</td>\n",
       "      <td>NaN</td>\n",
       "    </tr>\n",
       "    <tr>\n",
       "      <th>2</th>\n",
       "      <td>2016-09-26 12:14AM</td>\n",
       "      <td>2016-09-26 7:24AM</td>\n",
       "      <td>403</td>\n",
       "      <td>27</td>\n",
       "      <td>NaN</td>\n",
       "      <td>430</td>\n",
       "      <td>NaN</td>\n",
       "      <td>NaN</td>\n",
       "      <td>NaN</td>\n",
       "    </tr>\n",
       "    <tr>\n",
       "      <th>3</th>\n",
       "      <td>2016-09-24 10:41PM</td>\n",
       "      <td>2016-09-25 9:28AM</td>\n",
       "      <td>599</td>\n",
       "      <td>47</td>\n",
       "      <td>NaN</td>\n",
       "      <td>647</td>\n",
       "      <td>NaN</td>\n",
       "      <td>NaN</td>\n",
       "      <td>NaN</td>\n",
       "    </tr>\n",
       "    <tr>\n",
       "      <th>4</th>\n",
       "      <td>2016-09-23 11:07PM</td>\n",
       "      <td>2016-09-24 5:22AM</td>\n",
       "      <td>357</td>\n",
       "      <td>17</td>\n",
       "      <td>NaN</td>\n",
       "      <td>374</td>\n",
       "      <td>NaN</td>\n",
       "      <td>NaN</td>\n",
       "      <td>NaN</td>\n",
       "    </tr>\n",
       "  </tbody>\n",
       "</table>\n",
       "</div>"
      ],
      "text/plain": [
       "            startTime            endTime  minutesAsleep  minutesAwake  \\\n",
       "0  2016-09-27 10:21PM  2016-09-28 7:33AM            521            26   \n",
       "1  2016-09-26 11:54PM  2016-09-27 7:34AM            439            21   \n",
       "2  2016-09-26 12:14AM  2016-09-26 7:24AM            403            27   \n",
       "3  2016-09-24 10:41PM  2016-09-25 9:28AM            599            47   \n",
       "4  2016-09-23 11:07PM  2016-09-24 5:22AM            357            17   \n",
       "\n",
       "   Number of Awakenings  timeInBed  Minutes REM Sleep  Minutes Light Sleep  \\\n",
       "0                   NaN        551                NaN                  NaN   \n",
       "1                   NaN        460                NaN                  NaN   \n",
       "2                   NaN        430                NaN                  NaN   \n",
       "3                   NaN        647                NaN                  NaN   \n",
       "4                   NaN        374                NaN                  NaN   \n",
       "\n",
       "   Minutes Deep Sleep  \n",
       "0                 NaN  \n",
       "1                 NaN  \n",
       "2                 NaN  \n",
       "3                 NaN  \n",
       "4                 NaN  "
      ]
     },
     "execution_count": 11,
     "metadata": {},
     "output_type": "execute_result"
    }
   ],
   "source": [
    "df.head()"
   ]
  },
  {
   "cell_type": "code",
   "execution_count": 12,
   "id": "6bef754d",
   "metadata": {},
   "outputs": [],
   "source": [
    "# Outputs FitBit sleep data in old export style wherever your Jupyter Notebook is located.\n",
    "df.to_csv('./fitbit_sleep_data_in_old_export_format.csv', index=False, header=False, na_rep='N/A')"
   ]
  },
  {
   "cell_type": "markdown",
   "id": "c0350f31-7c8e-4b35-9e1a-1e2a0bcb7878",
   "metadata": {},
   "source": [
    "\n",
    "#### Body\n"
   ]
  },
  {
   "cell_type": "markdown",
   "id": "342342dd-a48e-49f8-9ab8-ffd2e54b16d8",
   "metadata": {},
   "source": [
    "-  bodyweight\n",
    "-  BMI\n",
    "-  Fat"
   ]
  },
  {
   "cell_type": "code",
   "execution_count": 37,
   "id": "c5aefea7-d70e-4d16-bcc3-0b7a9c9a1894",
   "metadata": {},
   "outputs": [
    {
     "data": {
      "text/plain": [
       "['weight-2016-08-29.json',\n",
       " 'weight-2016-12-27.json',\n",
       " 'weight-2017-01-26.json',\n",
       " 'weight-2017-02-25.json',\n",
       " 'weight-2017-06-25.json']"
      ]
     },
     "execution_count": 37,
     "metadata": {},
     "output_type": "execute_result"
    }
   ],
   "source": [
    "weight_files = [file for file in json_files if re.match(r'weight-\\d{4}-\\d{2}-\\d{2}\\.json$', file)]\n",
    "weight_files.sort()\n",
    "weight_files[:5] # Check first 5 are as expected."
   ]
  },
  {
   "cell_type": "code",
   "execution_count": 38,
   "id": "b0055973-f2bc-4929-8c3f-4edd3e3b15b6",
   "metadata": {},
   "outputs": [],
   "source": [
    "dfs = []\n",
    "for file in weight_files:\n",
    "    file_path = os.path.join(filepath + '/', file)\n",
    "    df = pd.read_json(file_path)\n",
    "    dfs.append(df)\n",
    "\n",
    "df = pd.concat(dfs, ignore_index=True)"
   ]
  },
  {
   "cell_type": "code",
   "execution_count": 39,
   "id": "013d38b7-3812-43a3-8e95-fea9aa63d05a",
   "metadata": {},
   "outputs": [],
   "source": [
    "df = df.rename(\n",
    "    columns={'weight':'Bodyweight', 'bmi':'BMI', 'fat':'Fat'}\n",
    ").drop(\n",
    "    columns=['logId', 'source']\n",
    ").reindex(\n",
    "    columns=['date', 'time', 'Bodyweight', 'BMI', 'Fat']\n",
    ")"
   ]
  },
  {
   "cell_type": "code",
   "execution_count": 40,
   "id": "dde2fa96-2806-4175-a817-b74f1d0b2b48",
   "metadata": {},
   "outputs": [
    {
     "data": {
      "text/html": [
       "<div>\n",
       "<style scoped>\n",
       "    .dataframe tbody tr th:only-of-type {\n",
       "        vertical-align: middle;\n",
       "    }\n",
       "\n",
       "    .dataframe tbody tr th {\n",
       "        vertical-align: top;\n",
       "    }\n",
       "\n",
       "    .dataframe thead th {\n",
       "        text-align: right;\n",
       "    }\n",
       "</style>\n",
       "<table border=\"1\" class=\"dataframe\">\n",
       "  <thead>\n",
       "    <tr style=\"text-align: right;\">\n",
       "      <th></th>\n",
       "      <th>date</th>\n",
       "      <th>time</th>\n",
       "      <th>Bodyweight</th>\n",
       "      <th>BMI</th>\n",
       "      <th>Fat</th>\n",
       "    </tr>\n",
       "  </thead>\n",
       "  <tbody>\n",
       "    <tr>\n",
       "      <th>0</th>\n",
       "      <td>2016-08-30</td>\n",
       "      <td>23:59:59</td>\n",
       "      <td>212.0</td>\n",
       "      <td>29.58</td>\n",
       "      <td>NaN</td>\n",
       "    </tr>\n",
       "    <tr>\n",
       "      <th>1</th>\n",
       "      <td>2017-01-01</td>\n",
       "      <td>18:25:24</td>\n",
       "      <td>212.1</td>\n",
       "      <td>29.60</td>\n",
       "      <td>29.879999</td>\n",
       "    </tr>\n",
       "    <tr>\n",
       "      <th>2</th>\n",
       "      <td>2017-01-01</td>\n",
       "      <td>18:59:52</td>\n",
       "      <td>211.6</td>\n",
       "      <td>29.53</td>\n",
       "      <td>29.378000</td>\n",
       "    </tr>\n",
       "    <tr>\n",
       "      <th>3</th>\n",
       "      <td>2017-01-01</td>\n",
       "      <td>23:59:59</td>\n",
       "      <td>211.5</td>\n",
       "      <td>29.52</td>\n",
       "      <td>NaN</td>\n",
       "    </tr>\n",
       "    <tr>\n",
       "      <th>4</th>\n",
       "      <td>2017-01-02</td>\n",
       "      <td>10:35:10</td>\n",
       "      <td>206.8</td>\n",
       "      <td>28.86</td>\n",
       "      <td>28.540001</td>\n",
       "    </tr>\n",
       "    <tr>\n",
       "      <th>...</th>\n",
       "      <td>...</td>\n",
       "      <td>...</td>\n",
       "      <td>...</td>\n",
       "      <td>...</td>\n",
       "      <td>...</td>\n",
       "    </tr>\n",
       "    <tr>\n",
       "      <th>108</th>\n",
       "      <td>2023-01-07</td>\n",
       "      <td>14:36:55</td>\n",
       "      <td>242.6</td>\n",
       "      <td>33.86</td>\n",
       "      <td>29.719999</td>\n",
       "    </tr>\n",
       "    <tr>\n",
       "      <th>109</th>\n",
       "      <td>2023-01-08</td>\n",
       "      <td>16:33:43</td>\n",
       "      <td>245.1</td>\n",
       "      <td>34.20</td>\n",
       "      <td>33.070000</td>\n",
       "    </tr>\n",
       "    <tr>\n",
       "      <th>110</th>\n",
       "      <td>2023-03-09</td>\n",
       "      <td>21:36:18</td>\n",
       "      <td>241.1</td>\n",
       "      <td>33.65</td>\n",
       "      <td>NaN</td>\n",
       "    </tr>\n",
       "    <tr>\n",
       "      <th>111</th>\n",
       "      <td>2023-12-08</td>\n",
       "      <td>11:47:54</td>\n",
       "      <td>239.5</td>\n",
       "      <td>33.43</td>\n",
       "      <td>32.458000</td>\n",
       "    </tr>\n",
       "    <tr>\n",
       "      <th>112</th>\n",
       "      <td>2024-02-24</td>\n",
       "      <td>13:08:29</td>\n",
       "      <td>238.6</td>\n",
       "      <td>33.30</td>\n",
       "      <td>31.441000</td>\n",
       "    </tr>\n",
       "  </tbody>\n",
       "</table>\n",
       "<p>113 rows × 5 columns</p>\n",
       "</div>"
      ],
      "text/plain": [
       "          date      time  Bodyweight    BMI        Fat\n",
       "0   2016-08-30  23:59:59       212.0  29.58        NaN\n",
       "1   2017-01-01  18:25:24       212.1  29.60  29.879999\n",
       "2   2017-01-01  18:59:52       211.6  29.53  29.378000\n",
       "3   2017-01-01  23:59:59       211.5  29.52        NaN\n",
       "4   2017-01-02  10:35:10       206.8  28.86  28.540001\n",
       "..         ...       ...         ...    ...        ...\n",
       "108 2023-01-07  14:36:55       242.6  33.86  29.719999\n",
       "109 2023-01-08  16:33:43       245.1  34.20  33.070000\n",
       "110 2023-03-09  21:36:18       241.1  33.65        NaN\n",
       "111 2023-12-08  11:47:54       239.5  33.43  32.458000\n",
       "112 2024-02-24  13:08:29       238.6  33.30  31.441000\n",
       "\n",
       "[113 rows x 5 columns]"
      ]
     },
     "execution_count": 40,
     "metadata": {},
     "output_type": "execute_result"
    }
   ],
   "source": [
    "df"
   ]
  },
  {
   "cell_type": "markdown",
   "id": "783fc272-4b22-4942-904e-8bcc4b94ce49",
   "metadata": {},
   "source": [
    "\n",
    "#### Activity\n"
   ]
  },
  {
   "cell_type": "markdown",
   "id": "9b057c04-0745-4a1d-a4a4-09e5159fbd99",
   "metadata": {},
   "source": [
    "\n",
    "-  cal_burn\n",
    "-  steps\n",
    "-  distance\n",
    "-  floors\n",
    "-  mins_sedentary\n",
    "-  mins_lightactive\n",
    "-  mins_fairlyactive\n",
    "-  mins_veryactive\n",
    "-  cal_activity\n"
   ]
  },
  {
   "cell_type": "code",
   "execution_count": 46,
   "id": "322feea1-ccf4-4186-a5ca-b4618911e79c",
   "metadata": {},
   "outputs": [
    {
     "data": {
      "text/plain": [
       "['calories-2016-08-29.json',\n",
       " 'calories-2016-09-28.json',\n",
       " 'calories-2016-10-28.json',\n",
       " 'calories-2016-11-27.json',\n",
       " 'calories-2016-12-27.json']"
      ]
     },
     "execution_count": 46,
     "metadata": {},
     "output_type": "execute_result"
    }
   ],
   "source": [
    "calories_files = [file for file in json_files if re.match(r'calories-\\d{4}-\\d{2}-\\d{2}\\.json$', file)]\n",
    "calories_files.sort()\n",
    "calories_files[:5] # Check first 5 are as expected."
   ]
  },
  {
   "cell_type": "code",
   "execution_count": 47,
   "id": "6cd89f21-f032-439d-86b8-13d350ec12a3",
   "metadata": {},
   "outputs": [],
   "source": [
    "# Takes too long since there is 1 .json object for every mintue - should be lazily evaluated and aggregated daily.\n",
    "dfs = []\n",
    "for file in calories_files:\n",
    "    file_path = os.path.join(filepath + '/', file)\n",
    "    df = pd.read_json(file_path)\n",
    "    dfs.append(df)\n",
    "\n",
    "df = pd.concat(dfs, ignore_index=True)"
   ]
  },
  {
   "cell_type": "code",
   "execution_count": 48,
   "id": "7280bf27-5647-4f83-8e80-40d221fd271a",
   "metadata": {},
   "outputs": [
    {
     "data": {
      "text/html": [
       "<div>\n",
       "<style scoped>\n",
       "    .dataframe tbody tr th:only-of-type {\n",
       "        vertical-align: middle;\n",
       "    }\n",
       "\n",
       "    .dataframe tbody tr th {\n",
       "        vertical-align: top;\n",
       "    }\n",
       "\n",
       "    .dataframe thead th {\n",
       "        text-align: right;\n",
       "    }\n",
       "</style>\n",
       "<table border=\"1\" class=\"dataframe\">\n",
       "  <thead>\n",
       "    <tr style=\"text-align: right;\">\n",
       "      <th></th>\n",
       "      <th>dateTime</th>\n",
       "      <th>value</th>\n",
       "    </tr>\n",
       "  </thead>\n",
       "  <tbody>\n",
       "    <tr>\n",
       "      <th>0</th>\n",
       "      <td>2016-08-29 00:00:00</td>\n",
       "      <td>1.35</td>\n",
       "    </tr>\n",
       "    <tr>\n",
       "      <th>1</th>\n",
       "      <td>2016-08-29 00:01:00</td>\n",
       "      <td>1.35</td>\n",
       "    </tr>\n",
       "    <tr>\n",
       "      <th>2</th>\n",
       "      <td>2016-08-29 00:02:00</td>\n",
       "      <td>1.35</td>\n",
       "    </tr>\n",
       "    <tr>\n",
       "      <th>3</th>\n",
       "      <td>2016-08-29 00:03:00</td>\n",
       "      <td>1.35</td>\n",
       "    </tr>\n",
       "    <tr>\n",
       "      <th>4</th>\n",
       "      <td>2016-08-29 00:04:00</td>\n",
       "      <td>1.35</td>\n",
       "    </tr>\n",
       "    <tr>\n",
       "      <th>...</th>\n",
       "      <td>...</td>\n",
       "      <td>...</td>\n",
       "    </tr>\n",
       "    <tr>\n",
       "      <th>3989696</th>\n",
       "      <td>2024-03-30 14:56:00</td>\n",
       "      <td>1.41</td>\n",
       "    </tr>\n",
       "    <tr>\n",
       "      <th>3989697</th>\n",
       "      <td>2024-03-30 14:57:00</td>\n",
       "      <td>1.41</td>\n",
       "    </tr>\n",
       "    <tr>\n",
       "      <th>3989698</th>\n",
       "      <td>2024-03-30 14:58:00</td>\n",
       "      <td>1.41</td>\n",
       "    </tr>\n",
       "    <tr>\n",
       "      <th>3989699</th>\n",
       "      <td>2024-03-30 14:59:00</td>\n",
       "      <td>1.41</td>\n",
       "    </tr>\n",
       "    <tr>\n",
       "      <th>3989700</th>\n",
       "      <td>2024-03-30 15:00:00</td>\n",
       "      <td>1.41</td>\n",
       "    </tr>\n",
       "  </tbody>\n",
       "</table>\n",
       "<p>3989701 rows × 2 columns</p>\n",
       "</div>"
      ],
      "text/plain": [
       "                   dateTime  value\n",
       "0       2016-08-29 00:00:00   1.35\n",
       "1       2016-08-29 00:01:00   1.35\n",
       "2       2016-08-29 00:02:00   1.35\n",
       "3       2016-08-29 00:03:00   1.35\n",
       "4       2016-08-29 00:04:00   1.35\n",
       "...                     ...    ...\n",
       "3989696 2024-03-30 14:56:00   1.41\n",
       "3989697 2024-03-30 14:57:00   1.41\n",
       "3989698 2024-03-30 14:58:00   1.41\n",
       "3989699 2024-03-30 14:59:00   1.41\n",
       "3989700 2024-03-30 15:00:00   1.41\n",
       "\n",
       "[3989701 rows x 2 columns]"
      ]
     },
     "execution_count": 48,
     "metadata": {},
     "output_type": "execute_result"
    }
   ],
   "source": [
    "df"
   ]
  },
  {
   "cell_type": "markdown",
   "id": "cb1526fd-8ef4-4162-9246-4e46780cec5a",
   "metadata": {},
   "source": [
    "\n",
    "#### Resting Heart Rate (RHR)\n"
   ]
  },
  {
   "cell_type": "code",
   "execution_count": 49,
   "id": "d19cde80-f9b9-4c60-b09a-0b5a89326d68",
   "metadata": {},
   "outputs": [
    {
     "data": {
      "text/plain": [
       "['resting_heart_rate-2016-08-29.json',\n",
       " 'resting_heart_rate-2017-08-29.json',\n",
       " 'resting_heart_rate-2018-08-29.json',\n",
       " 'resting_heart_rate-2019-08-29.json',\n",
       " 'resting_heart_rate-2020-08-28.json']"
      ]
     },
     "execution_count": 49,
     "metadata": {},
     "output_type": "execute_result"
    }
   ],
   "source": [
    "# Functionalize this.\n",
    "rhr_files = [file for file in json_files if re.match(r'resting_heart_rate-\\d{4}-\\d{2}-\\d{2}\\.json$', file)]\n",
    "rhr_files.sort()\n",
    "rhr_files[:5] # Check first 5 are as expected."
   ]
  },
  {
   "cell_type": "code",
   "execution_count": 50,
   "id": "178528bd-f99d-4a1d-949e-475be59316a3",
   "metadata": {},
   "outputs": [],
   "source": [
    "dfs = []\n",
    "for file in rhr_files:\n",
    "    file_path = os.path.join(filepath + '/', file)\n",
    "    df = pd.read_json(file_path)\n",
    "    dfs.append(df)\n",
    "\n",
    "df = pd.concat(dfs, ignore_index=True)"
   ]
  },
  {
   "cell_type": "code",
   "execution_count": 121,
   "id": "6651c901-3d9f-448b-bf97-fdad37924f7d",
   "metadata": {},
   "outputs": [
    {
     "data": {
      "text/html": [
       "<div>\n",
       "<style scoped>\n",
       "    .dataframe tbody tr th:only-of-type {\n",
       "        vertical-align: middle;\n",
       "    }\n",
       "\n",
       "    .dataframe tbody tr th {\n",
       "        vertical-align: top;\n",
       "    }\n",
       "\n",
       "    .dataframe thead th {\n",
       "        text-align: right;\n",
       "    }\n",
       "</style>\n",
       "<table border=\"1\" class=\"dataframe\">\n",
       "  <thead>\n",
       "    <tr style=\"text-align: right;\">\n",
       "      <th></th>\n",
       "      <th>date</th>\n",
       "      <th>value</th>\n",
       "      <th>error</th>\n",
       "    </tr>\n",
       "  </thead>\n",
       "  <tbody>\n",
       "    <tr>\n",
       "      <th>1992</th>\n",
       "      <td>2022-02-11</td>\n",
       "      <td>70.424182</td>\n",
       "      <td>6.787087</td>\n",
       "    </tr>\n",
       "    <tr>\n",
       "      <th>1638</th>\n",
       "      <td>2021-02-22</td>\n",
       "      <td>65.628735</td>\n",
       "      <td>6.787087</td>\n",
       "    </tr>\n",
       "    <tr>\n",
       "      <th>1595</th>\n",
       "      <td>2021-01-10</td>\n",
       "      <td>67.416051</td>\n",
       "      <td>6.787087</td>\n",
       "    </tr>\n",
       "    <tr>\n",
       "      <th>2580</th>\n",
       "      <td>2023-09-22</td>\n",
       "      <td>68.201071</td>\n",
       "      <td>6.787736</td>\n",
       "    </tr>\n",
       "    <tr>\n",
       "      <th>1922</th>\n",
       "      <td>2021-12-03</td>\n",
       "      <td>65.439914</td>\n",
       "      <td>6.787087</td>\n",
       "    </tr>\n",
       "  </tbody>\n",
       "</table>\n",
       "</div>"
      ],
      "text/plain": [
       "           date      value     error\n",
       "1992 2022-02-11  70.424182  6.787087\n",
       "1638 2021-02-22  65.628735  6.787087\n",
       "1595 2021-01-10  67.416051  6.787087\n",
       "2580 2023-09-22  68.201071  6.787736\n",
       "1922 2021-12-03  65.439914  6.787087"
      ]
     },
     "execution_count": 121,
     "metadata": {},
     "output_type": "execute_result"
    }
   ],
   "source": [
    "unnested = pd.json_normalize(df['value'])\n",
    "unnested['date'] = unnested['date'].replace({None: np.nan})\n",
    "unnested['date'] = pd.to_datetime(unnested['date'], format='%m/%d/%y')\n",
    "unnested = unnested.dropna(subset='date')\n",
    "unnested.sample(5)"
   ]
  },
  {
   "cell_type": "code",
   "execution_count": 151,
   "id": "1e08028b-1dc3-4a41-8a3e-b5bf2fcb62b9",
   "metadata": {},
   "outputs": [
    {
     "data": {
      "text/html": [
       "\n",
       "<style>\n",
       "  #altair-viz-01b7701f41714e888e607ac649bcf567.vega-embed {\n",
       "    width: 100%;\n",
       "    display: flex;\n",
       "  }\n",
       "\n",
       "  #altair-viz-01b7701f41714e888e607ac649bcf567.vega-embed details,\n",
       "  #altair-viz-01b7701f41714e888e607ac649bcf567.vega-embed details summary {\n",
       "    position: relative;\n",
       "  }\n",
       "</style>\n",
       "<div id=\"altair-viz-01b7701f41714e888e607ac649bcf567\"></div>\n",
       "<script type=\"text/javascript\">\n",
       "  var VEGA_DEBUG = (typeof VEGA_DEBUG == \"undefined\") ? {} : VEGA_DEBUG;\n",
       "  (function(spec, embedOpt){\n",
       "    let outputDiv = document.currentScript.previousElementSibling;\n",
       "    if (outputDiv.id !== \"altair-viz-01b7701f41714e888e607ac649bcf567\") {\n",
       "      outputDiv = document.getElementById(\"altair-viz-01b7701f41714e888e607ac649bcf567\");\n",
       "    }\n",
       "    const paths = {\n",
       "      \"vega\": \"https://cdn.jsdelivr.net/npm/vega@5?noext\",\n",
       "      \"vega-lib\": \"https://cdn.jsdelivr.net/npm/vega-lib?noext\",\n",
       "      \"vega-lite\": \"https://cdn.jsdelivr.net/npm/vega-lite@5.8.0?noext\",\n",
       "      \"vega-embed\": \"https://cdn.jsdelivr.net/npm/vega-embed@6?noext\",\n",
       "    };\n",
       "\n",
       "    function maybeLoadScript(lib, version) {\n",
       "      var key = `${lib.replace(\"-\", \"\")}_version`;\n",
       "      return (VEGA_DEBUG[key] == version) ?\n",
       "        Promise.resolve(paths[lib]) :\n",
       "        new Promise(function(resolve, reject) {\n",
       "          var s = document.createElement('script');\n",
       "          document.getElementsByTagName(\"head\")[0].appendChild(s);\n",
       "          s.async = true;\n",
       "          s.onload = () => {\n",
       "            VEGA_DEBUG[key] = version;\n",
       "            return resolve(paths[lib]);\n",
       "          };\n",
       "          s.onerror = () => reject(`Error loading script: ${paths[lib]}`);\n",
       "          s.src = paths[lib];\n",
       "        });\n",
       "    }\n",
       "\n",
       "    function showError(err) {\n",
       "      outputDiv.innerHTML = `<div class=\"error\" style=\"color:red;\">${err}</div>`;\n",
       "      throw err;\n",
       "    }\n",
       "\n",
       "    function displayChart(vegaEmbed) {\n",
       "      vegaEmbed(outputDiv, spec, embedOpt)\n",
       "        .catch(err => showError(`Javascript Error: ${err.message}<br>This usually means there's a typo in your chart specification. See the javascript console for the full traceback.`));\n",
       "    }\n",
       "\n",
       "    if(typeof define === \"function\" && define.amd) {\n",
       "      requirejs.config({paths});\n",
       "      require([\"vega-embed\"], displayChart, err => showError(`Error loading script: ${err.message}`));\n",
       "    } else {\n",
       "      maybeLoadScript(\"vega\", \"5\")\n",
       "        .then(() => maybeLoadScript(\"vega-lite\", \"5.8.0\"))\n",
       "        .then(() => maybeLoadScript(\"vega-embed\", \"6\"))\n",
       "        .catch(showError)\n",
       "        .then(() => displayChart(vegaEmbed));\n",
       "    }\n",
       "  })({\"config\": {\"view\": {\"continuousWidth\": 300, \"continuousHeight\": 300}}, \"data\": {\"name\": \"data-48fc7a54fc30d1bf2cc1a3853e6d1a14\"}, \"mark\": {\"type\": \"line\"}, \"encoding\": {\"x\": {\"axis\": {\"domainOpacity\": 0, \"format\": \"%b %y\", \"grid\": false}, \"field\": \"date\", \"type\": \"temporal\"}, \"y\": {\"axis\": {\"title\": \"RHR\"}, \"field\": \"value\", \"scale\": {\"domain\": [55.69784069061279, 81.59972667694092]}, \"type\": \"quantitative\"}}, \"title\": \"Resting Heart Rate: Daily\", \"width\": 800, \"$schema\": \"https://vega.github.io/schema/vega-lite/v5.8.0.json\", \"datasets\": {\"data-48fc7a54fc30d1bf2cc1a3853e6d1a14\": [{\"date\": \"2020-09-27T00:00:00\", \"value\": 61.17930793762207, \"error\": 100.0}, {\"date\": \"2020-09-28T00:00:00\", \"value\": 58.69784069061279, \"error\": 13.884297370910645}, {\"date\": \"2020-09-29T00:00:00\", \"value\": 59.768120765686035, \"error\": 8.661454200744629}, {\"date\": \"2020-09-30T00:00:00\", \"value\": 61.45877552032471, \"error\": 11.037053108215332}, {\"date\": \"2020-10-01T00:00:00\", \"value\": 63.51528739929199, \"error\": 8.009252548217773}, {\"date\": \"2020-10-02T00:00:00\", \"value\": 64.94236278533936, \"error\": 7.175229072570801}, {\"date\": \"2020-10-03T00:00:00\", \"value\": 65.09732437133789, \"error\": 6.914004325866699}, {\"date\": \"2020-10-04T00:00:00\", \"value\": 64.62737369537354, \"error\": 6.828975677490234}, {\"date\": \"2020-10-05T00:00:00\", \"value\": 65.77657699584961, \"error\": 6.800954818725586}, {\"date\": \"2020-10-06T00:00:00\", \"value\": 65.14740085601807, \"error\": 6.791682243347168}, {\"date\": \"2020-10-07T00:00:00\", \"value\": 66.00998783111572, \"error\": 6.788610458374023}, {\"date\": \"2020-10-08T00:00:00\", \"value\": 66.01420307159424, \"error\": 6.787591934204102}, {\"date\": \"2020-10-09T00:00:00\", \"value\": 65.12832736968994, \"error\": 6.787254333496094}, {\"date\": \"2020-10-10T00:00:00\", \"value\": 65.56067180633545, \"error\": 6.787142753601074}, {\"date\": \"2020-10-11T00:00:00\", \"value\": 67.19453048706055, \"error\": 6.787105560302734}, {\"date\": \"2020-10-12T00:00:00\", \"value\": 66.6381483078003, \"error\": 6.787093162536621}, {\"date\": \"2020-10-13T00:00:00\", \"value\": 65.78846168518066, \"error\": 6.7870893478393555}, {\"date\": \"2020-10-14T00:00:00\", \"value\": 64.3322286605835, \"error\": 6.787087440490723}, {\"date\": \"2020-10-15T00:00:00\", \"value\": 63.99279022216797, \"error\": 6.787087440490723}, {\"date\": \"2020-10-16T00:00:00\", \"value\": 63.29826831817627, \"error\": 6.787087440490723}, {\"date\": \"2020-10-17T00:00:00\", \"value\": 62.89835739135742, \"error\": 6.787087440490723}, {\"date\": \"2020-10-18T00:00:00\", \"value\": 62.49013710021973, \"error\": 6.787087440490723}, {\"date\": \"2020-10-19T00:00:00\", \"value\": 62.41785907745361, \"error\": 6.787087440490723}, {\"date\": \"2020-10-20T00:00:00\", \"value\": 64.4039945602417, \"error\": 6.787087440490723}, {\"date\": \"2020-10-21T00:00:00\", \"value\": 65.15782833099365, \"error\": 6.787087440490723}, {\"date\": \"2020-10-22T00:00:00\", \"value\": 66.88154315948486, \"error\": 9.208840370178223}, {\"date\": \"2020-10-23T00:00:00\", \"value\": 67.26211833953857, \"error\": 7.52565860748291}, {\"date\": \"2020-10-24T00:00:00\", \"value\": 65.41879463195801, \"error\": 7.025623321533203}, {\"date\": \"2020-10-25T00:00:00\", \"value\": 67.04439544677734, \"error\": 6.865501403808594}, {\"date\": \"2020-10-26T00:00:00\", \"value\": 65.32633018493652, \"error\": 6.81301212310791}, {\"date\": \"2020-10-27T00:00:00\", \"value\": 66.92115306854248, \"error\": 6.7956743240356445}, {\"date\": \"2020-10-28T00:00:00\", \"value\": 64.85653781890869, \"error\": 6.789933204650879}, {\"date\": \"2020-10-29T00:00:00\", \"value\": 63.573994636535645, \"error\": 6.788030624389648}, {\"date\": \"2020-10-30T00:00:00\", \"value\": 63.19758892059326, \"error\": 6.787400245666504}, {\"date\": \"2020-10-31T00:00:00\", \"value\": 63.15316677093506, \"error\": 6.787191390991211}, {\"date\": \"2020-11-01T00:00:00\", \"value\": 64.11883640289307, \"error\": 6.787121772766113}, {\"date\": \"2020-11-02T00:00:00\", \"value\": 65.25608444213867, \"error\": 6.7870988845825195}, {\"date\": \"2020-11-03T00:00:00\", \"value\": 65.18673992156982, \"error\": 6.787091255187988}, {\"date\": \"2020-11-04T00:00:00\", \"value\": 66.91987705230713, \"error\": 6.787088394165039}, {\"date\": \"2020-11-05T00:00:00\", \"value\": 68.10676288604736, \"error\": 6.787087440490723}, {\"date\": \"2020-11-06T00:00:00\", \"value\": 67.68455505371094, \"error\": 6.787087440490723}, {\"date\": \"2020-11-07T00:00:00\", \"value\": 67.4910717010498, \"error\": 6.787087440490723}, {\"date\": \"2020-11-08T00:00:00\", \"value\": 65.87872409820557, \"error\": 6.787087440490723}, {\"date\": \"2020-11-09T00:00:00\", \"value\": 67.7737283706665, \"error\": 6.787087440490723}, {\"date\": \"2020-11-10T00:00:00\", \"value\": 67.76792907714844, \"error\": 6.787087440490723}, {\"date\": \"2020-11-11T00:00:00\", \"value\": 66.7560510635376, \"error\": 6.787087440490723}, {\"date\": \"2020-11-12T00:00:00\", \"value\": 65.73170852661133, \"error\": 6.787087440490723}, {\"date\": \"2020-11-13T00:00:00\", \"value\": 65.14188480377197, \"error\": 6.787087440490723}, {\"date\": \"2020-11-14T00:00:00\", \"value\": 66.31854438781738, \"error\": 6.787087440490723}, {\"date\": \"2020-11-15T00:00:00\", \"value\": 64.97436141967773, \"error\": 6.787087440490723}, {\"date\": \"2020-11-16T00:00:00\", \"value\": 65.71665477752686, \"error\": 6.787087440490723}, {\"date\": \"2020-11-17T00:00:00\", \"value\": 64.93715858459473, \"error\": 6.787087440490723}, {\"date\": \"2020-11-18T00:00:00\", \"value\": 64.80755043029785, \"error\": 6.787087440490723}, {\"date\": \"2020-11-19T00:00:00\", \"value\": 64.56441688537598, \"error\": 6.787087440490723}, {\"date\": \"2020-11-20T00:00:00\", \"value\": 65.98816776275635, \"error\": 6.787087440490723}, {\"date\": \"2020-11-21T00:00:00\", \"value\": 66.63254165649414, \"error\": 6.787087440490723}, {\"date\": \"2020-11-22T00:00:00\", \"value\": 67.34141254425049, \"error\": 6.787087440490723}, {\"date\": \"2020-11-23T00:00:00\", \"value\": 65.73032093048096, \"error\": 6.787087440490723}, {\"date\": \"2020-11-24T00:00:00\", \"value\": 65.35514545440674, \"error\": 6.787087440490723}, {\"date\": \"2020-11-25T00:00:00\", \"value\": 65.00237369537354, \"error\": 6.787087440490723}, {\"date\": \"2020-11-26T00:00:00\", \"value\": 65.1327772140503, \"error\": 6.787087440490723}, {\"date\": \"2020-11-27T00:00:00\", \"value\": 64.19374561309814, \"error\": 6.787087440490723}, {\"date\": \"2020-11-28T00:00:00\", \"value\": 64.54308223724365, \"error\": 6.787087440490723}, {\"date\": \"2020-11-29T00:00:00\", \"value\": 64.14002895355225, \"error\": 6.787087440490723}, {\"date\": \"2020-11-30T00:00:00\", \"value\": 65.03132629394531, \"error\": 6.787087440490723}, {\"date\": \"2020-12-01T00:00:00\", \"value\": 64.68999862670898, \"error\": 6.787087440490723}, {\"date\": \"2020-12-02T00:00:00\", \"value\": 64.980544090271, \"error\": 6.787087440490723}, {\"date\": \"2020-12-03T00:00:00\", \"value\": 66.34792137145996, \"error\": 6.787087440490723}, {\"date\": \"2020-12-04T00:00:00\", \"value\": 66.13762283325195, \"error\": 6.787087440490723}, {\"date\": \"2020-12-05T00:00:00\", \"value\": 66.51535320281982, \"error\": 6.787087440490723}, {\"date\": \"2020-12-06T00:00:00\", \"value\": 68.02413749694824, \"error\": 6.787087440490723}, {\"date\": \"2020-12-07T00:00:00\", \"value\": 66.68162631988525, \"error\": 6.787087440490723}, {\"date\": \"2020-12-08T00:00:00\", \"value\": 66.50189399719238, \"error\": 6.787087440490723}, {\"date\": \"2020-12-09T00:00:00\", \"value\": 67.2928819656372, \"error\": 6.787087440490723}, {\"date\": \"2020-12-10T00:00:00\", \"value\": 68.76590347290039, \"error\": 6.787087440490723}, {\"date\": \"2020-12-11T00:00:00\", \"value\": 70.12286281585693, \"error\": 6.787087440490723}, {\"date\": \"2020-12-12T00:00:00\", \"value\": 70.90570068359375, \"error\": 6.787087440490723}, {\"date\": \"2020-12-13T00:00:00\", \"value\": 69.30544090270996, \"error\": 6.787087440490723}, {\"date\": \"2020-12-14T00:00:00\", \"value\": 68.57405853271484, \"error\": 6.787087440490723}, {\"date\": \"2020-12-15T00:00:00\", \"value\": 66.64410781860352, \"error\": 6.787087440490723}, {\"date\": \"2020-12-16T00:00:00\", \"value\": 65.73009490966797, \"error\": 6.787087440490723}, {\"date\": \"2020-12-17T00:00:00\", \"value\": 65.2037992477417, \"error\": 6.787087440490723}, {\"date\": \"2020-12-18T00:00:00\", \"value\": 67.74789333343506, \"error\": 6.790488243103027}, {\"date\": \"2020-12-19T00:00:00\", \"value\": 69.11403179168701, \"error\": 6.788214683532715}, {\"date\": \"2020-12-20T00:00:00\", \"value\": 69.01143550872803, \"error\": 6.787461280822754}, {\"date\": \"2020-12-21T00:00:00\", \"value\": 67.44121074676514, \"error\": 6.7872114181518555}, {\"date\": \"2020-12-22T00:00:00\", \"value\": 67.54451084136963, \"error\": 6.787128448486328}, {\"date\": \"2020-12-23T00:00:00\", \"value\": 68.3337516784668, \"error\": 6.787100791931152}, {\"date\": \"2020-12-24T00:00:00\", \"value\": 69.42616176605225, \"error\": 6.787091255187988}, {\"date\": \"2020-12-25T00:00:00\", \"value\": 70.64062404632568, \"error\": 6.787088394165039}, {\"date\": \"2020-12-26T00:00:00\", \"value\": 69.29561614990234, \"error\": 6.787087440490723}, {\"date\": \"2020-12-27T00:00:00\", \"value\": 69.54330253601074, \"error\": 6.787087440490723}, {\"date\": \"2020-12-28T00:00:00\", \"value\": 68.20380210876465, \"error\": 6.787087440490723}, {\"date\": \"2020-12-29T00:00:00\", \"value\": 68.31735420227051, \"error\": 6.787087440490723}, {\"date\": \"2020-12-30T00:00:00\", \"value\": 66.82112979888916, \"error\": 6.787087440490723}, {\"date\": \"2020-12-31T00:00:00\", \"value\": 65.83646583557129, \"error\": 6.787087440490723}, {\"date\": \"2021-01-01T00:00:00\", \"value\": 66.30018615722656, \"error\": 6.787087440490723}, {\"date\": \"2021-01-02T00:00:00\", \"value\": 67.58116722106934, \"error\": 6.787087440490723}, {\"date\": \"2021-01-03T00:00:00\", \"value\": 67.76771259307861, \"error\": 6.787087440490723}, {\"date\": \"2021-01-04T00:00:00\", \"value\": 67.87512683868408, \"error\": 6.787087440490723}, {\"date\": \"2021-01-05T00:00:00\", \"value\": 66.89741516113281, \"error\": 6.787087440490723}, {\"date\": \"2021-01-06T00:00:00\", \"value\": 66.36924362182617, \"error\": 6.787087440490723}, {\"date\": \"2021-01-07T00:00:00\", \"value\": 67.6358585357666, \"error\": 6.787087440490723}, {\"date\": \"2021-01-08T00:00:00\", \"value\": 67.03992938995361, \"error\": 6.787087440490723}, {\"date\": \"2021-01-09T00:00:00\", \"value\": 67.54418468475342, \"error\": 6.787087440490723}, {\"date\": \"2021-01-10T00:00:00\", \"value\": 67.4160509109497, \"error\": 6.787087440490723}, {\"date\": \"2021-01-11T00:00:00\", \"value\": 64.91870880126953, \"error\": 6.939487457275391}, {\"date\": \"2021-01-12T00:00:00\", \"value\": 65.56715965270996, \"error\": 6.837340354919434}, {\"date\": \"2021-01-13T00:00:00\", \"value\": 66.44115829467773, \"error\": 6.803718566894531}, {\"date\": \"2021-01-14T00:00:00\", \"value\": 66.94268321990967, \"error\": 6.792597770690918}, {\"date\": \"2021-01-15T00:00:00\", \"value\": 67.01886558532715, \"error\": 6.788913726806641}, {\"date\": \"2021-01-16T00:00:00\", \"value\": 68.03150177001953, \"error\": 6.787693023681641}, {\"date\": \"2021-01-17T00:00:00\", \"value\": 67.59925842285156, \"error\": 6.787287712097168}, {\"date\": \"2021-01-18T00:00:00\", \"value\": 67.35037994384766, \"error\": 6.787153244018555}, {\"date\": \"2021-01-19T00:00:00\", \"value\": 65.17662239074707, \"error\": 6.787109375}, {\"date\": \"2021-01-20T00:00:00\", \"value\": 65.95541191101074, \"error\": 6.7870941162109375}, {\"date\": \"2021-01-21T00:00:00\", \"value\": 68.0466480255127, \"error\": 6.7870893478393555}, {\"date\": \"2021-01-22T00:00:00\", \"value\": 66.26089668273926, \"error\": 6.787087440490723}, {\"date\": \"2021-01-23T00:00:00\", \"value\": 64.56756210327148, \"error\": 6.787087440490723}, {\"date\": \"2021-01-24T00:00:00\", \"value\": 64.35243225097656, \"error\": 6.787087440490723}, {\"date\": \"2021-01-25T00:00:00\", \"value\": 64.73178005218506, \"error\": 6.787087440490723}, {\"date\": \"2021-01-26T00:00:00\", \"value\": 64.44699001312256, \"error\": 6.787087440490723}, {\"date\": \"2021-01-27T00:00:00\", \"value\": 65.28944873809814, \"error\": 6.787087440490723}, {\"date\": \"2021-01-29T00:00:00\", \"value\": 66.67341804504395, \"error\": 7.107123374938965}, {\"date\": \"2021-01-30T00:00:00\", \"value\": 66.11946964263916, \"error\": 6.8919878005981445}, {\"date\": \"2021-01-31T00:00:00\", \"value\": 65.3007755279541, \"error\": 6.8217363357543945}, {\"date\": \"2021-02-01T00:00:00\", \"value\": 64.60235023498535, \"error\": 6.798561096191406}, {\"date\": \"2021-02-02T00:00:00\", \"value\": 63.21867275238037, \"error\": 6.790889739990234}, {\"date\": \"2021-02-03T00:00:00\", \"value\": 62.984036445617676, \"error\": 6.788347244262695}, {\"date\": \"2021-02-04T00:00:00\", \"value\": 62.35667133331299, \"error\": 6.787505149841309}, {\"date\": \"2021-02-05T00:00:00\", \"value\": 64.8593225479126, \"error\": 6.922929763793945}, {\"date\": \"2021-02-06T00:00:00\", \"value\": 66.41303443908691, \"error\": 6.831907272338867}, {\"date\": \"2021-02-07T00:00:00\", \"value\": 66.31229782104492, \"error\": 6.801923751831055}, {\"date\": \"2021-02-08T00:00:00\", \"value\": 65.76163291931152, \"error\": 6.792003631591797}, {\"date\": \"2021-02-09T00:00:00\", \"value\": 65.44487857818604, \"error\": 6.788717269897461}, {\"date\": \"2021-02-10T00:00:00\", \"value\": 64.77003002166748, \"error\": 6.787627220153809}, {\"date\": \"2021-02-11T00:00:00\", \"value\": 65.8589735031128, \"error\": 6.787265777587891}, {\"date\": \"2021-02-12T00:00:00\", \"value\": 67.37244510650635, \"error\": 6.78714656829834}, {\"date\": \"2021-02-13T00:00:00\", \"value\": 66.86495113372803, \"error\": 6.787106513977051}, {\"date\": \"2021-02-14T00:00:00\", \"value\": 65.58777046203613, \"error\": 6.787093162536621}, {\"date\": \"2021-02-15T00:00:00\", \"value\": 65.83732414245605, \"error\": 6.7870893478393555}, {\"date\": \"2021-02-16T00:00:00\", \"value\": 64.99605655670166, \"error\": 6.787087440490723}, {\"date\": \"2021-02-17T00:00:00\", \"value\": 65.49661159515381, \"error\": 6.787087440490723}, {\"date\": \"2021-02-18T00:00:00\", \"value\": 65.29235363006592, \"error\": 6.787087440490723}, {\"date\": \"2021-02-19T00:00:00\", \"value\": 66.86983871459961, \"error\": 6.787087440490723}, {\"date\": \"2021-02-20T00:00:00\", \"value\": 67.75203323364258, \"error\": 6.787087440490723}, {\"date\": \"2021-02-21T00:00:00\", \"value\": 66.27709770202637, \"error\": 6.787087440490723}, {\"date\": \"2021-02-22T00:00:00\", \"value\": 65.62873458862305, \"error\": 6.787087440490723}, {\"date\": \"2021-02-23T00:00:00\", \"value\": 64.81398677825928, \"error\": 6.787087440490723}, {\"date\": \"2021-02-24T00:00:00\", \"value\": 64.27046012878418, \"error\": 6.787087440490723}, {\"date\": \"2021-02-25T00:00:00\", \"value\": 62.9246883392334, \"error\": 6.787087440490723}, {\"date\": \"2021-02-26T00:00:00\", \"value\": 62.71116256713867, \"error\": 6.787087440490723}, {\"date\": \"2021-02-27T00:00:00\", \"value\": 64.42094898223877, \"error\": 6.787087440490723}, {\"date\": \"2021-02-28T00:00:00\", \"value\": 65.02130031585693, \"error\": 6.787087440490723}, {\"date\": \"2021-03-01T00:00:00\", \"value\": 63.89713096618652, \"error\": 6.787087440490723}, {\"date\": \"2021-03-02T00:00:00\", \"value\": 62.75987434387207, \"error\": 6.787087440490723}, {\"date\": \"2021-03-03T00:00:00\", \"value\": 64.0648422241211, \"error\": 6.787087440490723}, {\"date\": \"2021-03-04T00:00:00\", \"value\": 64.3262996673584, \"error\": 6.787087440490723}, {\"date\": \"2021-03-05T00:00:00\", \"value\": 63.496944427490234, \"error\": 6.787087440490723}, {\"date\": \"2021-03-06T00:00:00\", \"value\": 64.4892520904541, \"error\": 6.787087440490723}, {\"date\": \"2021-03-07T00:00:00\", \"value\": 65.07177829742432, \"error\": 6.787087440490723}, {\"date\": \"2021-03-08T00:00:00\", \"value\": 66.65426826477051, \"error\": 6.787087440490723}, {\"date\": \"2021-03-09T00:00:00\", \"value\": 66.04731273651123, \"error\": 6.787087440490723}, {\"date\": \"2021-03-10T00:00:00\", \"value\": 67.63938999176025, \"error\": 6.787087440490723}, {\"date\": \"2021-03-11T00:00:00\", \"value\": 69.80193614959717, \"error\": 7.971217155456543}, {\"date\": \"2021-03-12T00:00:00\", \"value\": 69.3690013885498, \"error\": 7.163642883300781}, {\"date\": \"2021-03-13T00:00:00\", \"value\": 66.91701793670654, \"error\": 7.369006156921387}, {\"date\": \"2021-03-14T00:00:00\", \"value\": 64.45440292358398, \"error\": 7.491260528564453}, {\"date\": \"2021-03-15T00:00:00\", \"value\": 63.29813194274902, \"error\": 7.014787673950195}, {\"date\": \"2021-03-16T00:00:00\", \"value\": 64.13581562042236, \"error\": 6.861968040466309}, {\"date\": \"2021-03-17T00:00:00\", \"value\": 63.700079917907715, \"error\": 6.811847686767578}, {\"date\": \"2021-03-18T00:00:00\", \"value\": 63.450462341308594, \"error\": 6.795289039611816}, {\"date\": \"2021-03-19T00:00:00\", \"value\": 64.66673469543457, \"error\": 6.7898054122924805}, {\"date\": \"2021-03-20T00:00:00\", \"value\": 66.2737169265747, \"error\": 6.787988662719727}, {\"date\": \"2021-03-21T00:00:00\", \"value\": 65.9939079284668, \"error\": 6.787385940551758}, {\"date\": \"2021-03-22T00:00:00\", \"value\": 67.50688457489014, \"error\": 6.787186622619629}, {\"date\": \"2021-03-23T00:00:00\", \"value\": 68.37804889678955, \"error\": 6.7871198654174805}, {\"date\": \"2021-03-24T00:00:00\", \"value\": 69.34811973571777, \"error\": 6.787097930908203}, {\"date\": \"2021-03-25T00:00:00\", \"value\": 69.63286113739014, \"error\": 6.787090301513672}, {\"date\": \"2021-03-26T00:00:00\", \"value\": 67.32167339324951, \"error\": 6.787088394165039}, {\"date\": \"2021-03-27T00:00:00\", \"value\": 68.58779048919678, \"error\": 6.787087440490723}, {\"date\": \"2021-03-28T00:00:00\", \"value\": 68.77006530761719, \"error\": 6.787087440490723}, {\"date\": \"2021-03-29T00:00:00\", \"value\": 67.93060970306396, \"error\": 6.787087440490723}, {\"date\": \"2021-03-30T00:00:00\", \"value\": 70.06282615661621, \"error\": 6.787087440490723}, {\"date\": \"2021-03-31T00:00:00\", \"value\": 70.07473373413086, \"error\": 6.787087440490723}, {\"date\": \"2021-04-01T00:00:00\", \"value\": 68.86766815185547, \"error\": 6.787087440490723}, {\"date\": \"2021-04-02T00:00:00\", \"value\": 69.15601634979248, \"error\": 6.787087440490723}, {\"date\": \"2021-04-03T00:00:00\", \"value\": 69.81374073028564, \"error\": 6.787087440490723}, {\"date\": \"2021-04-04T00:00:00\", \"value\": 68.22569465637207, \"error\": 6.787087440490723}, {\"date\": \"2021-04-05T00:00:00\", \"value\": 66.81959438323975, \"error\": 6.787087440490723}, {\"date\": \"2021-04-06T00:00:00\", \"value\": 67.65049076080322, \"error\": 6.787087440490723}, {\"date\": \"2021-04-07T00:00:00\", \"value\": 68.31015872955322, \"error\": 6.787087440490723}, {\"date\": \"2021-04-08T00:00:00\", \"value\": 67.01774215698242, \"error\": 6.787087440490723}, {\"date\": \"2021-04-09T00:00:00\", \"value\": 65.97374725341797, \"error\": 6.787087440490723}, {\"date\": \"2021-04-10T00:00:00\", \"value\": 66.5928258895874, \"error\": 6.787087440490723}, {\"date\": \"2021-04-11T00:00:00\", \"value\": 68.72053146362305, \"error\": 8.07465934753418}, {\"date\": \"2021-04-12T00:00:00\", \"value\": 68.14161682128906, \"error\": 7.195080757141113}, {\"date\": \"2021-04-13T00:00:00\", \"value\": 67.83519744873047, \"error\": 6.920401573181152}, {\"date\": \"2021-04-14T00:00:00\", \"value\": 67.6635570526123, \"error\": 6.831076622009277}, {\"date\": \"2021-04-15T00:00:00\", \"value\": 66.42363452911377, \"error\": 6.80164909362793}, {\"date\": \"2021-04-16T00:00:00\", \"value\": 66.35628128051758, \"error\": 6.791913032531738}, {\"date\": \"2021-04-17T00:00:00\", \"value\": 67.68350410461426, \"error\": 6.788686752319336}, {\"date\": \"2021-04-18T00:00:00\", \"value\": 67.32386207580566, \"error\": 6.7876176834106445}, {\"date\": \"2021-04-19T00:00:00\", \"value\": 66.12199306488037, \"error\": 6.787262916564941}, {\"date\": \"2021-04-20T00:00:00\", \"value\": 67.41955280303955, \"error\": 6.787145614624023}, {\"date\": \"2021-04-21T00:00:00\", \"value\": 66.67451190948486, \"error\": 6.787106513977051}, {\"date\": \"2021-04-22T00:00:00\", \"value\": 65.66575050354004, \"error\": 6.787093162536621}, {\"date\": \"2021-04-23T00:00:00\", \"value\": 65.08489990234375, \"error\": 6.7870893478393555}, {\"date\": \"2021-04-24T00:00:00\", \"value\": 65.53594589233398, \"error\": 6.787087440490723}, {\"date\": \"2021-04-25T00:00:00\", \"value\": 66.1947374343872, \"error\": 6.787087440490723}, {\"date\": \"2021-04-26T00:00:00\", \"value\": 66.07479858398438, \"error\": 6.787087440490723}, {\"date\": \"2021-04-27T00:00:00\", \"value\": 68.27597904205322, \"error\": 6.787087440490723}, {\"date\": \"2021-04-28T00:00:00\", \"value\": 68.05673027038574, \"error\": 6.787087440490723}, {\"date\": \"2021-04-29T00:00:00\", \"value\": 66.44378089904785, \"error\": 6.787087440490723}, {\"date\": \"2021-04-30T00:00:00\", \"value\": 66.7918529510498, \"error\": 6.787087440490723}, {\"date\": \"2021-05-01T00:00:00\", \"value\": 68.99459457397461, \"error\": 6.787087440490723}, {\"date\": \"2021-05-02T00:00:00\", \"value\": 66.92994022369385, \"error\": 6.787087440490723}, {\"date\": \"2021-05-03T00:00:00\", \"value\": 67.00193786621094, \"error\": 6.787087440490723}, {\"date\": \"2021-05-04T00:00:00\", \"value\": 67.58117580413818, \"error\": 6.787087440490723}, {\"date\": \"2021-05-05T00:00:00\", \"value\": 67.91470527648926, \"error\": 6.787087440490723}, {\"date\": \"2021-05-06T00:00:00\", \"value\": 67.92918395996094, \"error\": 6.787087440490723}, {\"date\": \"2021-05-07T00:00:00\", \"value\": 68.43720626831055, \"error\": 6.787087440490723}, {\"date\": \"2021-05-08T00:00:00\", \"value\": 67.0070858001709, \"error\": 6.787087440490723}, {\"date\": \"2021-05-09T00:00:00\", \"value\": 69.34219741821289, \"error\": 7.447539329528809}, {\"date\": \"2021-05-10T00:00:00\", \"value\": 69.05795669555664, \"error\": 7.000978469848633}, {\"date\": \"2021-05-11T00:00:00\", \"value\": 67.28654861450195, \"error\": 6.857461929321289}, {\"date\": \"2021-05-12T00:00:00\", \"value\": 66.28130340576172, \"error\": 6.810360908508301}, {\"date\": \"2021-05-13T00:00:00\", \"value\": 64.64355754852295, \"error\": 6.794796943664551}, {\"date\": \"2021-05-14T00:00:00\", \"value\": 66.91660022735596, \"error\": 6.789642333984375}, {\"date\": \"2021-05-15T00:00:00\", \"value\": 67.09457969665527, \"error\": 6.787934303283691}, {\"date\": \"2021-05-16T00:00:00\", \"value\": 66.62292098999023, \"error\": 6.787367820739746}, {\"date\": \"2021-05-17T00:00:00\", \"value\": 66.32563209533691, \"error\": 10.70007610321045}, {\"date\": \"2021-05-18T00:00:00\", \"value\": 69.00395679473877, \"error\": 7.924308776855469}, {\"date\": \"2021-05-19T00:00:00\", \"value\": 69.0780086517334, \"error\": 7.149312973022461}, {\"date\": \"2021-05-20T00:00:00\", \"value\": 68.8026704788208, \"error\": 6.905638694763184}, {\"date\": \"2021-05-21T00:00:00\", \"value\": 68.73004913330078, \"error\": 6.826226234436035}, {\"date\": \"2021-05-22T00:00:00\", \"value\": 67.66246128082275, \"error\": 6.800045967102051}, {\"date\": \"2021-05-23T00:00:00\", \"value\": 66.3132791519165, \"error\": 6.7913818359375}, {\"date\": \"2021-05-24T00:00:00\", \"value\": 65.61628150939941, \"error\": 6.788511276245117}, {\"date\": \"2021-05-25T00:00:00\", \"value\": 64.2353162765503, \"error\": 6.787559509277344}, {\"date\": \"2021-05-26T00:00:00\", \"value\": 64.10084056854248, \"error\": 6.787243843078613}, {\"date\": \"2021-05-27T00:00:00\", \"value\": 63.53923416137695, \"error\": 6.787138938903809}, {\"date\": \"2021-05-28T00:00:00\", \"value\": 64.15596675872803, \"error\": 6.787104606628418}, {\"date\": \"2021-05-29T00:00:00\", \"value\": 66.19386196136475, \"error\": 6.787093162536621}, {\"date\": \"2021-05-30T00:00:00\", \"value\": 67.23668193817139, \"error\": 6.7870893478393555}, {\"date\": \"2021-05-31T00:00:00\", \"value\": 65.05516529083252, \"error\": 6.787087440490723}, {\"date\": \"2021-06-01T00:00:00\", \"value\": 66.38969326019287, \"error\": 6.787087440490723}, {\"date\": \"2021-06-02T00:00:00\", \"value\": 64.70638942718506, \"error\": 6.787087440490723}, {\"date\": \"2021-06-03T00:00:00\", \"value\": 63.31853199005127, \"error\": 6.787087440490723}, {\"date\": \"2021-06-04T00:00:00\", \"value\": 63.121591567993164, \"error\": 6.787087440490723}, {\"date\": \"2021-06-05T00:00:00\", \"value\": 63.324421882629395, \"error\": 6.787087440490723}, {\"date\": \"2021-06-06T00:00:00\", \"value\": 64.03226852416992, \"error\": 6.787087440490723}, {\"date\": \"2021-06-07T00:00:00\", \"value\": 65.41860008239746, \"error\": 6.787087440490723}, {\"date\": \"2021-06-08T00:00:00\", \"value\": 65.71092414855957, \"error\": 6.787087440490723}, {\"date\": \"2021-06-09T00:00:00\", \"value\": 65.41092109680176, \"error\": 6.787087440490723}, {\"date\": \"2021-06-10T00:00:00\", \"value\": 65.27986526489258, \"error\": 6.787087440490723}, {\"date\": \"2021-06-11T00:00:00\", \"value\": 64.9034652709961, \"error\": 6.787087440490723}, {\"date\": \"2021-06-12T00:00:00\", \"value\": 64.5907850265503, \"error\": 6.787087440490723}, {\"date\": \"2021-06-13T00:00:00\", \"value\": 66.98493671417236, \"error\": 6.787087440490723}, {\"date\": \"2021-06-14T00:00:00\", \"value\": 69.40594863891602, \"error\": 6.787087440490723}, {\"date\": \"2021-06-15T00:00:00\", \"value\": 67.06514549255371, \"error\": 7.429965972900391}, {\"date\": \"2021-06-16T00:00:00\", \"value\": 64.44681358337402, \"error\": 7.012355804443359}, {\"date\": \"2021-06-17T00:00:00\", \"value\": 64.00053787231445, \"error\": 6.861175537109375}, {\"date\": \"2021-06-18T00:00:00\", \"value\": 65.16282272338867, \"error\": 6.811586380004883}, {\"date\": \"2021-06-19T00:00:00\", \"value\": 65.79734897613525, \"error\": 6.79520320892334}, {\"date\": \"2021-06-20T00:00:00\", \"value\": 66.8261775970459, \"error\": 6.789776802062988}, {\"date\": \"2021-06-21T00:00:00\", \"value\": 66.38289737701416, \"error\": 6.7879791259765625}, {\"date\": \"2021-06-22T00:00:00\", \"value\": 65.65017890930176, \"error\": 6.787383079528809}, {\"date\": \"2021-06-23T00:00:00\", \"value\": 65.59549522399902, \"error\": 6.7871856689453125}, {\"date\": \"2021-06-24T00:00:00\", \"value\": 66.41834735870361, \"error\": 6.7871198654174805}, {\"date\": \"2021-06-25T00:00:00\", \"value\": 66.63864421844482, \"error\": 6.787097930908203}, {\"date\": \"2021-06-26T00:00:00\", \"value\": 65.81971168518066, \"error\": 6.787090301513672}, {\"date\": \"2021-06-27T00:00:00\", \"value\": 65.71985054016113, \"error\": 6.787088394165039}, {\"date\": \"2021-06-28T00:00:00\", \"value\": 64.89985942840576, \"error\": 6.787087440490723}, {\"date\": \"2021-06-29T00:00:00\", \"value\": 64.96914863586426, \"error\": 6.787087440490723}, {\"date\": \"2021-06-30T00:00:00\", \"value\": 63.8864107131958, \"error\": 6.787087440490723}, {\"date\": \"2021-07-01T00:00:00\", \"value\": 63.55544090270996, \"error\": 6.787087440490723}, {\"date\": \"2021-07-02T00:00:00\", \"value\": 63.443087577819824, \"error\": 6.787087440490723}, {\"date\": \"2021-07-03T00:00:00\", \"value\": 65.29617118835449, \"error\": 8.859731674194336}, {\"date\": \"2021-07-04T00:00:00\", \"value\": 63.439059257507324, \"error\": 7.426580429077148}, {\"date\": \"2021-07-05T00:00:00\", \"value\": 62.90500831604004, \"error\": 6.9943437576293945}, {\"date\": \"2021-07-06T00:00:00\", \"value\": 62.68484878540039, \"error\": 6.855295181274414}, {\"date\": \"2021-07-07T00:00:00\", \"value\": 62.9926061630249, \"error\": 6.8096466064453125}, {\"date\": \"2021-07-08T00:00:00\", \"value\": 62.5813627243042, \"error\": 6.794560432434082}, {\"date\": \"2021-07-09T00:00:00\", \"value\": 64.01325798034668, \"error\": 6.78956413269043}, {\"date\": \"2021-07-10T00:00:00\", \"value\": 62.39036560058594, \"error\": 6.787908554077148}, {\"date\": \"2021-07-11T00:00:00\", \"value\": 61.90187454223633, \"error\": 6.787359237670898}, {\"date\": \"2021-07-12T00:00:00\", \"value\": 64.20393466949463, \"error\": 7.549455642700195}, {\"date\": \"2021-07-13T00:00:00\", \"value\": 63.93590259552002, \"error\": 7.033103942871094}, {\"date\": \"2021-07-14T00:00:00\", \"value\": 64.90202045440674, \"error\": 6.867938995361328}, {\"date\": \"2021-07-15T00:00:00\", \"value\": 65.06823825836182, \"error\": 6.813816070556641}, {\"date\": \"2021-07-16T00:00:00\", \"value\": 65.83722686767578, \"error\": 6.795940399169922}, {\"date\": \"2021-07-17T00:00:00\", \"value\": 66.10553741455078, \"error\": 6.790021896362305}, {\"date\": \"2021-07-18T00:00:00\", \"value\": 65.74433517456055, \"error\": 6.788060188293457}, {\"date\": \"2021-07-19T00:00:00\", \"value\": 64.70022106170654, \"error\": 6.787409782409668}, {\"date\": \"2021-07-20T00:00:00\", \"value\": 63.8320951461792, \"error\": 6.78719425201416}, {\"date\": \"2021-07-21T00:00:00\", \"value\": 65.4832820892334, \"error\": 6.78712272644043}, {\"date\": \"2021-07-22T00:00:00\", \"value\": 64.28217029571533, \"error\": 6.7870988845825195}, {\"date\": \"2021-07-23T00:00:00\", \"value\": 66.2216911315918, \"error\": 6.787091255187988}, {\"date\": \"2021-07-24T00:00:00\", \"value\": 65.7363224029541, \"error\": 6.787088394165039}, {\"date\": \"2021-07-25T00:00:00\", \"value\": 64.95940685272217, \"error\": 6.787087440490723}, {\"date\": \"2021-07-26T00:00:00\", \"value\": 64.47317695617676, \"error\": 6.787087440490723}, {\"date\": \"2021-07-27T00:00:00\", \"value\": 64.36090183258057, \"error\": 6.787087440490723}, {\"date\": \"2021-07-28T00:00:00\", \"value\": 63.91313934326172, \"error\": 6.787087440490723}, {\"date\": \"2021-07-29T00:00:00\", \"value\": 64.05211639404297, \"error\": 6.787087440490723}, {\"date\": \"2021-07-30T00:00:00\", \"value\": 62.900946617126465, \"error\": 6.787087440490723}, {\"date\": \"2021-07-31T00:00:00\", \"value\": 62.82820987701416, \"error\": 6.787087440490723}, {\"date\": \"2021-08-01T00:00:00\", \"value\": 62.83925724029541, \"error\": 6.787087440490723}, {\"date\": \"2021-08-02T00:00:00\", \"value\": 62.84561824798584, \"error\": 6.787087440490723}, {\"date\": \"2021-08-03T00:00:00\", \"value\": 62.849281311035156, \"error\": 6.787087440490723}, {\"date\": \"2021-08-04T00:00:00\", \"value\": 64.95838832855225, \"error\": 6.787087440490723}, {\"date\": \"2021-08-05T00:00:00\", \"value\": 65.74902153015137, \"error\": 6.787087440490723}, {\"date\": \"2021-08-06T00:00:00\", \"value\": 65.679931640625, \"error\": 10.699845314025879}, {\"date\": \"2021-08-07T00:00:00\", \"value\": 62.76201915740967, \"error\": 7.924250602722168}, {\"date\": \"2021-08-08T00:00:00\", \"value\": 63.29472541809082, \"error\": 7.149294853210449}, {\"date\": \"2021-08-09T00:00:00\", \"value\": 62.876742362976074, \"error\": 6.905632972717285}, {\"date\": \"2021-08-10T00:00:00\", \"value\": 62.8992395401001, \"error\": 6.826224327087402}, {\"date\": \"2021-08-11T00:00:00\", \"value\": 61.5507926940918, \"error\": 6.800045013427734}, {\"date\": \"2021-08-13T00:00:00\", \"value\": 61.78095531463623, \"error\": 7.111124992370605}, {\"date\": \"2021-08-14T00:00:00\", \"value\": 62.30978202819824, \"error\": 6.893284797668457}, {\"date\": \"2021-08-15T00:00:00\", \"value\": 61.974456787109375, \"error\": 6.8221635818481445}, {\"date\": \"2021-08-16T00:00:00\", \"value\": 62.44871139526367, \"error\": 6.798702239990234}, {\"date\": \"2021-08-17T00:00:00\", \"value\": 62.21578788757324, \"error\": 6.790936470031738}, {\"date\": \"2021-08-18T00:00:00\", \"value\": 62.65707015991211, \"error\": 6.788363456726074}, {\"date\": \"2021-08-19T00:00:00\", \"value\": 62.91109657287598, \"error\": 6.787509918212891}, {\"date\": \"2021-08-20T00:00:00\", \"value\": 64.17345905303955, \"error\": 6.787227630615234}, {\"date\": \"2021-08-21T00:00:00\", \"value\": 64.326904296875, \"error\": 6.78713321685791}, {\"date\": \"2021-08-22T00:00:00\", \"value\": 64.8476505279541, \"error\": 6.787102699279785}, {\"date\": \"2021-08-23T00:00:00\", \"value\": 65.82308292388916, \"error\": 6.787092208862305}, {\"date\": \"2021-08-24T00:00:00\", \"value\": 65.88503456115723, \"error\": 6.787088394165039}, {\"date\": \"2021-08-25T00:00:00\", \"value\": 65.55130958557129, \"error\": 6.787087440490723}, {\"date\": \"2021-08-26T00:00:00\", \"value\": 65.39957237243652, \"error\": 6.787087440490723}, {\"date\": \"2021-08-27T00:00:00\", \"value\": 65.80603408813477, \"error\": 6.787087440490723}, {\"date\": \"2021-08-28T00:00:00\", \"value\": 66.90964412689209, \"error\": 6.787087440490723}, {\"date\": \"2021-08-29T00:00:00\", \"value\": 66.21008110046387, \"error\": 6.787087440490723}, {\"date\": \"2021-08-30T00:00:00\", \"value\": 67.34218788146973, \"error\": 6.787087440490723}, {\"date\": \"2021-08-31T00:00:00\", \"value\": 67.23683166503906, \"error\": 10.699845314025879}, {\"date\": \"2021-09-01T00:00:00\", \"value\": 67.4861478805542, \"error\": 7.924250602722168}, {\"date\": \"2021-09-02T00:00:00\", \"value\": 67.3037576675415, \"error\": 7.149294853210449}, {\"date\": \"2021-09-03T00:00:00\", \"value\": 66.97111320495605, \"error\": 6.905632972717285}, {\"date\": \"2021-09-04T00:00:00\", \"value\": 66.62224960327148, \"error\": 6.826224327087402}, {\"date\": \"2021-09-05T00:00:00\", \"value\": 67.4271125793457, \"error\": 6.800045013427734}, {\"date\": \"2021-09-06T00:00:00\", \"value\": 68.17847919464111, \"error\": 6.791380882263184}, {\"date\": \"2021-09-07T00:00:00\", \"value\": 67.11789798736572, \"error\": 6.788510322570801}, {\"date\": \"2021-09-08T00:00:00\", \"value\": 67.50143718719482, \"error\": 6.787558555603027}, {\"date\": \"2021-09-09T00:00:00\", \"value\": 66.65446949005127, \"error\": 6.787243843078613}, {\"date\": \"2021-09-10T00:00:00\", \"value\": 69.0334701538086, \"error\": 6.787138938903809}, {\"date\": \"2021-09-11T00:00:00\", \"value\": 70.02766132354736, \"error\": 6.787104606628418}, {\"date\": \"2021-09-12T00:00:00\", \"value\": 71.17900371551514, \"error\": 6.787093162536621}, {\"date\": \"2021-09-13T00:00:00\", \"value\": 69.59292507171631, \"error\": 6.7870893478393555}, {\"date\": \"2021-09-14T00:00:00\", \"value\": 68.18641662597656, \"error\": 6.787087440490723}, {\"date\": \"2021-09-15T00:00:00\", \"value\": 68.15521621704102, \"error\": 6.787087440490723}, {\"date\": \"2021-09-16T00:00:00\", \"value\": 67.15782642364502, \"error\": 6.787087440490723}, {\"date\": \"2021-09-17T00:00:00\", \"value\": 65.97253704071045, \"error\": 6.787087440490723}, {\"date\": \"2021-09-18T00:00:00\", \"value\": 66.01586818695068, \"error\": 6.787087440490723}, {\"date\": \"2021-09-19T00:00:00\", \"value\": 66.64569187164307, \"error\": 6.787087440490723}, {\"date\": \"2021-09-20T00:00:00\", \"value\": 66.54255199432373, \"error\": 6.787087440490723}, {\"date\": \"2021-09-21T00:00:00\", \"value\": 67.52438640594482, \"error\": 6.787087440490723}, {\"date\": \"2021-09-22T00:00:00\", \"value\": 66.6045446395874, \"error\": 6.787087440490723}, {\"date\": \"2021-09-23T00:00:00\", \"value\": 66.23739051818848, \"error\": 6.787087440490723}, {\"date\": \"2021-09-24T00:00:00\", \"value\": 66.52394485473633, \"error\": 6.787087440490723}, {\"date\": \"2021-09-25T00:00:00\", \"value\": 67.18690967559814, \"error\": 6.787087440490723}, {\"date\": \"2021-09-26T00:00:00\", \"value\": 67.0706844329834, \"error\": 6.787087440490723}, {\"date\": \"2021-09-27T00:00:00\", \"value\": 66.00783157348633, \"error\": 6.787087440490723}, {\"date\": \"2021-09-28T00:00:00\", \"value\": 65.893798828125, \"error\": 6.787087440490723}, {\"date\": \"2021-09-29T00:00:00\", \"value\": 67.47329902648926, \"error\": 6.787087440490723}, {\"date\": \"2021-09-30T00:00:00\", \"value\": 68.44449615478516, \"error\": 6.787087440490723}, {\"date\": \"2021-10-01T00:00:00\", \"value\": 70.86456775665283, \"error\": 7.183256149291992}, {\"date\": \"2021-10-02T00:00:00\", \"value\": 69.85879135131836, \"error\": 6.916591644287109}, {\"date\": \"2021-10-03T00:00:00\", \"value\": 68.40629291534424, \"error\": 6.829825401306152}, {\"date\": \"2021-10-04T00:00:00\", \"value\": 67.10360050201416, \"error\": 6.801235198974609}, {\"date\": \"2021-10-05T00:00:00\", \"value\": 66.26202011108398, \"error\": 6.791775703430176}, {\"date\": \"2021-10-06T00:00:00\", \"value\": 67.27764415740967, \"error\": 6.788640975952148}, {\"date\": \"2021-10-07T00:00:00\", \"value\": 69.4582576751709, \"error\": 6.787602424621582}, {\"date\": \"2021-10-08T00:00:00\", \"value\": 69.86556243896484, \"error\": 6.787258148193359}, {\"date\": \"2021-10-09T00:00:00\", \"value\": 70.6151533126831, \"error\": 6.787143707275391}, {\"date\": \"2021-10-10T00:00:00\", \"value\": 69.03994083404541, \"error\": 6.787105560302734}, {\"date\": \"2021-10-11T00:00:00\", \"value\": 68.66955375671387, \"error\": 6.787093162536621}, {\"date\": \"2021-10-12T00:00:00\", \"value\": 70.4504804611206, \"error\": 6.7870893478393555}, {\"date\": \"2021-10-13T00:00:00\", \"value\": 70.08928966522217, \"error\": 6.787087440490723}, {\"date\": \"2021-10-14T00:00:00\", \"value\": 68.41534900665283, \"error\": 6.787087440490723}, {\"date\": \"2021-10-15T00:00:00\", \"value\": 68.20179176330566, \"error\": 6.787087440490723}, {\"date\": \"2021-10-16T00:00:00\", \"value\": 67.63465309143066, \"error\": 6.787087440490723}, {\"date\": \"2021-10-17T00:00:00\", \"value\": 67.30809020996094, \"error\": 6.787087440490723}, {\"date\": \"2021-10-18T00:00:00\", \"value\": 67.1200532913208, \"error\": 6.787087440490723}, {\"date\": \"2021-10-19T00:00:00\", \"value\": 66.64842224121094, \"error\": 6.787087440490723}, {\"date\": \"2021-10-20T00:00:00\", \"value\": 65.61280632019043, \"error\": 6.787087440490723}, {\"date\": \"2021-10-21T00:00:00\", \"value\": 66.2889986038208, \"error\": 6.787087440490723}, {\"date\": \"2021-10-22T00:00:00\", \"value\": 66.1868257522583, \"error\": 6.787087440490723}, {\"date\": \"2021-10-23T00:00:00\", \"value\": 64.30259609222412, \"error\": 6.787087440490723}, {\"date\": \"2021-10-24T00:00:00\", \"value\": 63.21764373779297, \"error\": 6.787087440490723}, {\"date\": \"2021-10-25T00:00:00\", \"value\": 62.50784492492676, \"error\": 6.787087440490723}, {\"date\": \"2021-10-26T00:00:00\", \"value\": 63.91142177581787, \"error\": 6.787087440490723}, {\"date\": \"2021-10-27T00:00:00\", \"value\": 63.54540729522705, \"error\": 6.787087440490723}, {\"date\": \"2021-10-28T00:00:00\", \"value\": 63.33465385437012, \"error\": 6.787087440490723}, {\"date\": \"2021-10-29T00:00:00\", \"value\": 64.7349739074707, \"error\": 6.787087440490723}, {\"date\": \"2021-10-30T00:00:00\", \"value\": 63.48079586029053, \"error\": 6.787087440490723}, {\"date\": \"2021-10-31T00:00:00\", \"value\": 62.72346305847168, \"error\": 6.787087440490723}, {\"date\": \"2021-11-01T00:00:00\", \"value\": 62.9149284362793, \"error\": 6.787087440490723}, {\"date\": \"2021-11-02T00:00:00\", \"value\": 62.94793510437012, \"error\": 6.787087440490723}, {\"date\": \"2021-11-03T00:00:00\", \"value\": 62.96694087982178, \"error\": 6.787087440490723}, {\"date\": \"2021-11-04T00:00:00\", \"value\": 62.917606353759766, \"error\": 6.787087440490723}, {\"date\": \"2021-11-05T00:00:00\", \"value\": 63.05911445617676, \"error\": 6.787087440490723}, {\"date\": \"2021-11-06T00:00:00\", \"value\": 64.63119125366211, \"error\": 6.787087440490723}, {\"date\": \"2021-11-07T00:00:00\", \"value\": 67.09595012664795, \"error\": 6.787087440490723}, {\"date\": \"2021-11-08T00:00:00\", \"value\": 65.47754001617432, \"error\": 6.787087440490723}, {\"date\": \"2021-11-09T00:00:00\", \"value\": 67.07977294921875, \"error\": 6.787087440490723}, {\"date\": \"2021-11-10T00:00:00\", \"value\": 65.95938491821289, \"error\": 6.787087440490723}, {\"date\": \"2021-11-11T00:00:00\", \"value\": 65.1209545135498, \"error\": 6.787087440490723}, {\"date\": \"2021-11-12T00:00:00\", \"value\": 66.7172966003418, \"error\": 6.787087440490723}, {\"date\": \"2021-11-13T00:00:00\", \"value\": 67.1412239074707, \"error\": 6.787087440490723}, {\"date\": \"2021-11-14T00:00:00\", \"value\": 67.43062591552734, \"error\": 6.787087440490723}, {\"date\": \"2021-11-15T00:00:00\", \"value\": 66.10914993286133, \"error\": 6.787087440490723}, {\"date\": \"2021-11-16T00:00:00\", \"value\": 67.33238887786865, \"error\": 6.787087440490723}, {\"date\": \"2021-11-17T00:00:00\", \"value\": 67.54069995880127, \"error\": 6.787087440490723}, {\"date\": \"2021-11-18T00:00:00\", \"value\": 67.05694007873535, \"error\": 6.787087440490723}, {\"date\": \"2021-11-19T00:00:00\", \"value\": 65.79008769989014, \"error\": 6.787087440490723}, {\"date\": \"2021-11-20T00:00:00\", \"value\": 67.20875930786133, \"error\": 6.787087440490723}, {\"date\": \"2021-11-21T00:00:00\", \"value\": 67.8870210647583, \"error\": 6.787087440490723}, {\"date\": \"2021-11-22T00:00:00\", \"value\": 66.50033855438232, \"error\": 6.787087440490723}, {\"date\": \"2021-11-23T00:00:00\", \"value\": 66.68082427978516, \"error\": 6.787087440490723}, {\"date\": \"2021-11-24T00:00:00\", \"value\": 66.17305660247803, \"error\": 6.787087440490723}, {\"date\": \"2021-11-25T00:00:00\", \"value\": 65.6779899597168, \"error\": 6.787087440490723}, {\"date\": \"2021-11-26T00:00:00\", \"value\": 66.84424686431885, \"error\": 6.787087440490723}, {\"date\": \"2021-11-27T00:00:00\", \"value\": 67.99955940246582, \"error\": 6.787087440490723}, {\"date\": \"2021-11-28T00:00:00\", \"value\": 67.69724941253662, \"error\": 6.787087440490723}, {\"date\": \"2021-11-29T00:00:00\", \"value\": 66.55563068389893, \"error\": 6.787087440490723}, {\"date\": \"2021-11-30T00:00:00\", \"value\": 65.41450595855713, \"error\": 6.787087440490723}, {\"date\": \"2021-12-01T00:00:00\", \"value\": 65.2412109375, \"error\": 6.787087440490723}, {\"date\": \"2021-12-02T00:00:00\", \"value\": 65.1414270401001, \"error\": 6.787087440490723}, {\"date\": \"2021-12-03T00:00:00\", \"value\": 65.43991374969482, \"error\": 6.787087440490723}, {\"date\": \"2021-12-04T00:00:00\", \"value\": 65.06164455413818, \"error\": 6.787087440490723}, {\"date\": \"2021-12-05T00:00:00\", \"value\": 65.33277893066406, \"error\": 6.787087440490723}, {\"date\": \"2021-12-06T00:00:00\", \"value\": 65.48890018463135, \"error\": 6.787087440490723}, {\"date\": \"2021-12-07T00:00:00\", \"value\": 65.57879638671875, \"error\": 6.787087440490723}, {\"date\": \"2021-12-08T00:00:00\", \"value\": 66.13776969909668, \"error\": 6.787087440490723}, {\"date\": \"2021-12-09T00:00:00\", \"value\": 68.61289978027344, \"error\": 6.787087440490723}, {\"date\": \"2021-12-10T00:00:00\", \"value\": 68.64193916320801, \"error\": 6.787087440490723}, {\"date\": \"2021-12-11T00:00:00\", \"value\": 70.68222427368164, \"error\": 6.787087440490723}, {\"date\": \"2021-12-12T00:00:00\", \"value\": 72.93253707885742, \"error\": 6.787087440490723}, {\"date\": \"2021-12-13T00:00:00\", \"value\": 71.58625316619873, \"error\": 10.135796546936035}, {\"date\": \"2021-12-14T00:00:00\", \"value\": 71.4868974685669, \"error\": 7.777952194213867}, {\"date\": \"2021-12-16T00:00:00\", \"value\": 69.23770236968994, \"error\": 9.359085083007812}, {\"date\": \"2021-12-17T00:00:00\", \"value\": 66.7755651473999, \"error\": 9.06403636932373}, {\"date\": \"2021-12-18T00:00:00\", \"value\": 66.42982578277588, \"error\": 7.484842300415039}, {\"date\": \"2021-12-19T00:00:00\", \"value\": 66.17947483062744, \"error\": 7.012763977050781}, {\"date\": \"2021-12-20T00:00:00\", \"value\": 64.92832565307617, \"error\": 6.8613080978393555}, {\"date\": \"2021-12-21T00:00:00\", \"value\": 64.2188835144043, \"error\": 6.8116302490234375}, {\"date\": \"2021-12-22T00:00:00\", \"value\": 64.30094909667969, \"error\": 6.795217514038086}, {\"date\": \"2021-12-23T00:00:00\", \"value\": 64.83623123168945, \"error\": 6.78978157043457}, {\"date\": \"2021-12-24T00:00:00\", \"value\": 67.32656764984131, \"error\": 6.787980079650879}, {\"date\": \"2021-12-25T00:00:00\", \"value\": 66.79044914245605, \"error\": 6.787383079528809}, {\"date\": \"2021-12-26T00:00:00\", \"value\": 65.00683212280273, \"error\": 6.7871856689453125}, {\"date\": \"2021-12-27T00:00:00\", \"value\": 64.47147369384766, \"error\": 6.7871198654174805}, {\"date\": \"2021-12-28T00:00:00\", \"value\": 64.65485095977783, \"error\": 6.787097930908203}, {\"date\": \"2021-12-29T00:00:00\", \"value\": 65.61473274230957, \"error\": 6.787090301513672}, {\"date\": \"2021-12-30T00:00:00\", \"value\": 67.14626693725586, \"error\": 6.787088394165039}, {\"date\": \"2021-12-31T00:00:00\", \"value\": 67.41601848602295, \"error\": 6.787087440490723}, {\"date\": \"2022-01-01T00:00:00\", \"value\": 66.57987022399902, \"error\": 6.787087440490723}, {\"date\": \"2022-01-02T00:00:00\", \"value\": 65.60267353057861, \"error\": 6.787087440490723}, {\"date\": \"2022-01-03T00:00:00\", \"value\": 64.54426002502441, \"error\": 6.787087440490723}, {\"date\": \"2022-01-04T00:00:00\", \"value\": 64.92629146575928, \"error\": 6.787087440490723}, {\"date\": \"2022-01-05T00:00:00\", \"value\": 65.64200496673584, \"error\": 6.787087440490723}, {\"date\": \"2022-01-06T00:00:00\", \"value\": 65.06264400482178, \"error\": 6.787087440490723}, {\"date\": \"2022-01-07T00:00:00\", \"value\": 65.22478103637695, \"error\": 6.787087440490723}, {\"date\": \"2022-01-08T00:00:00\", \"value\": 65.81387710571289, \"error\": 6.787087440490723}, {\"date\": \"2022-01-09T00:00:00\", \"value\": 66.69965648651123, \"error\": 6.787087440490723}, {\"date\": \"2022-01-10T00:00:00\", \"value\": 65.22324180603027, \"error\": 6.787087440490723}, {\"date\": \"2022-01-11T00:00:00\", \"value\": 67.35279083251953, \"error\": 6.787087440490723}, {\"date\": \"2022-01-12T00:00:00\", \"value\": 68.12951183319092, \"error\": 6.787087440490723}, {\"date\": \"2022-01-13T00:00:00\", \"value\": 68.07934093475342, \"error\": 6.787087440490723}, {\"date\": \"2022-01-14T00:00:00\", \"value\": 69.5625467300415, \"error\": 6.787087440490723}, {\"date\": \"2022-01-15T00:00:00\", \"value\": 71.4120626449585, \"error\": 6.787087440490723}, {\"date\": \"2022-01-16T00:00:00\", \"value\": 69.61752414703369, \"error\": 6.787087440490723}, {\"date\": \"2022-01-17T00:00:00\", \"value\": 69.30320072174072, \"error\": 6.787087440490723}, {\"date\": \"2022-01-18T00:00:00\", \"value\": 69.62595176696777, \"error\": 6.787087440490723}, {\"date\": \"2022-01-19T00:00:00\", \"value\": 68.3005723953247, \"error\": 6.787087440490723}, {\"date\": \"2022-01-20T00:00:00\", \"value\": 71.27202415466309, \"error\": 10.273416519165039}, {\"date\": \"2022-01-21T00:00:00\", \"value\": 74.31473159790039, \"error\": 12.824913024902344}, {\"date\": \"2022-01-22T00:00:00\", \"value\": 76.93755531311035, \"error\": 11.242334365844727}, {\"date\": \"2022-01-23T00:00:00\", \"value\": 78.59972667694092, \"error\": 8.060128211975098}, {\"date\": \"2022-01-24T00:00:00\", \"value\": 77.00795936584473, \"error\": 11.227259635925293}, {\"date\": \"2022-01-25T00:00:00\", \"value\": 75.16472244262695, \"error\": 13.490778923034668}, {\"date\": \"2022-01-26T00:00:00\", \"value\": 72.32123374938965, \"error\": 10.674992561340332}, {\"date\": \"2022-01-27T00:00:00\", \"value\": 69.81537914276123, \"error\": 7.917914390563965}, {\"date\": \"2022-01-28T00:00:00\", \"value\": 68.67278003692627, \"error\": 7.147356033325195}, {\"date\": \"2022-01-29T00:00:00\", \"value\": 68.50801944732666, \"error\": 6.905006408691406}, {\"date\": \"2022-01-30T00:00:00\", \"value\": 66.90846538543701, \"error\": 6.826018333435059}, {\"date\": \"2022-01-31T00:00:00\", \"value\": 64.49360275268555, \"error\": 6.7999773025512695}, {\"date\": \"2022-02-01T00:00:00\", \"value\": 65.60567474365234, \"error\": 6.791358947753906}, {\"date\": \"2022-02-02T00:00:00\", \"value\": 66.15315628051758, \"error\": 6.788503646850586}, {\"date\": \"2022-02-03T00:00:00\", \"value\": 67.46405506134033, \"error\": 6.7875566482543945}, {\"date\": \"2022-02-04T00:00:00\", \"value\": 68.7166576385498, \"error\": 6.787242889404297}, {\"date\": \"2022-02-05T00:00:00\", \"value\": 68.91253089904785, \"error\": 6.787138938903809}, {\"date\": \"2022-02-06T00:00:00\", \"value\": 67.53319263458252, \"error\": 6.787104606628418}, {\"date\": \"2022-02-07T00:00:00\", \"value\": 67.73370933532715, \"error\": 6.787093162536621}, {\"date\": \"2022-02-08T00:00:00\", \"value\": 69.34128665924072, \"error\": 6.7870893478393555}, {\"date\": \"2022-02-09T00:00:00\", \"value\": 70.90287113189697, \"error\": 6.787087440490723}, {\"date\": \"2022-02-10T00:00:00\", \"value\": 71.30243492126465, \"error\": 6.787087440490723}, {\"date\": \"2022-02-11T00:00:00\", \"value\": 70.42418193817139, \"error\": 6.787087440490723}, {\"date\": \"2022-02-12T00:00:00\", \"value\": 71.9095106124878, \"error\": 6.787087440490723}, {\"date\": \"2022-02-13T00:00:00\", \"value\": 71.27149868011475, \"error\": 6.787087440490723}, {\"date\": \"2022-02-14T00:00:00\", \"value\": 71.0465316772461, \"error\": 6.787087440490723}, {\"date\": \"2022-02-15T00:00:00\", \"value\": 69.44119548797607, \"error\": 6.787087440490723}, {\"date\": \"2022-02-16T00:00:00\", \"value\": 68.69074821472168, \"error\": 6.787087440490723}, {\"date\": \"2022-02-17T00:00:00\", \"value\": 69.19900512695312, \"error\": 6.787087440490723}, {\"date\": \"2022-02-18T00:00:00\", \"value\": 70.03608798980713, \"error\": 6.787087440490723}, {\"date\": \"2022-02-19T00:00:00\", \"value\": 70.91403102874756, \"error\": 6.787087440490723}, {\"date\": \"2022-02-20T00:00:00\", \"value\": 69.53881740570068, \"error\": 6.787087440490723}, {\"date\": \"2022-02-21T00:00:00\", \"value\": 69.16196727752686, \"error\": 6.787087440490723}, {\"date\": \"2022-02-22T00:00:00\", \"value\": 70.88141822814941, \"error\": 10.273416519165039}, {\"date\": \"2022-02-23T00:00:00\", \"value\": 72.60940074920654, \"error\": 12.449112892150879}, {\"date\": \"2022-02-24T00:00:00\", \"value\": 70.51739406585693, \"error\": 8.346582412719727}, {\"date\": \"2022-02-25T00:00:00\", \"value\": 68.87905406951904, \"error\": 10.888169288635254}, {\"date\": \"2022-02-26T00:00:00\", \"value\": 68.16026973724365, \"error\": 7.9719438552856445}, {\"date\": \"2022-02-27T00:00:00\", \"value\": 68.87735080718994, \"error\": 7.163865089416504}, {\"date\": \"2022-02-28T00:00:00\", \"value\": 68.25502109527588, \"error\": 6.910338401794434}, {\"date\": \"2022-03-01T00:00:00\", \"value\": 69.89035511016846, \"error\": 6.827771186828613}, {\"date\": \"2022-03-02T00:00:00\", \"value\": 70.87471866607666, \"error\": 6.800556182861328}, {\"date\": \"2022-03-03T00:00:00\", \"value\": 69.45867156982422, \"error\": 6.791550636291504}, {\"date\": \"2022-03-04T00:00:00\", \"value\": 68.15836524963379, \"error\": 6.788566589355469}, {\"date\": \"2022-03-05T00:00:00\", \"value\": 69.18892192840576, \"error\": 6.7875776290893555}, {\"date\": \"2022-03-06T00:00:00\", \"value\": 70.05209922790527, \"error\": 6.787249565124512}, {\"date\": \"2022-03-07T00:00:00\", \"value\": 70.54910564422607, \"error\": 6.787140846252441}, {\"date\": \"2022-03-08T00:00:00\", \"value\": 68.91701602935791, \"error\": 6.787104606628418}, {\"date\": \"2022-03-09T00:00:00\", \"value\": 70.14629745483398, \"error\": 6.787093162536621}, {\"date\": \"2022-03-10T00:00:00\", \"value\": 70.37813472747803, \"error\": 6.7870893478393555}, {\"date\": \"2022-03-11T00:00:00\", \"value\": 68.84644985198975, \"error\": 6.787087440490723}, {\"date\": \"2022-03-12T00:00:00\", \"value\": 68.43506336212158, \"error\": 6.787087440490723}, {\"date\": \"2022-03-13T00:00:00\", \"value\": 67.25415802001953, \"error\": 6.787087440490723}, {\"date\": \"2022-03-14T00:00:00\", \"value\": 67.51821041107178, \"error\": 6.787087440490723}, {\"date\": \"2022-03-15T00:00:00\", \"value\": 65.70269584655762, \"error\": 6.787087440490723}, {\"date\": \"2022-03-16T00:00:00\", \"value\": 63.716073989868164, \"error\": 6.787087440490723}, {\"date\": \"2022-03-17T00:00:00\", \"value\": 64.54293155670166, \"error\": 6.787087440490723}, {\"date\": \"2022-03-18T00:00:00\", \"value\": 64.99487400054932, \"error\": 6.787087440490723}, {\"date\": \"2022-03-19T00:00:00\", \"value\": 64.88601875305176, \"error\": 6.787087440490723}, {\"date\": \"2022-03-20T00:00:00\", \"value\": 64.82333946228027, \"error\": 6.787087440490723}, {\"date\": \"2022-03-21T00:00:00\", \"value\": 64.79409313201904, \"error\": 6.787087440490723}, {\"date\": \"2022-03-22T00:00:00\", \"value\": 63.830068588256836, \"error\": 6.787087440490723}, {\"date\": \"2022-03-23T00:00:00\", \"value\": 63.27497673034668, \"error\": 6.787087440490723}, {\"date\": \"2022-03-24T00:00:00\", \"value\": 63.9025354385376, \"error\": 6.787087440490723}, {\"date\": \"2022-03-25T00:00:00\", \"value\": 64.26388835906982, \"error\": 6.787087440490723}, {\"date\": \"2022-03-26T00:00:00\", \"value\": 64.47195720672607, \"error\": 6.787087440490723}, {\"date\": \"2022-03-27T00:00:00\", \"value\": 64.11817264556885, \"error\": 6.787087440490723}, {\"date\": \"2022-03-28T00:00:00\", \"value\": 65.80883026123047, \"error\": 6.787087440490723}, {\"date\": \"2022-03-29T00:00:00\", \"value\": 65.83513832092285, \"error\": 6.787087440490723}, {\"date\": \"2022-03-30T00:00:00\", \"value\": 66.09739589691162, \"error\": 6.787087440490723}, {\"date\": \"2022-03-31T00:00:00\", \"value\": 67.20396709442139, \"error\": 6.787087440490723}, {\"date\": \"2022-04-01T00:00:00\", \"value\": 66.88557720184326, \"error\": 6.787087440490723}, {\"date\": \"2022-04-02T00:00:00\", \"value\": 66.15829658508301, \"error\": 6.787087440490723}, {\"date\": \"2022-04-03T00:00:00\", \"value\": 68.48023796081543, \"error\": 6.787087440490723}, {\"date\": \"2022-04-04T00:00:00\", \"value\": 66.49377822875977, \"error\": 6.787087440490723}, {\"date\": \"2022-04-05T00:00:00\", \"value\": 65.87221717834473, \"error\": 6.787087440490723}, {\"date\": \"2022-04-06T00:00:00\", \"value\": 65.46683979034424, \"error\": 6.787087440490723}, {\"date\": \"2022-04-07T00:00:00\", \"value\": 65.2334213256836, \"error\": 6.787087440490723}, {\"date\": \"2022-04-08T00:00:00\", \"value\": 65.09901714324951, \"error\": 6.787087440490723}, {\"date\": \"2022-04-09T00:00:00\", \"value\": 64.54684734344482, \"error\": 6.787087440490723}, {\"date\": \"2022-04-10T00:00:00\", \"value\": 64.39720058441162, \"error\": 6.787087440490723}, {\"date\": \"2022-04-11T00:00:00\", \"value\": 64.53877830505371, \"error\": 6.787087440490723}, {\"date\": \"2022-04-12T00:00:00\", \"value\": 66.39754676818848, \"error\": 6.787087440490723}, {\"date\": \"2022-04-13T00:00:00\", \"value\": 66.50929164886475, \"error\": 6.787087440490723}, {\"date\": \"2022-04-14T00:00:00\", \"value\": 66.57363510131836, \"error\": 6.787087440490723}, {\"date\": \"2022-04-15T00:00:00\", \"value\": 66.1314115524292, \"error\": 6.787087440490723}, {\"date\": \"2022-04-16T00:00:00\", \"value\": 66.211350440979, \"error\": 6.787087440490723}, {\"date\": \"2022-04-17T00:00:00\", \"value\": 65.78055953979492, \"error\": 6.787087440490723}, {\"date\": \"2022-04-18T00:00:00\", \"value\": 65.53250694274902, \"error\": 6.787087440490723}, {\"date\": \"2022-04-19T00:00:00\", \"value\": 64.43603515625, \"error\": 6.787087440490723}, {\"date\": \"2022-04-20T00:00:00\", \"value\": 63.80467891693115, \"error\": 6.787087440490723}, {\"date\": \"2022-04-21T00:00:00\", \"value\": 62.96431827545166, \"error\": 6.787087440490723}, {\"date\": \"2022-04-22T00:00:00\", \"value\": 64.38771629333496, \"error\": 6.787087440490723}, {\"date\": \"2022-04-23T00:00:00\", \"value\": 66.48415470123291, \"error\": 8.166796684265137}, {\"date\": \"2022-04-24T00:00:00\", \"value\": 67.50805377960205, \"error\": 7.222895622253418}, {\"date\": \"2022-04-25T00:00:00\", \"value\": 67.34533405303955, \"error\": 6.929349899291992}, {\"date\": \"2022-04-26T00:00:00\", \"value\": 65.82065677642822, \"error\": 6.834014892578125}, {\"date\": \"2022-04-27T00:00:00\", \"value\": 63.52410888671875, \"error\": 6.802619934082031}, {\"date\": \"2022-04-28T00:00:00\", \"value\": 62.47093391418457, \"error\": 6.792234420776367}, {\"date\": \"2022-04-29T00:00:00\", \"value\": 64.99359226226807, \"error\": 6.8627262115478525}, {\"date\": \"2022-04-30T00:00:00\", \"value\": 63.619985580444336, \"error\": 6.8120975494384775}, {\"date\": \"2022-05-01T00:00:00\", \"value\": 64.74100875854492, \"error\": 6.795372009277344}, {\"date\": \"2022-05-02T00:00:00\", \"value\": 64.72264003753662, \"error\": 6.789833068847656}, {\"date\": \"2022-05-03T00:00:00\", \"value\": 63.29234504699707, \"error\": 6.787997245788574}, {\"date\": \"2022-05-04T00:00:00\", \"value\": 61.9957275390625, \"error\": 6.787388801574707}, {\"date\": \"2022-05-05T00:00:00\", \"value\": 62.16698360443115, \"error\": 6.787187576293945}, {\"date\": \"2022-05-06T00:00:00\", \"value\": 61.792922019958496, \"error\": 6.787120819091797}, {\"date\": \"2022-05-07T00:00:00\", \"value\": 62.050204277038574, \"error\": 6.787097930908203}, {\"date\": \"2022-05-08T00:00:00\", \"value\": 63.67698001861572, \"error\": 6.787090301513672}, {\"date\": \"2022-05-09T00:00:00\", \"value\": 63.19260120391846, \"error\": 6.787088394165039}, {\"date\": \"2022-05-10T00:00:00\", \"value\": 64.87890148162842, \"error\": 6.787087440490723}, {\"date\": \"2022-05-11T00:00:00\", \"value\": 66.7950849533081, \"error\": 6.787087440490723}, {\"date\": \"2022-05-12T00:00:00\", \"value\": 65.57452487945557, \"error\": 6.787087440490723}, {\"date\": \"2022-05-13T00:00:00\", \"value\": 66.29526710510254, \"error\": 6.787087440490723}, {\"date\": \"2022-05-14T00:00:00\", \"value\": 65.91481494903564, \"error\": 6.787087440490723}, {\"date\": \"2022-05-15T00:00:00\", \"value\": 64.73914337158203, \"error\": 6.787087440490723}, {\"date\": \"2022-05-16T00:00:00\", \"value\": 65.66088199615479, \"error\": 6.787087440490723}, {\"date\": \"2022-05-17T00:00:00\", \"value\": 64.7483901977539, \"error\": 6.787087440490723}, {\"date\": \"2022-05-18T00:00:00\", \"value\": 67.13827228546143, \"error\": 6.787087440490723}, {\"date\": \"2022-05-19T00:00:00\", \"value\": 68.9125747680664, \"error\": 6.787087440490723}, {\"date\": \"2022-05-20T00:00:00\", \"value\": 69.32372188568115, \"error\": 6.787087440490723}, {\"date\": \"2022-05-21T00:00:00\", \"value\": 69.56546878814697, \"error\": 6.787087440490723}, {\"date\": \"2022-05-22T00:00:00\", \"value\": 69.21862888336182, \"error\": 6.787087440490723}, {\"date\": \"2022-05-23T00:00:00\", \"value\": 67.07476043701172, \"error\": 6.787087440490723}, {\"date\": \"2022-05-24T00:00:00\", \"value\": 65.35426616668701, \"error\": 6.787087440490723}, {\"date\": \"2022-05-25T00:00:00\", \"value\": 65.21623611450195, \"error\": 6.787087440490723}, {\"date\": \"2022-05-26T00:00:00\", \"value\": 66.96363067626953, \"error\": 9.146023750305176}, {\"date\": \"2022-05-27T00:00:00\", \"value\": 66.59109306335449, \"error\": 7.508000373840332}, {\"date\": \"2022-05-28T00:00:00\", \"value\": 67.07689666748047, \"error\": 7.020064353942871}, {\"date\": \"2022-05-29T00:00:00\", \"value\": 67.09843826293945, \"error\": 6.863689422607422}, {\"date\": \"2022-05-30T00:00:00\", \"value\": 66.7859992980957, \"error\": 6.81241512298584}, {\"date\": \"2022-05-31T00:00:00\", \"value\": 66.5914716720581, \"error\": 6.795476913452148}, {\"date\": \"2022-06-01T00:00:00\", \"value\": 66.47965621948242, \"error\": 6.789868354797363}, {\"date\": \"2022-06-02T00:00:00\", \"value\": 67.45816612243652, \"error\": 6.788008689880371}, {\"date\": \"2022-06-03T00:00:00\", \"value\": 68.29926204681396, \"error\": 6.787392616271973}, {\"date\": \"2022-06-04T00:00:00\", \"value\": 67.69392585754395, \"error\": 6.787188529968262}, {\"date\": \"2022-06-05T00:00:00\", \"value\": 67.35500812530518, \"error\": 6.787120819091797}, {\"date\": \"2022-06-06T00:00:00\", \"value\": 67.25069999694824, \"error\": 6.787097930908203}, {\"date\": \"2022-06-07T00:00:00\", \"value\": 66.27214622497559, \"error\": 6.787090301513672}, {\"date\": \"2022-06-08T00:00:00\", \"value\": 64.99119472503662, \"error\": 6.787088394165039}, {\"date\": \"2022-06-09T00:00:00\", \"value\": 66.73798751831055, \"error\": 6.787087440490723}, {\"date\": \"2022-06-10T00:00:00\", \"value\": 67.89704418182373, \"error\": 6.787087440490723}, {\"date\": \"2022-06-11T00:00:00\", \"value\": 68.99251079559326, \"error\": 6.787087440490723}, {\"date\": \"2022-06-12T00:00:00\", \"value\": 66.68235206604004, \"error\": 6.787087440490723}, {\"date\": \"2022-06-13T00:00:00\", \"value\": 66.6762228012085, \"error\": 6.787087440490723}, {\"date\": \"2022-06-14T00:00:00\", \"value\": 66.99260234832764, \"error\": 6.787087440490723}, {\"date\": \"2022-06-15T00:00:00\", \"value\": 67.970383644104, \"error\": 6.787087440490723}, {\"date\": \"2022-06-16T00:00:00\", \"value\": 68.09593391418457, \"error\": 6.787087440490723}, {\"date\": \"2022-06-17T00:00:00\", \"value\": 69.12505054473877, \"error\": 6.787087440490723}, {\"date\": \"2022-06-18T00:00:00\", \"value\": 68.28603458404541, \"error\": 6.787087440490723}, {\"date\": \"2022-06-19T00:00:00\", \"value\": 69.7369031906128, \"error\": 10.273416519165039}, {\"date\": \"2022-06-20T00:00:00\", \"value\": 72.05673408508301, \"error\": 7.814133644104004}, {\"date\": \"2022-06-21T00:00:00\", \"value\": 71.85470390319824, \"error\": 7.115470886230469}, {\"date\": \"2022-06-22T00:00:00\", \"value\": 71.64382648468018, \"error\": 6.894692420959473}, {\"date\": \"2022-06-23T00:00:00\", \"value\": 70.78937816619873, \"error\": 6.8226261138916025}, {\"date\": \"2022-06-24T00:00:00\", \"value\": 69.807785987854, \"error\": 6.798854827880859}, {\"date\": \"2022-06-25T00:00:00\", \"value\": 70.84710884094238, \"error\": 6.790987014770508}, {\"date\": \"2022-06-26T00:00:00\", \"value\": 71.3465690612793, \"error\": 6.788379669189453}, {\"date\": \"2022-06-27T00:00:00\", \"value\": 69.27931499481201, \"error\": 6.787515640258789}, {\"date\": \"2022-06-28T00:00:00\", \"value\": 68.57525730133057, \"error\": 6.787229537963867}, {\"date\": \"2022-06-29T00:00:00\", \"value\": 67.78732776641846, \"error\": 6.787134170532227}, {\"date\": \"2022-06-30T00:00:00\", \"value\": 67.55017471313477, \"error\": 6.787102699279785}, {\"date\": \"2022-07-01T00:00:00\", \"value\": 66.65518283843994, \"error\": 6.787092208862305}, {\"date\": \"2022-07-02T00:00:00\", \"value\": 66.16267204284668, \"error\": 6.787088394165039}, {\"date\": \"2022-07-03T00:00:00\", \"value\": 65.67589473724365, \"error\": 6.787087440490723}, {\"date\": \"2022-07-04T00:00:00\", \"value\": 65.4775505065918, \"error\": 6.787087440490723}, {\"date\": \"2022-07-05T00:00:00\", \"value\": 67.24130439758301, \"error\": 9.102336883544922}, {\"date\": \"2022-07-06T00:00:00\", \"value\": 66.90878486633301, \"error\": 7.495676040649414}, {\"date\": \"2022-07-07T00:00:00\", \"value\": 65.33277893066406, \"error\": 7.016180992126465}, {\"date\": \"2022-07-08T00:00:00\", \"value\": 65.76889133453369, \"error\": 6.862422943115234}, {\"date\": \"2022-07-09T00:00:00\", \"value\": 66.9342622756958, \"error\": 6.811997413635254}, {\"date\": \"2022-07-10T00:00:00\", \"value\": 66.38361263275146, \"error\": 6.7953386306762695}, {\"date\": \"2022-07-11T00:00:00\", \"value\": 66.6063117980957, \"error\": 6.789822578430176}, {\"date\": \"2022-07-12T00:00:00\", \"value\": 66.4152717590332, \"error\": 6.787994384765625}, {\"date\": \"2022-07-13T00:00:00\", \"value\": 67.70248794555664, \"error\": 6.787387847900391}, {\"date\": \"2022-07-14T00:00:00\", \"value\": 66.23533153533936, \"error\": 6.787186622619629}, {\"date\": \"2022-07-15T00:00:00\", \"value\": 65.91078567504883, \"error\": 6.7871198654174805}, {\"date\": \"2022-07-16T00:00:00\", \"value\": 66.96208477020264, \"error\": 6.787097930908203}, {\"date\": \"2022-07-17T00:00:00\", \"value\": 67.16549015045166, \"error\": 6.787090301513672}, {\"date\": \"2022-07-18T00:00:00\", \"value\": 67.02117538452148, \"error\": 6.787088394165039}, {\"date\": \"2022-07-19T00:00:00\", \"value\": 68.06459617614746, \"error\": 6.787087440490723}, {\"date\": \"2022-07-20T00:00:00\", \"value\": 68.72859859466553, \"error\": 6.787087440490723}, {\"date\": \"2022-07-21T00:00:00\", \"value\": 69.70974826812744, \"error\": 6.787087440490723}, {\"date\": \"2022-07-22T00:00:00\", \"value\": 71.96559143066406, \"error\": 6.787087440490723}, {\"date\": \"2022-07-23T00:00:00\", \"value\": 72.57924365997314, \"error\": 6.787087440490723}, {\"date\": \"2022-07-24T00:00:00\", \"value\": 72.6213731765747, \"error\": 6.787087440490723}, {\"date\": \"2022-07-25T00:00:00\", \"value\": 73.11547565460205, \"error\": 6.787087440490723}, {\"date\": \"2022-07-26T00:00:00\", \"value\": 70.91884994506836, \"error\": 6.787087440490723}, {\"date\": \"2022-07-27T00:00:00\", \"value\": 69.52438354492188, \"error\": 6.787087440490723}, {\"date\": \"2022-07-28T00:00:00\", \"value\": 69.22463893890381, \"error\": 6.787087440490723}, {\"date\": \"2022-07-29T00:00:00\", \"value\": 68.58036804199219, \"error\": 6.787087440490723}, {\"date\": \"2022-07-30T00:00:00\", \"value\": 69.11086177825928, \"error\": 6.787087440490723}, {\"date\": \"2022-07-31T00:00:00\", \"value\": 67.02988719940186, \"error\": 6.787087440490723}, {\"date\": \"2022-08-01T00:00:00\", \"value\": 68.34773540496826, \"error\": 6.787087440490723}, {\"date\": \"2022-08-02T00:00:00\", \"value\": 68.47974586486816, \"error\": 6.787087440490723}, {\"date\": \"2022-08-03T00:00:00\", \"value\": 69.94295501708984, \"error\": 6.787087440490723}, {\"date\": \"2022-08-04T00:00:00\", \"value\": 69.37359142303467, \"error\": 6.787087440490723}, {\"date\": \"2022-08-05T00:00:00\", \"value\": 67.07499599456787, \"error\": 6.787087440490723}, {\"date\": \"2022-08-06T00:00:00\", \"value\": 68.09136486053467, \"error\": 6.787087440490723}, {\"date\": \"2022-08-07T00:00:00\", \"value\": 67.55453777313232, \"error\": 6.787087440490723}, {\"date\": \"2022-08-08T00:00:00\", \"value\": 67.02649116516113, \"error\": 6.787087440490723}, {\"date\": \"2022-08-09T00:00:00\", \"value\": 66.90948867797852, \"error\": 6.787087440490723}, {\"date\": \"2022-08-10T00:00:00\", \"value\": 67.58907508850098, \"error\": 6.787087440490723}, {\"date\": \"2022-08-11T00:00:00\", \"value\": 65.14932823181152, \"error\": 7.121487617492676}, {\"date\": \"2022-08-12T00:00:00\", \"value\": 67.1029167175293, \"error\": 6.896640777587891}, {\"date\": \"2022-08-13T00:00:00\", \"value\": 67.70733833312988, \"error\": 6.8232669830322275}, {\"date\": \"2022-08-14T00:00:00\", \"value\": 69.58336448669434, \"error\": 6.799067497253418}, {\"date\": \"2022-08-15T00:00:00\", \"value\": 69.17971134185791, \"error\": 6.791057586669922}, {\"date\": \"2022-08-16T00:00:00\", \"value\": 68.94747638702393, \"error\": 6.788403511047363}, {\"date\": \"2022-08-17T00:00:00\", \"value\": 69.30726909637451, \"error\": 6.78752326965332}, {\"date\": \"2022-08-18T00:00:00\", \"value\": 67.18171310424805, \"error\": 6.7872314453125}, {\"date\": \"2022-08-19T00:00:00\", \"value\": 65.95783996582031, \"error\": 6.787135124206543}, {\"date\": \"2022-08-20T00:00:00\", \"value\": 66.56375217437744, \"error\": 6.787102699279785}, {\"date\": \"2022-08-21T00:00:00\", \"value\": 68.41710186004639, \"error\": 6.787092208862305}, {\"date\": \"2022-08-22T00:00:00\", \"value\": 68.56523704528809, \"error\": 6.787088394165039}, {\"date\": \"2022-08-23T00:00:00\", \"value\": 69.1555061340332, \"error\": 6.787087440490723}, {\"date\": \"2022-08-24T00:00:00\", \"value\": 68.77655601501465, \"error\": 6.787087440490723}, {\"date\": \"2022-08-25T00:00:00\", \"value\": 68.9233980178833, \"error\": 6.787087440490723}, {\"date\": \"2022-08-26T00:00:00\", \"value\": 67.61527633666992, \"error\": 6.787087440490723}, {\"date\": \"2022-08-27T00:00:00\", \"value\": 68.86362838745117, \"error\": 6.787087440490723}, {\"date\": \"2022-08-28T00:00:00\", \"value\": 67.7514419555664, \"error\": 6.787087440490723}, {\"date\": \"2022-08-29T00:00:00\", \"value\": 66.1620740890503, \"error\": 6.787087440490723}, {\"date\": \"2022-08-30T00:00:00\", \"value\": 66.70666027069092, \"error\": 6.787087440490723}, {\"date\": \"2022-08-31T00:00:00\", \"value\": 64.63100242614746, \"error\": 6.787087440490723}, {\"date\": \"2022-09-01T00:00:00\", \"value\": 66.75892925262451, \"error\": 6.787087440490723}, {\"date\": \"2022-09-02T00:00:00\", \"value\": 68.03237819671631, \"error\": 6.787087440490723}, {\"date\": \"2022-09-03T00:00:00\", \"value\": 70.14243984222412, \"error\": 8.126733779907227}, {\"date\": \"2022-09-04T00:00:00\", \"value\": 72.06301975250244, \"error\": 7.210823059082031}, {\"date\": \"2022-09-05T00:00:00\", \"value\": 71.00182628631592, \"error\": 6.925468444824219}, {\"date\": \"2022-09-06T00:00:00\", \"value\": 69.95745086669922, \"error\": 6.832740783691406}, {\"date\": \"2022-09-07T00:00:00\", \"value\": 68.58555698394775, \"error\": 6.802199363708496}, {\"date\": \"2022-09-08T00:00:00\", \"value\": 70.29332256317139, \"error\": 9.264687538146973}, {\"date\": \"2022-09-09T00:00:00\", \"value\": 70.17587184906006, \"error\": 7.54129695892334}, {\"date\": \"2022-09-10T00:00:00\", \"value\": 71.20471286773682, \"error\": 7.030540466308594}, {\"date\": \"2022-09-11T00:00:00\", \"value\": 73.09261417388916, \"error\": 6.867103576660156}, {\"date\": \"2022-09-12T00:00:00\", \"value\": 71.72842025756836, \"error\": 10.172016143798828}, {\"date\": \"2022-09-13T00:00:00\", \"value\": 69.66179656982422, \"error\": 11.227432250976562}, {\"date\": \"2022-09-14T00:00:00\", \"value\": 69.8347806930542, \"error\": 8.056456565856934}, {\"date\": \"2022-09-15T00:00:00\", \"value\": 68.53669834136963, \"error\": 7.189565658569336}, {\"date\": \"2022-09-16T00:00:00\", \"value\": 67.71620273590088, \"error\": 6.9186248779296875}, {\"date\": \"2022-09-17T00:00:00\", \"value\": 69.74557113647461, \"error\": 8.474939346313477}, {\"date\": \"2022-09-18T00:00:00\", \"value\": 69.45278263092041, \"error\": 7.314655303955078}, {\"date\": \"2022-09-19T00:00:00\", \"value\": 67.87475204467773, \"error\": 6.958745002746582}, {\"date\": \"2022-09-20T00:00:00\", \"value\": 67.99580669403076, \"error\": 6.84365177154541}, {\"date\": \"2022-09-21T00:00:00\", \"value\": 69.53533172607422, \"error\": 9.732637405395508}, {\"date\": \"2022-09-22T00:00:00\", \"value\": 68.48499393463135, \"error\": 7.670092582702637}, {\"date\": \"2022-09-23T00:00:00\", \"value\": 69.52026748657227, \"error\": 7.070834159851074}, {\"date\": \"2022-09-24T00:00:00\", \"value\": 68.58457279205322, \"error\": 6.880213737487793}, {\"date\": \"2022-09-25T00:00:00\", \"value\": 68.4853982925415, \"error\": 6.8178606033325195}, {\"date\": \"2022-09-26T00:00:00\", \"value\": 68.920823097229, \"error\": 6.79727840423584}, {\"date\": \"2022-09-27T00:00:00\", \"value\": 68.67934036254883, \"error\": 6.790464401245117}, {\"date\": \"2022-09-28T00:00:00\", \"value\": 67.06585788726807, \"error\": 6.788207054138184}, {\"date\": \"2022-09-29T00:00:00\", \"value\": 67.11993217468262, \"error\": 6.787458419799805}, {\"date\": \"2022-09-30T00:00:00\", \"value\": 67.15106582641602, \"error\": 6.787210464477539}, {\"date\": \"2022-10-01T00:00:00\", \"value\": 69.30991649627686, \"error\": 7.982330322265625}, {\"date\": \"2022-10-02T00:00:00\", \"value\": 70.23511791229248, \"error\": 7.167031288146973}, {\"date\": \"2022-10-03T00:00:00\", \"value\": 68.2412691116333, \"error\": 6.911359786987305}, {\"date\": \"2022-10-04T00:00:00\", \"value\": 67.1223258972168, \"error\": 6.828106880187988}, {\"date\": \"2022-10-05T00:00:00\", \"value\": 68.43389511108398, \"error\": 6.800667762756348}, {\"date\": \"2022-10-06T00:00:00\", \"value\": 70.86041355133057, \"error\": 7.17338752746582}, {\"date\": \"2022-10-07T00:00:00\", \"value\": 68.43173789978027, \"error\": 7.452155113220215}, {\"date\": \"2022-10-08T00:00:00\", \"value\": 68.26208686828613, \"error\": 7.002438545227051}, {\"date\": \"2022-10-09T00:00:00\", \"value\": 66.3563871383667, \"error\": 6.857938766479492}, {\"date\": \"2022-10-10T00:00:00\", \"value\": 64.64179229736328, \"error\": 6.810518264770508}, {\"date\": \"2022-10-11T00:00:00\", \"value\": 63.13407516479492, \"error\": 6.794849395751953}, {\"date\": \"2022-10-12T00:00:00\", \"value\": 62.26731491088867, \"error\": 6.789660453796387}, {\"date\": \"2022-10-13T00:00:00\", \"value\": 61.768494606018066, \"error\": 6.78794002532959}, {\"date\": \"2022-10-14T00:00:00\", \"value\": 63.07736587524414, \"error\": 6.787369728088379}, {\"date\": \"2022-10-15T00:00:00\", \"value\": 65.36817073822021, \"error\": 6.7871809005737305}, {\"date\": \"2022-10-16T00:00:00\", \"value\": 65.55858516693115, \"error\": 6.787117958068848}, {\"date\": \"2022-10-17T00:00:00\", \"value\": 64.24860668182373, \"error\": 6.787096977233887}, {\"date\": \"2022-10-18T00:00:00\", \"value\": 63.02110767364502, \"error\": 6.787090301513672}, {\"date\": \"2022-10-19T00:00:00\", \"value\": 64.68033409118652, \"error\": 6.787088394165039}, {\"date\": \"2022-10-20T00:00:00\", \"value\": 64.74342060089111, \"error\": 6.787087440490723}, {\"date\": \"2022-10-21T00:00:00\", \"value\": 65.72802352905273, \"error\": 6.787087440490723}, {\"date\": \"2022-10-22T00:00:00\", \"value\": 67.04528331756592, \"error\": 6.787087440490723}, {\"date\": \"2022-10-23T00:00:00\", \"value\": 68.91276550292969, \"error\": 6.787087440490723}, {\"date\": \"2022-10-24T00:00:00\", \"value\": 68.87088584899902, \"error\": 6.787087440490723}, {\"date\": \"2022-10-25T00:00:00\", \"value\": 69.80383396148682, \"error\": 6.787087440490723}, {\"date\": \"2022-10-26T00:00:00\", \"value\": 71.33459758758545, \"error\": 6.787087440490723}, {\"date\": \"2022-10-27T00:00:00\", \"value\": 69.47106552124023, \"error\": 6.787087440490723}, {\"date\": \"2022-10-28T00:00:00\", \"value\": 69.53723049163818, \"error\": 6.787087440490723}, {\"date\": \"2022-10-29T00:00:00\", \"value\": 68.14620113372803, \"error\": 6.787087440490723}, {\"date\": \"2022-10-30T00:00:00\", \"value\": 69.77427673339844, \"error\": 6.787087440490723}, {\"date\": \"2022-10-31T00:00:00\", \"value\": 67.94154930114746, \"error\": 6.787087440490723}, {\"date\": \"2022-11-01T00:00:00\", \"value\": 65.42593193054199, \"error\": 6.787087440490723}, {\"date\": \"2022-11-02T00:00:00\", \"value\": 63.507694244384766, \"error\": 6.787087440490723}, {\"date\": \"2022-11-03T00:00:00\", \"value\": 63.81234073638916, \"error\": 6.787087440490723}, {\"date\": \"2022-11-04T00:00:00\", \"value\": 64.80189609527588, \"error\": 6.787087440490723}, {\"date\": \"2022-11-05T00:00:00\", \"value\": 66.45083045959473, \"error\": 6.787087440490723}, {\"date\": \"2022-11-06T00:00:00\", \"value\": 67.30630683898926, \"error\": 6.787087440490723}, {\"date\": \"2022-11-07T00:00:00\", \"value\": 65.65928268432617, \"error\": 6.787087440490723}, {\"date\": \"2022-11-08T00:00:00\", \"value\": 64.7109146118164, \"error\": 6.787087440490723}, {\"date\": \"2022-11-09T00:00:00\", \"value\": 66.0581464767456, \"error\": 6.787087440490723}, {\"date\": \"2022-11-10T00:00:00\", \"value\": 66.83868217468262, \"error\": 6.787087440490723}, {\"date\": \"2022-11-11T00:00:00\", \"value\": 67.28812026977539, \"error\": 6.787087440490723}, {\"date\": \"2022-11-12T00:00:00\", \"value\": 66.60258388519287, \"error\": 6.787087440490723}, {\"date\": \"2022-11-13T00:00:00\", \"value\": 65.02799606323242, \"error\": 6.787087440490723}, {\"date\": \"2022-11-14T00:00:00\", \"value\": 65.55050373077393, \"error\": 6.787087440490723}, {\"date\": \"2022-11-15T00:00:00\", \"value\": 64.89859008789062, \"error\": 6.787087440490723}, {\"date\": \"2022-11-16T00:00:00\", \"value\": 66.42876815795898, \"error\": 6.787087440490723}, {\"date\": \"2022-11-17T00:00:00\", \"value\": 65.88068962097168, \"error\": 6.787087440490723}, {\"date\": \"2022-11-18T00:00:00\", \"value\": 66.04149055480957, \"error\": 6.787087440490723}, {\"date\": \"2022-11-19T00:00:00\", \"value\": 67.45987796783447, \"error\": 9.97036361694336}, {\"date\": \"2022-11-20T00:00:00\", \"value\": 66.23048973083496, \"error\": 7.73403263092041}, {\"date\": \"2022-11-21T00:00:00\", \"value\": 65.15217304229736, \"error\": 7.090703964233398}, {\"date\": \"2022-11-22T00:00:00\", \"value\": 65.57346153259277, \"error\": 6.886664390563965}, {\"date\": \"2022-11-23T00:00:00\", \"value\": 64.85556316375732, \"error\": 6.819984436035156}, {\"date\": \"2022-11-24T00:00:00\", \"value\": 65.99810695648193, \"error\": 6.797981262207031}, {\"date\": \"2022-11-25T00:00:00\", \"value\": 67.17953777313232, \"error\": 6.790698051452637}, {\"date\": \"2022-11-26T00:00:00\", \"value\": 66.87974166870117, \"error\": 6.7882843017578125}, {\"date\": \"2022-11-27T00:00:00\", \"value\": 66.44053554534912, \"error\": 6.787484169006348}, {\"date\": \"2022-11-28T00:00:00\", \"value\": 67.16770267486572, \"error\": 6.787219047546387}, {\"date\": \"2022-11-29T00:00:00\", \"value\": 69.29211139678955, \"error\": 8.084515571594238}, {\"date\": \"2022-11-30T00:00:00\", \"value\": 68.70432567596436, \"error\": 7.198064804077148}, {\"date\": \"2022-12-01T00:00:00\", \"value\": 68.39340209960938, \"error\": 6.921361923217773}, {\"date\": \"2022-12-02T00:00:00\", \"value\": 69.69523525238037, \"error\": 6.831392288208008}, {\"date\": \"2022-12-03T00:00:00\", \"value\": 70.01927471160889, \"error\": 6.801753044128418}, {\"date\": \"2022-12-04T00:00:00\", \"value\": 69.22467136383057, \"error\": 6.791947364807129}, {\"date\": \"2022-12-05T00:00:00\", \"value\": 69.6847333908081, \"error\": 6.788698196411133}, {\"date\": \"2022-12-06T00:00:00\", \"value\": 69.46058559417725, \"error\": 6.78762149810791}, {\"date\": \"2022-12-07T00:00:00\", \"value\": 70.68374633789062, \"error\": 6.787263870239258}, {\"date\": \"2022-12-08T00:00:00\", \"value\": 69.4395751953125, \"error\": 6.787145614624023}, {\"date\": \"2022-12-09T00:00:00\", \"value\": 68.5557336807251, \"error\": 6.787106513977051}, {\"date\": \"2022-12-10T00:00:00\", \"value\": 69.64639282226562, \"error\": 6.787093162536621}, {\"date\": \"2022-12-11T00:00:00\", \"value\": 70.7610387802124, \"error\": 6.7870893478393555}, {\"date\": \"2022-12-12T00:00:00\", \"value\": 69.87218856811523, \"error\": 6.787087440490723}, {\"date\": \"2022-12-13T00:00:00\", \"value\": 71.30221557617188, \"error\": 6.787087440490723}, {\"date\": \"2022-12-14T00:00:00\", \"value\": 69.69834423065186, \"error\": 6.787087440490723}, {\"date\": \"2022-12-15T00:00:00\", \"value\": 70.71665668487549, \"error\": 6.787087440490723}, {\"date\": \"2022-12-16T00:00:00\", \"value\": 70.97259712219238, \"error\": 6.787087440490723}, {\"date\": \"2022-12-17T00:00:00\", \"value\": 70.60599040985107, \"error\": 6.787087440490723}, {\"date\": \"2022-12-18T00:00:00\", \"value\": 68.47622013092041, \"error\": 6.787087440490723}, {\"date\": \"2022-12-19T00:00:00\", \"value\": 68.20922088623047, \"error\": 6.787087440490723}, {\"date\": \"2022-12-20T00:00:00\", \"value\": 69.1949634552002, \"error\": 6.787087440490723}, {\"date\": \"2022-12-21T00:00:00\", \"value\": 69.26312828063965, \"error\": 6.787087440490723}, {\"date\": \"2022-12-22T00:00:00\", \"value\": 68.70909786224365, \"error\": 6.787087440490723}, {\"date\": \"2022-12-23T00:00:00\", \"value\": 68.87867546081543, \"error\": 6.787087440490723}, {\"date\": \"2022-12-24T00:00:00\", \"value\": 68.4895486831665, \"error\": 6.787087440490723}, {\"date\": \"2022-12-25T00:00:00\", \"value\": 67.28824138641357, \"error\": 6.787087440490723}, {\"date\": \"2022-12-26T00:00:00\", \"value\": 65.61927604675293, \"error\": 6.787087440490723}, {\"date\": \"2022-12-27T00:00:00\", \"value\": 66.12414073944092, \"error\": 6.787087440490723}, {\"date\": \"2022-12-28T00:00:00\", \"value\": 67.39209079742432, \"error\": 6.787087440490723}, {\"date\": \"2022-12-29T00:00:00\", \"value\": 67.63356304168701, \"error\": 6.787087440490723}, {\"date\": \"2022-12-30T00:00:00\", \"value\": 67.24057102203369, \"error\": 6.787087440490723}, {\"date\": \"2022-12-31T00:00:00\", \"value\": 68.11220836639404, \"error\": 6.787087440490723}, {\"date\": \"2023-01-01T00:00:00\", \"value\": 67.05128192901611, \"error\": 6.787087440490723}, {\"date\": \"2023-01-02T00:00:00\", \"value\": 67.06026935577393, \"error\": 6.787087440490723}, {\"date\": \"2023-01-03T00:00:00\", \"value\": 67.06544494628906, \"error\": 6.787087440490723}, {\"date\": \"2023-01-04T00:00:00\", \"value\": 68.37338352203369, \"error\": 6.787087440490723}, {\"date\": \"2023-01-05T00:00:00\", \"value\": 70.1666898727417, \"error\": 6.787087440490723}, {\"date\": \"2023-01-06T00:00:00\", \"value\": 70.46229362487793, \"error\": 6.787087440490723}, {\"date\": \"2023-01-07T00:00:00\", \"value\": 71.46319198608398, \"error\": 6.787087440490723}, {\"date\": \"2023-01-08T00:00:00\", \"value\": 71.13473606109619, \"error\": 6.787087440490723}, {\"date\": \"2023-01-09T00:00:00\", \"value\": 69.52541732788086, \"error\": 6.787087440490723}, {\"date\": \"2023-01-10T00:00:00\", \"value\": 71.9878921508789, \"error\": 6.787087440490723}, {\"date\": \"2023-01-11T00:00:00\", \"value\": 72.2258129119873, \"error\": 6.787087440490723}, {\"date\": \"2023-01-12T00:00:00\", \"value\": 73.4904260635376, \"error\": 6.787087440490723}, {\"date\": \"2023-01-13T00:00:00\", \"value\": 71.12138843536377, \"error\": 6.787087440490723}, {\"date\": \"2023-01-14T00:00:00\", \"value\": 69.12626457214355, \"error\": 6.787087440490723}, {\"date\": \"2023-01-15T00:00:00\", \"value\": 67.91612720489502, \"error\": 6.787087440490723}, {\"date\": \"2023-01-16T00:00:00\", \"value\": 66.74283504486084, \"error\": 6.787087440490723}, {\"date\": \"2023-01-17T00:00:00\", \"value\": 66.11525630950928, \"error\": 6.787087440490723}, {\"date\": \"2023-01-18T00:00:00\", \"value\": 65.6593017578125, \"error\": 6.787087440490723}, {\"date\": \"2023-01-19T00:00:00\", \"value\": 65.39675998687744, \"error\": 6.787087440490723}, {\"date\": \"2023-01-20T00:00:00\", \"value\": 65.43873977661133, \"error\": 6.787087440490723}, {\"date\": \"2023-01-21T00:00:00\", \"value\": 66.34475326538086, \"error\": 6.787087440490723}, {\"date\": \"2023-01-22T00:00:00\", \"value\": 67.44683837890625, \"error\": 6.787087440490723}, {\"date\": \"2023-01-23T00:00:00\", \"value\": 65.96378898620605, \"error\": 6.787087440490723}, {\"date\": \"2023-01-24T00:00:00\", \"value\": 64.75090503692627, \"error\": 6.787087440490723}, {\"date\": \"2023-01-25T00:00:00\", \"value\": 64.53052616119385, \"error\": 6.787087440490723}, {\"date\": \"2023-01-26T00:00:00\", \"value\": 65.65943622589111, \"error\": 6.787087440490723}, {\"date\": \"2023-01-27T00:00:00\", \"value\": 65.34329032897949, \"error\": 6.787087440490723}, {\"date\": \"2023-01-28T00:00:00\", \"value\": 66.12743091583252, \"error\": 6.787087440490723}, {\"date\": \"2023-01-29T00:00:00\", \"value\": 65.53828144073486, \"error\": 6.787087440490723}, {\"date\": \"2023-01-30T00:00:00\", \"value\": 65.19904518127441, \"error\": 6.787087440490723}, {\"date\": \"2023-01-31T00:00:00\", \"value\": 64.40729713439941, \"error\": 6.787087440490723}, {\"date\": \"2023-02-01T00:00:00\", \"value\": 64.83957386016846, \"error\": 6.787087440490723}, {\"date\": \"2023-02-02T00:00:00\", \"value\": 64.56303024291992, \"error\": 6.787087440490723}, {\"date\": \"2023-02-03T00:00:00\", \"value\": 64.78461742401123, \"error\": 6.787087440490723}, {\"date\": \"2023-02-04T00:00:00\", \"value\": 64.9505205154419, \"error\": 6.787087440490723}, {\"date\": \"2023-02-05T00:00:00\", \"value\": 64.7165756225586, \"error\": 6.787087440490723}, {\"date\": \"2023-02-06T00:00:00\", \"value\": 64.69659805297852, \"error\": 10.699845314025879}, {\"date\": \"2023-02-07T00:00:00\", \"value\": 64.851975440979, \"error\": 13.828277587890625}, {\"date\": \"2023-02-08T00:00:00\", \"value\": 64.66572093963623, \"error\": 8.649650573730469}, {\"date\": \"2023-02-09T00:00:00\", \"value\": 66.51856231689453, \"error\": 7.365833282470703}, {\"date\": \"2023-02-10T00:00:00\", \"value\": 65.99166870117188, \"error\": 6.975057601928711}, {\"date\": \"2023-02-11T00:00:00\", \"value\": 65.64273738861084, \"error\": 6.848990440368652}, {\"date\": \"2023-02-12T00:00:00\", \"value\": 65.70969772338867, \"error\": 6.807565689086914}, {\"date\": \"2023-02-13T00:00:00\", \"value\": 65.74809074401855, \"error\": 6.793871879577637}, {\"date\": \"2023-02-14T00:00:00\", \"value\": 65.28032112121582, \"error\": 6.789336204528809}, {\"date\": \"2023-02-15T00:00:00\", \"value\": 65.02072238922119, \"error\": 6.787832260131836}, {\"date\": \"2023-02-16T00:00:00\", \"value\": 66.31510257720947, \"error\": 6.787334442138672}, {\"date\": \"2023-02-17T00:00:00\", \"value\": 68.02291202545166, \"error\": 6.787169456481934}, {\"date\": \"2023-02-18T00:00:00\", \"value\": 68.42863464355469, \"error\": 6.787114143371582}, {\"date\": \"2023-02-19T00:00:00\", \"value\": 66.7435245513916, \"error\": 6.78709602355957}, {\"date\": \"2023-02-20T00:00:00\", \"value\": 64.81386375427246, \"error\": 6.787090301513672}, {\"date\": \"2023-02-21T00:00:00\", \"value\": 64.6621150970459, \"error\": 6.787088394165039}, {\"date\": \"2023-02-22T00:00:00\", \"value\": 64.57473754882812, \"error\": 6.787087440490723}, {\"date\": \"2023-02-23T00:00:00\", \"value\": 65.4837875366211, \"error\": 6.787087440490723}, {\"date\": \"2023-02-24T00:00:00\", \"value\": 66.48690605163574, \"error\": 6.787087440490723}, {\"date\": \"2023-02-25T00:00:00\", \"value\": 67.07091999053955, \"error\": 6.787087440490723}, {\"date\": \"2023-02-26T00:00:00\", \"value\": 66.41324424743652, \"error\": 6.787087440490723}, {\"date\": \"2023-02-27T00:00:00\", \"value\": 66.03454971313477, \"error\": 6.787087440490723}, {\"date\": \"2023-02-28T00:00:00\", \"value\": 66.39152908325195, \"error\": 6.787087440490723}, {\"date\": \"2023-03-01T00:00:00\", \"value\": 66.61240291595459, \"error\": 6.787087440490723}, {\"date\": \"2023-03-02T00:00:00\", \"value\": 65.79345989227295, \"error\": 6.787087440490723}, {\"date\": \"2023-03-03T00:00:00\", \"value\": 67.21415328979492, \"error\": 6.787087440490723}, {\"date\": \"2023-03-04T00:00:00\", \"value\": 65.72648429870605, \"error\": 6.787087440490723}, {\"date\": \"2023-03-05T00:00:00\", \"value\": 65.81808853149414, \"error\": 6.787087440490723}, {\"date\": \"2023-03-06T00:00:00\", \"value\": 63.50029945373535, \"error\": 6.787087440490723}, {\"date\": \"2023-03-07T00:00:00\", \"value\": 64.53623580932617, \"error\": 6.787087440490723}, {\"date\": \"2023-03-08T00:00:00\", \"value\": 64.65862846374512, \"error\": 6.787087440490723}, {\"date\": \"2023-03-09T00:00:00\", \"value\": 65.67731666564941, \"error\": 6.787087440490723}, {\"date\": \"2023-03-10T00:00:00\", \"value\": 66.26388454437256, \"error\": 6.787087440490723}, {\"date\": \"2023-03-11T00:00:00\", \"value\": 67.0757417678833, \"error\": 6.787087440490723}, {\"date\": \"2023-03-12T00:00:00\", \"value\": 66.63095664978027, \"error\": 6.787087440490723}, {\"date\": \"2023-03-13T00:00:00\", \"value\": 65.90013027191162, \"error\": 6.787087440490723}, {\"date\": \"2023-03-14T00:00:00\", \"value\": 65.01352310180664, \"error\": 6.787087440490723}, {\"date\": \"2023-03-15T00:00:00\", \"value\": 65.92762756347656, \"error\": 6.787087440490723}, {\"date\": \"2023-03-16T00:00:00\", \"value\": 67.69852447509766, \"error\": 6.787087440490723}, {\"date\": \"2023-03-17T00:00:00\", \"value\": 69.56055736541748, \"error\": 6.787087440490723}, {\"date\": \"2023-03-18T00:00:00\", \"value\": 67.89636325836182, \"error\": 9.364481925964355}, {\"date\": \"2023-03-19T00:00:00\", \"value\": 68.02514743804932, \"error\": 7.569096565246582}, {\"date\": \"2023-03-20T00:00:00\", \"value\": 66.61328792572021, \"error\": 7.039268493652344}, {\"date\": \"2023-03-21T00:00:00\", \"value\": 66.32143211364746, \"error\": 6.869946479797363}, {\"date\": \"2023-03-22T00:00:00\", \"value\": 66.54236221313477, \"error\": 6.8144779205322275}, {\"date\": \"2023-03-23T00:00:00\", \"value\": 66.9882869720459, \"error\": 6.796159744262695}, {\"date\": \"2023-03-24T00:00:00\", \"value\": 65.36359882354736, \"error\": 6.790094375610352}, {\"date\": \"2023-03-25T00:00:00\", \"value\": 67.13089275360107, \"error\": 6.788084030151367}, {\"date\": \"2023-03-26T00:00:00\", \"value\": 67.19684314727783, \"error\": 6.787417411804199}, {\"date\": \"2023-03-27T00:00:00\", \"value\": 67.23481559753418, \"error\": 6.787196159362793}, {\"date\": \"2023-03-28T00:00:00\", \"value\": 64.87813377380371, \"error\": 6.787123680114746}, {\"date\": \"2023-03-29T00:00:00\", \"value\": 63.13749122619629, \"error\": 6.7870988845825195}, {\"date\": \"2023-03-30T00:00:00\", \"value\": 63.81331443786621, \"error\": 6.787091255187988}, {\"date\": \"2023-03-31T00:00:00\", \"value\": 65.7770128250122, \"error\": 6.787088394165039}, {\"date\": \"2023-04-01T00:00:00\", \"value\": 67.38367176055908, \"error\": 6.787087440490723}, {\"date\": \"2023-04-02T00:00:00\", \"value\": 66.40500354766846, \"error\": 6.787087440490723}, {\"date\": \"2023-04-03T00:00:00\", \"value\": 65.67210388183594, \"error\": 6.787087440490723}, {\"date\": \"2023-04-04T00:00:00\", \"value\": 66.69407653808594, \"error\": 6.787087440490723}, {\"date\": \"2023-04-05T00:00:00\", \"value\": 66.80120849609375, \"error\": 6.787087440490723}, {\"date\": \"2023-04-06T00:00:00\", \"value\": 66.14675903320312, \"error\": 6.787087440490723}, {\"date\": \"2023-04-07T00:00:00\", \"value\": 68.68383312225342, \"error\": 6.787087440490723}, {\"date\": \"2023-04-08T00:00:00\", \"value\": 70.7573709487915, \"error\": 8.233857154846191}, {\"date\": \"2023-04-09T00:00:00\", \"value\": 68.84497261047363, \"error\": 9.984498977661133}, {\"date\": \"2023-04-10T00:00:00\", \"value\": 69.56577587127686, \"error\": 7.7378034591674805}, {\"date\": \"2023-04-11T00:00:00\", \"value\": 71.41541576385498, \"error\": 7.091872215270996}, {\"date\": \"2023-04-12T00:00:00\", \"value\": 70.87414932250977, \"error\": 6.887042999267578}, {\"date\": \"2023-04-13T00:00:00\", \"value\": 70.08651828765869, \"error\": 6.8201093673706055}, {\"date\": \"2023-04-14T00:00:00\", \"value\": 70.69989776611328, \"error\": 6.798023223876953}, {\"date\": \"2023-04-15T00:00:00\", \"value\": 68.48311042785645, \"error\": 6.790711402893066}, {\"date\": \"2023-04-16T00:00:00\", \"value\": 68.51829433441162, \"error\": 6.788288116455078}, {\"date\": \"2023-04-17T00:00:00\", \"value\": 66.6312084197998, \"error\": 6.787485122680664}, {\"date\": \"2023-04-18T00:00:00\", \"value\": 66.86806964874268, \"error\": 6.787219047546387}, {\"date\": \"2023-04-19T00:00:00\", \"value\": 65.33451843261719, \"error\": 9.694352149963379}, {\"date\": \"2023-04-20T00:00:00\", \"value\": 66.75869083404541, \"error\": 7.659703254699707}, {\"date\": \"2023-04-21T00:00:00\", \"value\": 65.91719436645508, \"error\": 7.067597389221191}, {\"date\": \"2023-04-22T00:00:00\", \"value\": 67.30251598358154, \"error\": 6.879161834716797}, {\"date\": \"2023-04-23T00:00:00\", \"value\": 67.6099853515625, \"error\": 6.817514419555664}, {\"date\": \"2023-04-24T00:00:00\", \"value\": 67.41854190826416, \"error\": 6.797163963317871}, {\"date\": \"2023-04-25T00:00:00\", \"value\": 69.20870685577393, \"error\": 6.790427207946777}, {\"date\": \"2023-04-26T00:00:00\", \"value\": 68.3392391204834, \"error\": 6.78819465637207}, {\"date\": \"2023-04-27T00:00:00\", \"value\": 70.50323581695557, \"error\": 7.967808723449707}, {\"date\": \"2023-04-28T00:00:00\", \"value\": 70.86804008483887, \"error\": 7.162603378295898}, {\"date\": \"2023-04-29T00:00:00\", \"value\": 70.01582717895508, \"error\": 6.909931182861328}, {\"date\": \"2023-04-30T00:00:00\", \"value\": 67.67080593109131, \"error\": 6.827637672424316}, {\"date\": \"2023-05-01T00:00:00\", \"value\": 68.01660251617432, \"error\": 6.800512313842773}, {\"date\": \"2023-05-02T00:00:00\", \"value\": 68.26130390167236, \"error\": 6.791536331176758}, {\"date\": \"2023-05-03T00:00:00\", \"value\": 66.04984951019287, \"error\": 6.788561820983887}, {\"date\": \"2023-05-04T00:00:00\", \"value\": 64.77478218078613, \"error\": 6.787575721740723}, {\"date\": \"2023-05-05T00:00:00\", \"value\": 66.08043575286865, \"error\": 6.787249565124512}, {\"date\": \"2023-05-06T00:00:00\", \"value\": 67.62642860412598, \"error\": 6.787140846252441}, {\"date\": \"2023-05-07T00:00:00\", \"value\": 66.69466781616211, \"error\": 6.787104606628418}, {\"date\": \"2023-05-08T00:00:00\", \"value\": 68.79349613189697, \"error\": 6.787093162536621}, {\"date\": \"2023-05-09T00:00:00\", \"value\": 66.67280101776123, \"error\": 8.095381736755371}, {\"date\": \"2023-05-10T00:00:00\", \"value\": 67.96052837371826, \"error\": 7.201352119445801}, {\"date\": \"2023-05-11T00:00:00\", \"value\": 66.05942058563232, \"error\": 6.922420501708984}, {\"date\": \"2023-05-12T00:00:00\", \"value\": 68.0353651046753, \"error\": 6.831740379333496}, {\"date\": \"2023-05-13T00:00:00\", \"value\": 69.79646301269531, \"error\": 6.801868438720703}, {\"date\": \"2023-05-14T00:00:00\", \"value\": 69.63796043395996, \"error\": 6.791985511779785}, {\"date\": \"2023-05-15T00:00:00\", \"value\": 67.24554920196533, \"error\": 6.788710594177246}, {\"date\": \"2023-05-16T00:00:00\", \"value\": 65.16667366027832, \"error\": 6.787625312805176}, {\"date\": \"2023-05-17T00:00:00\", \"value\": 65.82571029663086, \"error\": 6.787265777587891}, {\"date\": \"2023-05-18T00:00:00\", \"value\": 65.74119853973389, \"error\": 6.78714656829834}, {\"date\": \"2023-05-19T00:00:00\", \"value\": 65.74152851104736, \"error\": 6.787106513977051}, {\"date\": \"2023-05-20T00:00:00\", \"value\": 65.74171829223633, \"error\": 6.787093162536621}, {\"date\": \"2023-05-21T00:00:00\", \"value\": 63.90960502624512, \"error\": 6.7870893478393555}, {\"date\": \"2023-05-22T00:00:00\", \"value\": 61.924123764038086, \"error\": 6.787087440490723}, {\"date\": \"2023-05-23T00:00:00\", \"value\": 60.93216323852539, \"error\": 6.787087440490723}, {\"date\": \"2023-05-24T00:00:00\", \"value\": 60.68863582611084, \"error\": 6.787087440490723}, {\"date\": \"2023-05-25T00:00:00\", \"value\": 62.71265888214111, \"error\": 10.273416519165039}, {\"date\": \"2023-05-26T00:00:00\", \"value\": 63.05282211303711, \"error\": 7.814133644104004}, {\"date\": \"2023-05-27T00:00:00\", \"value\": 63.456838607788086, \"error\": 7.115470886230469}, {\"date\": \"2023-05-28T00:00:00\", \"value\": 63.97831916809082, \"error\": 6.894692420959473}, {\"date\": \"2023-05-29T00:00:00\", \"value\": 63.01649284362793, \"error\": 6.8226261138916025}, {\"date\": \"2023-05-30T00:00:00\", \"value\": 62.33835697174072, \"error\": 6.798854827880859}, {\"date\": \"2023-05-31T00:00:00\", \"value\": 63.20188808441162, \"error\": 6.790987014770508}, {\"date\": \"2023-06-01T00:00:00\", \"value\": 60.700860023498535, \"error\": 6.930672645568848}, {\"date\": \"2023-06-02T00:00:00\", \"value\": 60.326581954956055, \"error\": 6.83444881439209}, {\"date\": \"2023-06-03T00:00:00\", \"value\": 60.825517654418945, \"error\": 6.802762985229492}, {\"date\": \"2023-06-04T00:00:00\", \"value\": 62.2479944229126, \"error\": 6.792281150817871}, {\"date\": \"2023-06-05T00:00:00\", \"value\": 63.15368843078613, \"error\": 6.788808822631836}, {\"date\": \"2023-06-06T00:00:00\", \"value\": 62.69601249694824, \"error\": 6.787657737731934}, {\"date\": \"2023-06-07T00:00:00\", \"value\": 62.07737731933594, \"error\": 6.787276268005371}, {\"date\": \"2023-06-08T00:00:00\", \"value\": 62.70143413543701, \"error\": 6.787149429321289}, {\"date\": \"2023-06-09T00:00:00\", \"value\": 63.600796699523926, \"error\": 6.787107467651367}, {\"date\": \"2023-06-10T00:00:00\", \"value\": 64.4594030380249, \"error\": 6.7870941162109375}, {\"date\": \"2023-06-11T00:00:00\", \"value\": 63.48865604400635, \"error\": 6.7870893478393555}, {\"date\": \"2023-06-12T00:00:00\", \"value\": 62.87916564941406, \"error\": 6.787087440490723}, {\"date\": \"2023-06-13T00:00:00\", \"value\": 63.31361484527588, \"error\": 6.787087440490723}, {\"date\": \"2023-06-14T00:00:00\", \"value\": 63.46114444732666, \"error\": 6.787087440490723}, {\"date\": \"2023-06-15T00:00:00\", \"value\": 63.05509853363037, \"error\": 6.787087440490723}, {\"date\": \"2023-06-16T00:00:00\", \"value\": 64.45065975189209, \"error\": 6.787087440490723}, {\"date\": \"2023-06-17T00:00:00\", \"value\": 61.97917652130127, \"error\": 7.021415710449219}, {\"date\": \"2023-06-18T00:00:00\", \"value\": 62.87069129943848, \"error\": 6.8641300201416025}, {\"date\": \"2023-06-19T00:00:00\", \"value\": 62.85817909240723, \"error\": 6.812560081481934}, {\"date\": \"2023-06-20T00:00:00\", \"value\": 62.10883331298828, \"error\": 6.795524597167969}, {\"date\": \"2023-06-21T00:00:00\", \"value\": 63.66623878479004, \"error\": 9.643182754516602}, {\"date\": \"2023-06-22T00:00:00\", \"value\": 62.64473342895508, \"error\": 7.64577579498291}, {\"date\": \"2023-06-23T00:00:00\", \"value\": 61.64900207519531, \"error\": 7.063254356384277}, {\"date\": \"2023-06-24T00:00:00\", \"value\": 61.292903900146484, \"error\": 6.877750396728516}, {\"date\": \"2023-06-25T00:00:00\", \"value\": 61.09929370880127, \"error\": 6.817049026489258}, {\"date\": \"2023-06-26T00:00:00\", \"value\": 60.01321792602539, \"error\": 6.79701042175293}, {\"date\": \"2023-06-27T00:00:00\", \"value\": 61.824957847595215, \"error\": 6.790375709533691}, {\"date\": \"2023-06-28T00:00:00\", \"value\": 63.35446834564209, \"error\": 6.788177490234375}, {\"date\": \"2023-06-29T00:00:00\", \"value\": 65.02844619750977, \"error\": 6.787448883056641}, {\"date\": \"2023-06-30T00:00:00\", \"value\": 63.41180992126465, \"error\": 6.787206649780273}, {\"date\": \"2023-07-01T00:00:00\", \"value\": 65.06580066680908, \"error\": 6.787126541137695}, {\"date\": \"2023-07-02T00:00:00\", \"value\": 64.7725772857666, \"error\": 6.787099838256836}, {\"date\": \"2023-07-03T00:00:00\", \"value\": 62.86984825134277, \"error\": 8.72205924987793}, {\"date\": \"2023-07-04T00:00:00\", \"value\": 62.119723320007324, \"error\": 7.386868476867676}, {\"date\": \"2023-07-05T00:00:00\", \"value\": 62.23296642303467, \"error\": 6.9817447662353525}, {\"date\": \"2023-07-06T00:00:00\", \"value\": 62.44129657745361, \"error\": 6.851177215576172}, {\"date\": \"2023-07-07T00:00:00\", \"value\": 63.78500747680664, \"error\": 6.808287620544434}, {\"date\": \"2023-07-08T00:00:00\", \"value\": 63.11453628540039, \"error\": 6.794111251831055}, {\"date\": \"2023-07-09T00:00:00\", \"value\": 63.39080333709717, \"error\": 6.78941535949707}, {\"date\": \"2023-07-10T00:00:00\", \"value\": 63.23752498626709, \"error\": 6.787858963012695}, {\"date\": \"2023-07-11T00:00:00\", \"value\": 63.202216148376465, \"error\": 6.7873430252075195}, {\"date\": \"2023-07-12T00:00:00\", \"value\": 63.175326347351074, \"error\": 6.787172317504883}, {\"date\": \"2023-07-13T00:00:00\", \"value\": 62.342830657958984, \"error\": 6.787115097045898}, {\"date\": \"2023-07-14T00:00:00\", \"value\": 61.38262367248535, \"error\": 6.78709602355957}, {\"date\": \"2023-07-15T00:00:00\", \"value\": 62.75314140319824, \"error\": 6.787090301513672}, {\"date\": \"2023-07-16T00:00:00\", \"value\": 62.0997371673584, \"error\": 6.787088394165039}, {\"date\": \"2023-07-17T00:00:00\", \"value\": 61.24265003204346, \"error\": 6.787087440490723}, {\"date\": \"2023-07-18T00:00:00\", \"value\": 62.217763900756836, \"error\": 6.787087440490723}, {\"date\": \"2023-07-19T00:00:00\", \"value\": 63.61654853820801, \"error\": 10.015925407409668}, {\"date\": \"2023-07-20T00:00:00\", \"value\": 63.01823711395264, \"error\": 7.7461748123168945}, {\"date\": \"2023-07-21T00:00:00\", \"value\": 63.741371154785156, \"error\": 7.094467163085937}, {\"date\": \"2023-07-22T00:00:00\", \"value\": 65.19587707519531, \"error\": 6.887885093688965}, {\"date\": \"2023-07-23T00:00:00\", \"value\": 65.04622840881348, \"error\": 6.820385932922363}, {\"date\": \"2023-07-24T00:00:00\", \"value\": 65.74207592010498, \"error\": 6.798113822937012}, {\"date\": \"2023-07-25T00:00:00\", \"value\": 65.66213989257812, \"error\": 6.790741920471191}, {\"date\": \"2023-07-26T00:00:00\", \"value\": 66.02256393432617, \"error\": 6.788298606872559}, {\"date\": \"2023-07-27T00:00:00\", \"value\": 65.42446422576904, \"error\": 6.78748893737793}, {\"date\": \"2023-07-28T00:00:00\", \"value\": 64.42511749267578, \"error\": 6.787220001220703}, {\"date\": \"2023-07-29T00:00:00\", \"value\": 65.3061933517456, \"error\": 6.787131309509277}, {\"date\": \"2023-07-30T00:00:00\", \"value\": 64.85725402832031, \"error\": 6.787101745605469}, {\"date\": \"2023-07-31T00:00:00\", \"value\": 63.16435718536377, \"error\": 6.787092208862305}, {\"date\": \"2023-08-01T00:00:00\", \"value\": 63.14583873748779, \"error\": 6.787088394165039}, {\"date\": \"2023-08-02T00:00:00\", \"value\": 65.3487319946289, \"error\": 6.787087440490723}, {\"date\": \"2023-08-03T00:00:00\", \"value\": 63.660264015197754, \"error\": 6.787087440490723}, {\"date\": \"2023-08-04T00:00:00\", \"value\": 62.330583572387695, \"error\": 6.787087440490723}, {\"date\": \"2023-08-05T00:00:00\", \"value\": 62.99130821228027, \"error\": 6.787087440490723}, {\"date\": \"2023-08-06T00:00:00\", \"value\": 64.32266807556152, \"error\": 6.787087440490723}, {\"date\": \"2023-08-07T00:00:00\", \"value\": 64.48062992095947, \"error\": 6.787087440490723}, {\"date\": \"2023-08-08T00:00:00\", \"value\": 62.678951263427734, \"error\": 6.787087440490723}, {\"date\": \"2023-08-09T00:00:00\", \"value\": 64.61351013183594, \"error\": 6.787087440490723}, {\"date\": \"2023-08-10T00:00:00\", \"value\": 64.1487808227539, \"error\": 6.787087440490723}, {\"date\": \"2023-08-11T00:00:00\", \"value\": 64.3430233001709, \"error\": 6.787087440490723}, {\"date\": \"2023-08-12T00:00:00\", \"value\": 63.97406768798828, \"error\": 6.787087440490723}, {\"date\": \"2023-08-13T00:00:00\", \"value\": 64.58403778076172, \"error\": 6.787087440490723}, {\"date\": \"2023-08-14T00:00:00\", \"value\": 63.31898498535156, \"error\": 6.787087440490723}, {\"date\": \"2023-08-15T00:00:00\", \"value\": 64.9568862915039, \"error\": 6.787087440490723}, {\"date\": \"2023-08-16T00:00:00\", \"value\": 64.90425300598145, \"error\": 6.787087440490723}, {\"date\": \"2023-08-17T00:00:00\", \"value\": 65.32816410064697, \"error\": 10.699845314025879}, {\"date\": \"2023-08-18T00:00:00\", \"value\": 63.97560787200928, \"error\": 7.924250602722168}, {\"date\": \"2023-08-19T00:00:00\", \"value\": 62.10035991668701, \"error\": 7.149294853210449}, {\"date\": \"2023-08-20T00:00:00\", \"value\": 63.93719482421875, \"error\": 9.228936195373535}, {\"date\": \"2023-08-21T00:00:00\", \"value\": 63.54306602478027, \"error\": 7.531292915344238}, {\"date\": \"2023-08-22T00:00:00\", \"value\": 63.056684494018555, \"error\": 7.027395248413086}, {\"date\": \"2023-08-23T00:00:00\", \"value\": 63.07522106170654, \"error\": 6.866079330444336}, {\"date\": \"2023-08-24T00:00:00\", \"value\": 65.33947086334229, \"error\": 6.813202857971191}, {\"date\": \"2023-08-25T00:00:00\", \"value\": 65.20759296417236, \"error\": 6.795738220214844}, {\"date\": \"2023-08-26T00:00:00\", \"value\": 64.24711036682129, \"error\": 6.78995418548584}, {\"date\": \"2023-08-27T00:00:00\", \"value\": 63.69438552856445, \"error\": 6.788037300109863}, {\"date\": \"2023-08-28T00:00:00\", \"value\": 63.37618541717529, \"error\": 6.787402153015137}, {\"date\": \"2023-08-29T00:00:00\", \"value\": 62.956679344177246, \"error\": 6.787191390991211}, {\"date\": \"2023-08-30T00:00:00\", \"value\": 61.75278854370117, \"error\": 6.787121772766113}, {\"date\": \"2023-08-31T00:00:00\", \"value\": 61.2792387008667, \"error\": 6.7870988845825195}, {\"date\": \"2023-09-01T00:00:00\", \"value\": 62.91186714172363, \"error\": 6.787091255187988}, {\"date\": \"2023-09-02T00:00:00\", \"value\": 62.422969818115234, \"error\": 6.787088394165039}, {\"date\": \"2023-09-03T00:00:00\", \"value\": 61.94228935241699, \"error\": 6.787087440490723}, {\"date\": \"2023-09-04T00:00:00\", \"value\": 63.91326332092285, \"error\": 8.529607772827148}, {\"date\": \"2023-09-05T00:00:00\", \"value\": 64.16800022125244, \"error\": 7.330734252929687}, {\"date\": \"2023-09-06T00:00:00\", \"value\": 64.29911708831787, \"error\": 6.963876724243164}, {\"date\": \"2023-09-07T00:00:00\", \"value\": 66.34205532073975, \"error\": 6.845332145690918}, {\"date\": \"2023-09-08T00:00:00\", \"value\": 66.52483558654785, \"error\": 6.806358337402344}, {\"date\": \"2023-09-09T00:00:00\", \"value\": 64.82246780395508, \"error\": 9.282681465148926}, {\"date\": \"2023-09-10T00:00:00\", \"value\": 63.65437698364258, \"error\": 7.546322822570801}, {\"date\": \"2023-09-11T00:00:00\", \"value\": 65.96689796447754, \"error\": 7.032119750976562}, {\"date\": \"2023-09-12T00:00:00\", \"value\": 67.23272800445557, \"error\": 6.867618560791016}, {\"date\": \"2023-09-13T00:00:00\", \"value\": 67.94956016540527, \"error\": 6.8137102127075195}, {\"date\": \"2023-09-14T00:00:00\", \"value\": 67.85536479949951, \"error\": 6.795906066894531}, {\"date\": \"2023-09-15T00:00:00\", \"value\": 69.87869930267334, \"error\": 8.387136459350586}, {\"date\": \"2023-09-16T00:00:00\", \"value\": 69.44014644622803, \"error\": 7.288704872131348}, {\"date\": \"2023-09-17T00:00:00\", \"value\": 68.92625522613525, \"error\": 6.950450897216797}, {\"date\": \"2023-09-18T00:00:00\", \"value\": 66.62247085571289, \"error\": 6.840934753417969}, {\"date\": \"2023-09-19T00:00:00\", \"value\": 68.29457950592041, \"error\": 6.804905891418457}, {\"date\": \"2023-09-20T00:00:00\", \"value\": 68.55001926422119, \"error\": 6.792991638183594}, {\"date\": \"2023-09-21T00:00:00\", \"value\": 67.68886375427246, \"error\": 6.789044380187988}, {\"date\": \"2023-09-22T00:00:00\", \"value\": 68.20107078552246, \"error\": 6.787735939025879}, {\"date\": \"2023-09-23T00:00:00\", \"value\": 69.78415012359619, \"error\": 9.571805953979492}, {\"date\": \"2023-09-24T00:00:00\", \"value\": 69.1104383468628, \"error\": 7.6262712478637695}, {\"date\": \"2023-09-25T00:00:00\", \"value\": 67.22434139251709, \"error\": 7.057165145874023}, {\"date\": \"2023-09-26T00:00:00\", \"value\": 68.1102466583252, \"error\": 6.875770568847656}, {\"date\": \"2023-09-27T00:00:00\", \"value\": 68.611083984375, \"error\": 6.816396713256836}, {\"date\": \"2023-09-28T00:00:00\", \"value\": 69.84555530548096, \"error\": 6.796794891357422}, {\"date\": \"2023-09-29T00:00:00\", \"value\": 68.11287593841553, \"error\": 6.790304183959961}, {\"date\": \"2023-09-30T00:00:00\", \"value\": 69.10874652862549, \"error\": 6.788153648376465}, {\"date\": \"2023-10-01T00:00:00\", \"value\": 66.69302082061768, \"error\": 6.787440299987793}, {\"date\": \"2023-10-02T00:00:00\", \"value\": 66.11966705322266, \"error\": 6.787203788757324}, {\"date\": \"2023-10-03T00:00:00\", \"value\": 67.96315002441406, \"error\": 6.787125587463379}, {\"date\": \"2023-10-04T00:00:00\", \"value\": 68.58972930908203, \"error\": 6.787099838256836}, {\"date\": \"2023-10-05T00:00:00\", \"value\": 67.93478965759277, \"error\": 6.787091255187988}, {\"date\": \"2023-10-06T00:00:00\", \"value\": 68.13837718963623, \"error\": 6.787088394165039}, {\"date\": \"2023-10-07T00:00:00\", \"value\": 67.2373218536377, \"error\": 6.787087440490723}, {\"date\": \"2023-10-08T00:00:00\", \"value\": 69.26419353485107, \"error\": 6.787087440490723}, {\"date\": \"2023-10-09T00:00:00\", \"value\": 67.96758937835693, \"error\": 6.787087440490723}, {\"date\": \"2023-10-10T00:00:00\", \"value\": 68.24226093292236, \"error\": 6.787087440490723}, {\"date\": \"2023-10-11T00:00:00\", \"value\": 69.6041202545166, \"error\": 10.273416519165039}, {\"date\": \"2023-10-13T00:00:00\", \"value\": 69.71240901947021, \"error\": 8.067774772644043}, {\"date\": \"2023-10-14T00:00:00\", \"value\": 70.8426160812378, \"error\": 7.192996025085449}, {\"date\": \"2023-10-16T00:00:00\", \"value\": 73.10003280639648, \"error\": 7.230772972106934}, {\"date\": \"2023-10-17T00:00:00\", \"value\": 70.66081047058105, \"error\": 6.931880950927734}, {\"date\": \"2023-10-18T00:00:00\", \"value\": 68.78304290771484, \"error\": 6.834845542907715}, {\"date\": \"2023-10-20T00:00:00\", \"value\": 68.7348165512085, \"error\": 7.121852874755859}, {\"date\": \"2023-10-21T00:00:00\", \"value\": 69.22823715209961, \"error\": 6.896759033203125}, {\"date\": \"2023-10-22T00:00:00\", \"value\": 70.77383232116699, \"error\": 6.823306083679199}, {\"date\": \"2023-10-23T00:00:00\", \"value\": 69.11959838867188, \"error\": 6.799079895019531}, {\"date\": \"2023-10-24T00:00:00\", \"value\": 67.45962238311768, \"error\": 6.7910614013671875}, {\"date\": \"2023-10-25T00:00:00\", \"value\": 68.51668548583984, \"error\": 6.78840446472168}, {\"date\": \"2023-10-26T00:00:00\", \"value\": 68.1192626953125, \"error\": 6.787524223327637}, {\"date\": \"2023-10-27T00:00:00\", \"value\": 68.39338302612305, \"error\": 6.787232398986816}, {\"date\": \"2023-10-28T00:00:00\", \"value\": 68.0482873916626, \"error\": 6.787135124206543}, {\"date\": \"2023-10-30T00:00:00\", \"value\": 67.31356716156006, \"error\": 7.107138633728027}, {\"date\": \"2023-10-31T00:00:00\", \"value\": 68.44967365264893, \"error\": 6.891993522644043}, {\"date\": \"2023-11-01T00:00:00\", \"value\": 67.5733232498169, \"error\": 6.821738243103027}, {\"date\": \"2023-11-02T00:00:00\", \"value\": 68.07987689971924, \"error\": 6.798561096191406}, {\"date\": \"2023-11-03T00:00:00\", \"value\": 68.07851505279541, \"error\": 6.790889739990234}, {\"date\": \"2023-11-07T00:00:00\", \"value\": 68.14500522613525, \"error\": 7.68585205078125}, {\"date\": \"2023-11-08T00:00:00\", \"value\": 68.69694805145264, \"error\": 7.075739860534668}, {\"date\": \"2023-11-09T00:00:00\", \"value\": 68.14741134643555, \"error\": 6.881807327270508}, {\"date\": \"2023-11-10T00:00:00\", \"value\": 66.84641075134277, \"error\": 6.818385124206543}, {\"date\": \"2023-11-11T00:00:00\", \"value\": 67.08979415893555, \"error\": 6.797451972961426}, {\"date\": \"2023-11-12T00:00:00\", \"value\": 67.5563793182373, \"error\": 6.790522575378418}, {\"date\": \"2023-11-13T00:00:00\", \"value\": 67.8248519897461, \"error\": 6.788226127624512}, {\"date\": \"2023-11-16T00:00:00\", \"value\": 67.6451644897461, \"error\": 7.406000137329102}, {\"date\": \"2023-11-17T00:00:00\", \"value\": 68.59609794616699, \"error\": 6.987818717956543}, {\"date\": \"2023-11-18T00:00:00\", \"value\": 68.54276180267334, \"error\": 6.85316276550293}, {\"date\": \"2023-11-19T00:00:00\", \"value\": 68.35766792297363, \"error\": 6.808942794799805}, {\"date\": \"2023-11-20T00:00:00\", \"value\": 68.526930809021, \"error\": 6.794327735900879}, {\"date\": \"2023-11-21T00:00:00\", \"value\": 68.50290966033936, \"error\": 6.789486885070801}, {\"date\": \"2023-11-22T00:00:00\", \"value\": 69.3771800994873, \"error\": 6.7878828048706055}, {\"date\": \"2023-11-23T00:00:00\", \"value\": 70.38786029815674, \"error\": 6.787350654602051}, {\"date\": \"2023-11-24T00:00:00\", \"value\": 68.94042873382568, \"error\": 6.787174224853516}, {\"date\": \"2023-11-25T00:00:00\", \"value\": 70.53117561340332, \"error\": 10.273482322692871}, {\"date\": \"2023-11-26T00:00:00\", \"value\": 71.41268157958984, \"error\": 7.814150810241699}, {\"date\": \"2023-11-27T00:00:00\", \"value\": 69.71389961242676, \"error\": 7.115475654602051}, {\"date\": \"2023-11-28T00:00:00\", \"value\": 67.97105693817139, \"error\": 6.894693374633789}, {\"date\": \"2023-11-29T00:00:00\", \"value\": 65.9713363647461, \"error\": 6.822627067565918}, {\"date\": \"2023-11-30T00:00:00\", \"value\": 66.85776233673096, \"error\": 6.798855781555176}, {\"date\": \"2023-12-01T00:00:00\", \"value\": 68.88724994659424, \"error\": 6.790987014770508}, {\"date\": \"2023-12-02T00:00:00\", \"value\": 70.72960186004639, \"error\": 6.788379669189453}, {\"date\": \"2023-12-03T00:00:00\", \"value\": 70.40282440185547, \"error\": 6.787515640258789}, {\"date\": \"2023-12-04T00:00:00\", \"value\": 71.0966386795044, \"error\": 6.787229537963867}, {\"date\": \"2023-12-05T00:00:00\", \"value\": 68.76787567138672, \"error\": 7.46723747253418}, {\"date\": \"2023-12-06T00:00:00\", \"value\": 67.00497722625732, \"error\": 7.007205963134766}, {\"date\": \"2023-12-07T00:00:00\", \"value\": 68.51366233825684, \"error\": 6.859495162963867}, {\"date\": \"2023-12-08T00:00:00\", \"value\": 70.08137607574463, \"error\": 6.811032295227051}, {\"date\": \"2023-12-09T00:00:00\", \"value\": 72.4875316619873, \"error\": 6.795019149780273}, {\"date\": \"2023-12-10T00:00:00\", \"value\": 70.73082065582275, \"error\": 9.128372192382812}, {\"date\": \"2023-12-11T00:00:00\", \"value\": 68.47286033630371, \"error\": 7.503025054931641}, {\"date\": \"2023-12-12T00:00:00\", \"value\": 67.35118198394775, \"error\": 7.018496513366699}, {\"date\": \"2023-12-13T00:00:00\", \"value\": 67.66761493682861, \"error\": 6.863178253173828}, {\"date\": \"2023-12-14T00:00:00\", \"value\": 66.30294418334961, \"error\": 6.812246322631836}, {\"date\": \"2023-12-15T00:00:00\", \"value\": 67.40570640563965, \"error\": 6.795421600341797}, {\"date\": \"2023-12-16T00:00:00\", \"value\": 69.0478162765503, \"error\": 6.789849281311035}, {\"date\": \"2023-12-17T00:00:00\", \"value\": 68.48088645935059, \"error\": 6.788002967834473}, {\"date\": \"2023-12-18T00:00:00\", \"value\": 67.11078262329102, \"error\": 6.78739070892334}, {\"date\": \"2023-12-19T00:00:00\", \"value\": 66.32191753387451, \"error\": 6.787187576293945}, {\"date\": \"2023-12-20T00:00:00\", \"value\": 65.72330665588379, \"error\": 6.787120819091797}, {\"date\": \"2023-12-21T00:00:00\", \"value\": 64.93089389801025, \"error\": 6.787097930908203}, {\"date\": \"2023-12-22T00:00:00\", \"value\": 64.97622871398926, \"error\": 6.787090301513672}, {\"date\": \"2023-12-23T00:00:00\", \"value\": 65.13473701477051, \"error\": 6.787088394165039}, {\"date\": \"2023-12-24T00:00:00\", \"value\": 65.89335536956787, \"error\": 6.787087440490723}, {\"date\": \"2023-12-25T00:00:00\", \"value\": 67.49971771240234, \"error\": 10.273416519165039}, {\"date\": \"2023-12-26T00:00:00\", \"value\": 65.80549812316895, \"error\": 7.814133644104004}, {\"date\": \"2023-12-27T00:00:00\", \"value\": 67.62347030639648, \"error\": 9.884666442871094}, {\"date\": \"2023-12-28T00:00:00\", \"value\": 70.30262088775635, \"error\": 12.549691200256348}, {\"date\": \"2023-12-29T00:00:00\", \"value\": 72.61646556854248, \"error\": 8.369526863098145}, {\"date\": \"2023-12-30T00:00:00\", \"value\": 70.39883518218994, \"error\": 9.121155738830566}, {\"date\": \"2023-12-31T00:00:00\", \"value\": 69.3578691482544, \"error\": 7.50098991394043}, {\"date\": \"2024-01-01T00:00:00\", \"value\": 68.45131587982178, \"error\": 7.017855644226074}, {\"date\": \"2024-01-02T00:00:00\", \"value\": 70.53403759002686, \"error\": 8.402503967285156}, {\"date\": \"2024-01-03T00:00:00\", \"value\": 68.83461284637451, \"error\": 7.293257713317871}, {\"date\": \"2024-01-04T00:00:00\", \"value\": 67.26126861572266, \"error\": 6.951907157897949}, {\"date\": \"2024-01-05T00:00:00\", \"value\": 65.45252704620361, \"error\": 6.841411590576172}, {\"date\": \"2024-01-06T00:00:00\", \"value\": 63.05919551849365, \"error\": 6.805063247680664}, {\"date\": \"2024-01-07T00:00:00\", \"value\": 65.30529308319092, \"error\": 6.79304313659668}, {\"date\": \"2024-01-08T00:00:00\", \"value\": 65.87680721282959, \"error\": 6.789061546325684}, {\"date\": \"2024-01-09T00:00:00\", \"value\": 66.08906078338623, \"error\": 6.787741661071777}, {\"date\": \"2024-01-10T00:00:00\", \"value\": 66.80623149871826, \"error\": 6.787303924560547}, {\"date\": \"2024-01-11T00:00:00\", \"value\": 67.8781270980835, \"error\": 6.787158966064453}, {\"date\": \"2024-01-12T00:00:00\", \"value\": 67.0901517868042, \"error\": 6.787111282348633}, {\"date\": \"2024-01-13T00:00:00\", \"value\": 66.63556098937988, \"error\": 6.787095069885254}, {\"date\": \"2024-01-14T00:00:00\", \"value\": 68.31216812133789, \"error\": 6.7870893478393555}, {\"date\": \"2024-01-15T00:00:00\", \"value\": 71.39358711242676, \"error\": 10.273417472839355}, {\"date\": \"2024-01-16T00:00:00\", \"value\": 69.05209445953369, \"error\": 10.293342590332031}, {\"date\": \"2024-01-17T00:00:00\", \"value\": 66.61140060424805, \"error\": 7.819345474243164}, {\"date\": \"2024-01-18T00:00:00\", \"value\": 64.37740325927734, \"error\": 8.604750633239746}, {\"date\": \"2024-01-19T00:00:00\", \"value\": 63.94496726989746, \"error\": 7.352738380432129}, {\"date\": \"2024-01-20T00:00:00\", \"value\": 61.84536170959473, \"error\": 6.970889091491699}, {\"date\": \"2024-01-21T00:00:00\", \"value\": 63.22527027130127, \"error\": 10.412763595581055}, {\"date\": \"2024-01-22T00:00:00\", \"value\": 66.16848659515381, \"error\": 7.853640556335449}, {\"date\": \"2024-01-23T00:00:00\", \"value\": 65.5461835861206, \"error\": 7.127635955810547}, {\"date\": \"2024-01-24T00:00:00\", \"value\": 66.8069953918457, \"error\": 6.898630142211914}, {\"date\": \"2024-01-25T00:00:00\", \"value\": 66.82027435302734, \"error\": 6.823922157287598}, {\"date\": \"2024-01-26T00:00:00\", \"value\": 66.65587043762207, \"error\": 6.799283981323242}, {\"date\": \"2024-01-27T00:00:00\", \"value\": 65.67420196533203, \"error\": 6.791129112243652}, {\"date\": \"2024-01-28T00:00:00\", \"value\": 66.81310272216797, \"error\": 6.788427352905273}, {\"date\": \"2024-01-29T00:00:00\", \"value\": 66.06950187683105, \"error\": 6.787531852722168}, {\"date\": \"2024-01-30T00:00:00\", \"value\": 66.66354465484619, \"error\": 6.787234306335449}, {\"date\": \"2024-01-31T00:00:00\", \"value\": 67.46816349029541, \"error\": 6.787136077880859}, {\"date\": \"2024-02-01T00:00:00\", \"value\": 69.32219314575195, \"error\": 6.787103652954102}, {\"date\": \"2024-02-02T00:00:00\", \"value\": 69.97898483276367, \"error\": 6.787092208862305}, {\"date\": \"2024-02-03T00:00:00\", \"value\": 70.23079776763916, \"error\": 6.787088394165039}, {\"date\": \"2024-02-04T00:00:00\", \"value\": 69.47631645202637, \"error\": 6.787087440490723}, {\"date\": \"2024-02-05T00:00:00\", \"value\": 68.6049451828003, \"error\": 6.787087440490723}, {\"date\": \"2024-02-06T00:00:00\", \"value\": 68.12345790863037, \"error\": 6.787087440490723}, {\"date\": \"2024-02-07T00:00:00\", \"value\": 68.86836624145508, \"error\": 6.787087440490723}, {\"date\": \"2024-02-08T00:00:00\", \"value\": 69.29728889465332, \"error\": 6.787087440490723}, {\"date\": \"2024-02-09T00:00:00\", \"value\": 68.4198989868164, \"error\": 6.787087440490723}, {\"date\": \"2024-02-10T00:00:00\", \"value\": 69.94213390350342, \"error\": 9.721983909606934}, {\"date\": \"2024-02-11T00:00:00\", \"value\": 68.75742816925049, \"error\": 7.667203903198242}, {\"date\": \"2024-02-12T00:00:00\", \"value\": 68.720871925354, \"error\": 7.069933891296387}, {\"date\": \"2024-02-13T00:00:00\", \"value\": 68.18295097351074, \"error\": 6.879920959472656}, {\"date\": \"2024-02-14T00:00:00\", \"value\": 68.25885391235352, \"error\": 10.776287078857422}, {\"date\": \"2024-02-15T00:00:00\", \"value\": 67.26897525787354, \"error\": 7.94367790222168}, {\"date\": \"2024-02-16T00:00:00\", \"value\": 67.89761734008789, \"error\": 7.155235290527344}, {\"date\": \"2024-02-17T00:00:00\", \"value\": 68.75324726104736, \"error\": 6.9075517654418945}, {\"date\": \"2024-02-18T00:00:00\", \"value\": 70.26194286346436, \"error\": 6.826855659484863}, {\"date\": \"2024-02-19T00:00:00\", \"value\": 68.56320381164551, \"error\": 6.800253868103027}, {\"date\": \"2024-02-20T00:00:00\", \"value\": 69.88772678375244, \"error\": 10.197213172912598}, {\"date\": \"2024-02-21T00:00:00\", \"value\": 70.47063541412354, \"error\": 7.794137954711914}, {\"date\": \"2024-02-22T00:00:00\", \"value\": 72.34933853149414, \"error\": 7.10930061340332}, {\"date\": \"2024-02-23T00:00:00\", \"value\": 71.68723201751709, \"error\": 6.892693519592285}, {\"date\": \"2024-02-24T00:00:00\", \"value\": 70.6409273147583, \"error\": 6.821969032287598}, {\"date\": \"2024-02-25T00:00:00\", \"value\": 70.09574508666992, \"error\": 6.798637390136719}, {\"date\": \"2024-02-26T00:00:00\", \"value\": 69.46803665161133, \"error\": 6.790915489196777}, {\"date\": \"2024-02-27T00:00:00\", \"value\": 71.54508399963379, \"error\": 6.788355827331543}, {\"date\": \"2024-02-28T00:00:00\", \"value\": 72.59200382232666, \"error\": 6.787508010864258}, {\"date\": \"2024-02-29T00:00:00\", \"value\": 70.74368000030518, \"error\": 6.787226676940918}, {\"date\": \"2024-03-01T00:00:00\", \"value\": 69.71156692504883, \"error\": 6.78713321685791}, {\"date\": \"2024-03-02T00:00:00\", \"value\": 68.47114181518555, \"error\": 6.787102699279785}, {\"date\": \"2024-03-03T00:00:00\", \"value\": 67.5353364944458, \"error\": 6.787092208862305}, {\"date\": \"2024-03-04T00:00:00\", \"value\": 68.5297212600708, \"error\": 6.787088394165039}, {\"date\": \"2024-03-05T00:00:00\", \"value\": 69.61337089538574, \"error\": 6.787087440490723}, {\"date\": \"2024-03-06T00:00:00\", \"value\": 70.23734378814697, \"error\": 6.787087440490723}, {\"date\": \"2024-03-07T00:00:00\", \"value\": 70.07878303527832, \"error\": 6.787087440490723}, {\"date\": \"2024-03-08T00:00:00\", \"value\": 70.95454692840576, \"error\": 6.787087440490723}, {\"date\": \"2024-03-09T00:00:00\", \"value\": 70.90837669372559, \"error\": 6.787087440490723}, {\"date\": \"2024-03-10T00:00:00\", \"value\": 72.3473539352417, \"error\": 6.787087440490723}, {\"date\": \"2024-03-11T00:00:00\", \"value\": 71.09050369262695, \"error\": 6.787087440490723}, {\"date\": \"2024-03-12T00:00:00\", \"value\": 70.76105880737305, \"error\": 6.787087440490723}, {\"date\": \"2024-03-13T00:00:00\", \"value\": 70.57923889160156, \"error\": 6.787087440490723}, {\"date\": \"2024-03-14T00:00:00\", \"value\": 70.23178195953369, \"error\": 6.787087440490723}, {\"date\": \"2024-03-15T00:00:00\", \"value\": 68.09829330444336, \"error\": 8.057548522949219}, {\"date\": \"2024-03-16T00:00:00\", \"value\": 70.47672939300537, \"error\": 8.316020965576172}, {\"date\": \"2024-03-17T00:00:00\", \"value\": 69.39411067962646, \"error\": 7.267573356628418}, {\"date\": \"2024-03-18T00:00:00\", \"value\": 67.12427711486816, \"error\": 6.943686485290527}, {\"date\": \"2024-03-19T00:00:00\", \"value\": 67.9360580444336, \"error\": 6.838717460632324}, {\"date\": \"2024-03-20T00:00:00\", \"value\": 68.55928802490234, \"error\": 6.804173469543457}, {\"date\": \"2024-03-21T00:00:00\", \"value\": 68.85627555847168, \"error\": 6.79274845123291}, {\"date\": \"2024-03-22T00:00:00\", \"value\": 69.29007911682129, \"error\": 6.788963317871094}, {\"date\": \"2024-03-23T00:00:00\", \"value\": 70.79066753387451, \"error\": 10.27484130859375}, {\"date\": \"2024-03-24T00:00:00\", \"value\": 71.88904762268066, \"error\": 7.814506530761719}, {\"date\": \"2024-03-25T00:00:00\", \"value\": 73.45793342590332, \"error\": 7.115585327148437}, {\"date\": \"2024-03-26T00:00:00\", \"value\": 71.98341941833496, \"error\": 6.8947296142578125}, {\"date\": \"2024-03-27T00:00:00\", \"value\": 73.08912467956543, \"error\": 6.822638511657715}, {\"date\": \"2024-03-28T00:00:00\", \"value\": 71.37783432006836, \"error\": 6.798859596252441}, {\"date\": \"2024-03-29T00:00:00\", \"value\": 72.0519380569458, \"error\": 6.790988922119141}, {\"date\": \"2024-03-30T00:00:00\", \"value\": 71.19450092315674, \"error\": 6.7883806228637695}]}}, {\"mode\": \"vega-lite\"});\n",
       "</script>"
      ],
      "text/plain": [
       "alt.Chart(...)"
      ]
     },
     "execution_count": 151,
     "metadata": {},
     "output_type": "execute_result"
    }
   ],
   "source": [
    "alt.Chart(unnested).mark_line().encode(\n",
    "    x=alt.X(\n",
    "        'date', \n",
    "        axis=alt.Axis(domainOpacity=0, format='%b %y', grid=False)\n",
    "    ),\n",
    "    y=alt.Y(\n",
    "        'value',\n",
    "        axis=alt.Axis(title='RHR'),\n",
    "        scale=alt.Scale(\n",
    "            domain=[\n",
    "                unnested['value'].min() - 3, unnested['value'].max() + 3]\n",
    "        )\n",
    "    )\n",
    ").properties(width=800, title='Resting Heart Rate: Daily')"
   ]
  }
 ],
 "metadata": {
  "kernelspec": {
   "display_name": "Python 3 (ipykernel)",
   "language": "python",
   "name": "python3"
  },
  "language_info": {
   "codemirror_mode": {
    "name": "ipython",
    "version": 3
   },
   "file_extension": ".py",
   "mimetype": "text/x-python",
   "name": "python",
   "nbconvert_exporter": "python",
   "pygments_lexer": "ipython3",
   "version": "3.9.18"
  }
 },
 "nbformat": 4,
 "nbformat_minor": 5
}
