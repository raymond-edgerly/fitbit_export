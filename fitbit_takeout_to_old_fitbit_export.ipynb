{
 "cells": [
  {
   "cell_type": "code",
   "execution_count": null,
   "id": "0",
   "metadata": {},
   "outputs": [],
   "source": [
    "import pandas as pd\n",
    "import numpy as np\n",
    "import os\n",
    "import re\n",
    "from datetime import datetime\n",
    "from pyspark.sql import SparkSession\n",
    "\n",
    "# Vis. modules.\n",
    "import altair as alt"
   ]
  },
  {
   "cell_type": "markdown",
   "id": "1",
   "metadata": {},
   "source": [
    "\n",
    "-  [Sleep](#sleep)\n",
    "-  [Body](#body)\n",
    "-  [Steps](#steps)\n",
    "-  [Distance](#distance)\n",
    "-  [Activity](#activity)\n",
    "-  [RHR](#rhr)"
   ]
  },
  {
   "cell_type": "code",
   "execution_count": null,
   "id": "2",
   "metadata": {},
   "outputs": [],
   "source": [
    "global_export_data_path = r'~/Downloads/takeout-20240330T183803Z-001/Takeout/Fitbit/Global Export Data'\n",
    "global_export_data_path = os.path.expanduser(global_export_data_path) \n",
    "file_list = os.listdir(os.path.expanduser(global_export_data_path))"
   ]
  },
  {
   "cell_type": "code",
   "execution_count": null,
   "id": "3",
   "metadata": {},
   "outputs": [],
   "source": [
    "def fitbit_json_to_df(category:str):\n",
    "    # TODO: Spark handles json differently than pd.read_json().\n",
    "    # Revisit after deciding how to unpack nested .json. OK for some categories for now.\n",
    "    files = [file for file in file_list if re.match(rf'{category}-\\d{{4}}-\\d{{2}}-\\d{{2}}\\.json$', file)]\n",
    "    files.sort()\n",
    "    print(files[:5]) # Check first 5 are as expected.\n",
    "    files = [os.path.join(global_export_data_path, file) for file in files]\n",
    "\n",
    "    spark = SparkSession.builder.appName(\"Read JSON files\").getOrCreate()\n",
    "    spark_df = spark.read.option(\"multiline\", \"true\").json(files)\n",
    "    df = spark_df.toPandas()\n",
    "    df = pd.json_normalize(df.to_dict(orient='records'))\n",
    "    spark.stop()\n",
    "    return (df)"
   ]
  },
  {
   "cell_type": "markdown",
   "id": "4",
   "metadata": {},
   "source": [
    "\n",
    "<a id='sleep'></a>\n",
    "#### Sleep\n"
   ]
  },
  {
   "cell_type": "code",
   "execution_count": null,
   "id": "5",
   "metadata": {},
   "outputs": [],
   "source": [
    "sleep_files = [file for file in file_list if re.match(r'sleep-\\d{4}-\\d{2}-\\d{2}\\.json$', file)]\n",
    "sleep_files.sort()\n",
    "print(sleep_files[:5])\n",
    "\n",
    "dfs = []\n",
    "for file in sleep_files:\n",
    "    file_path = os.path.join(global_export_data_path + '/', file)\n",
    "    df = pd.read_json(file_path)\n",
    "    dfs.append(df)\n",
    "\n",
    "df = pd.concat(dfs, ignore_index=True)\n",
    "df"
   ]
  },
  {
   "cell_type": "code",
   "execution_count": null,
   "id": "6",
   "metadata": {},
   "outputs": [],
   "source": [
    "unnested = pd.json_normalize(df['levels'])"
   ]
  },
  {
   "cell_type": "code",
   "execution_count": null,
   "id": "7",
   "metadata": {},
   "outputs": [],
   "source": [
    "df = pd.merge(\n",
    "    left=df[['startTime', 'endTime', 'minutesAsleep', 'minutesAwake', 'timeInBed']], \n",
    "    right=unnested.iloc[:, 2:], \n",
    "    left_index=True, \n",
    "    right_index=True\n",
    ")"
   ]
  },
  {
   "cell_type": "code",
   "execution_count": null,
   "id": "8",
   "metadata": {},
   "outputs": [],
   "source": [
    "df.rename(columns={\n",
    "    'summary.wake.count':'Number of Awakenings',\n",
    "    'summary.rem.minutes': 'Minutes REM Sleep',\n",
    "    'summary.light.minutes':'Minutes Light Sleep',\n",
    "    'summary.deep.minutes':'Minutes Deep Sleep',\n",
    "}, inplace=True)"
   ]
  },
  {
   "cell_type": "code",
   "execution_count": null,
   "id": "9",
   "metadata": {},
   "outputs": [],
   "source": [
    "tmp_col = df['Number of Awakenings'].copy()\n",
    "df.drop(columns=['Number of Awakenings'], inplace=True)\n",
    "df.insert(4, 'Number of Awakenings', tmp_col)"
   ]
  },
  {
   "cell_type": "code",
   "execution_count": null,
   "id": "10",
   "metadata": {},
   "outputs": [],
   "source": [
    "df = df[[\n",
    "    'startTime', \n",
    "    'endTime', \n",
    "    'minutesAsleep', \n",
    "    'minutesAwake', \n",
    "    'Number of Awakenings', \n",
    "    'timeInBed', \n",
    "    'Minutes REM Sleep',\n",
    "    'Minutes Light Sleep',\n",
    "    'Minutes Deep Sleep',\n",
    "]]\n",
    "df = df.astype({'startTime':'datetime64[ns]', 'endTime':'datetime64[ns]'})"
   ]
  },
  {
   "cell_type": "code",
   "execution_count": null,
   "id": "11",
   "metadata": {},
   "outputs": [],
   "source": [
    "def convert_to_fitbit_time(cols):\n",
    "    \"\"\"Converts millisecond UTC timestamp into native 12h time.\"\"\"\n",
    "    for col in cols:\n",
    "        df[col] = df[col].apply(lambda x: x.strftime('%Y-%m-%d %I:%M%p'))\n",
    "        df[col] = df[col].apply(lambda x: x.replace(' 0', ' '))\n",
    "\n",
    "        \n",
    "convert_to_fitbit_time(['startTime', 'endTime'])"
   ]
  },
  {
   "cell_type": "code",
   "execution_count": null,
   "id": "12",
   "metadata": {},
   "outputs": [],
   "source": [
    "df.head()"
   ]
  },
  {
   "cell_type": "code",
   "execution_count": null,
   "id": "13",
   "metadata": {},
   "outputs": [],
   "source": [
    "df.to_csv('./fitbit_sleep_data_agg.csv', index=False, header=False, na_rep='N/A') # Save .csv."
   ]
  },
  {
   "cell_type": "markdown",
   "id": "14",
   "metadata": {},
   "source": [
    "\n",
    "<a id='body'></a>\n",
    "#### Body"
   ]
  },
  {
   "cell_type": "markdown",
   "id": "15",
   "metadata": {},
   "source": [
    "-  bodyweight\n",
    "-  BMI\n",
    "-  Fat"
   ]
  },
  {
   "cell_type": "code",
   "execution_count": null,
   "id": "16",
   "metadata": {},
   "outputs": [],
   "source": [
    "weight_files = [file for file in file_list if re.match(r'weight-\\d{4}-\\d{2}-\\d{2}\\.json$', file)]\n",
    "weight_files.sort()\n",
    "print(weight_files[:5]) # Check first 5 are as expected.\n",
    "\n",
    "dfs = []\n",
    "for file in weight_files:\n",
    "    file_path = os.path.join(global_export_data_path + '/', file)\n",
    "    df = pd.read_json(file_path)\n",
    "    dfs.append(df)\n",
    "\n",
    "df = pd.concat(dfs, ignore_index=True)\n",
    "df = df.rename(\n",
    "    columns={'weight':'Bodyweight', 'bmi':'BMI', 'fat':'Fat'}\n",
    ").drop(\n",
    "    columns=['logId', 'source']\n",
    ").reindex(\n",
    "    columns=['date', 'time', 'Bodyweight', 'BMI', 'Fat']\n",
    ")\n",
    "\n",
    "df"
   ]
  },
  {
   "cell_type": "markdown",
   "id": "17",
   "metadata": {},
   "source": [
    "\n",
    "<a id='steps'></a>\n",
    "#### Steps"
   ]
  },
  {
   "cell_type": "code",
   "execution_count": null,
   "id": "18",
   "metadata": {},
   "outputs": [],
   "source": [
    "df = fitbit_json_to_df('steps')\n",
    "df['dateTime'] = pd.to_datetime(df['dateTime'], format='%m/%d/%y %H:%M:%S')\n",
    "df['value'] = df['value'].astype('int32')\n",
    "df = df.groupby(pd.Grouper(key='dateTime', freq='ME')).agg('sum')\n",
    "df.to_csv('./fitbit_steps_data_agg.csv', index=False, header=False, na_rep='N/A') # Save .csv.\n",
    "df"
   ]
  },
  {
   "cell_type": "markdown",
   "id": "19",
   "metadata": {},
   "source": [
    "\n",
    "<a id='distance'></a>\n",
    "#### Distance\n"
   ]
  },
  {
   "cell_type": "code",
   "execution_count": null,
   "id": "20",
   "metadata": {},
   "outputs": [],
   "source": [
    "df = fitbit_json_to_df('distance')\n",
    "df['dateTime'] = pd.to_datetime(df['dateTime'], format='%m/%d/%y %H:%M:%S')\n",
    "df['value'] = df['value'].astype('int32')\n",
    "df = df.groupby(pd.Grouper(key='dateTime', freq='D')).agg('sum')\n",
    "df.to_csv('./fitbit_distance_data_agg.csv', index=False, header=False, na_rep='N/A') # Save .csv\n",
    "df"
   ]
  },
  {
   "cell_type": "markdown",
   "id": "21",
   "metadata": {},
   "source": [
    "\n",
    "<a id='activity'></a>\n",
    "#### Activity\n"
   ]
  },
  {
   "cell_type": "markdown",
   "id": "22",
   "metadata": {},
   "source": [
    "\n",
    "We need:\n",
    "-  cal_burn\n",
    "-  steps\n",
    "-  distance\n",
    "-  floors\n",
    "-  mins_sedentary\n",
    "-  mins_lightactive\n",
    "-  mins_fairlyactive\n",
    "-  mins_veryactive\n",
    "-  cal_activity\n"
   ]
  },
  {
   "cell_type": "code",
   "execution_count": null,
   "id": "23",
   "metadata": {},
   "outputs": [],
   "source": [
    "df = fitbit_json_to_df('calories')\n",
    "df['dateTime'] = pd.to_datetime(df['dateTime'], format='%m/%d/%y %H:%M:%S')\n",
    "df['value'] = df['value'].astype('float')\n",
    "df = df.groupby(pd.Grouper(key='dateTime', freq='D')).agg('sum')\n",
    "df"
   ]
  },
  {
   "cell_type": "markdown",
   "id": "24",
   "metadata": {},
   "source": [
    "\n",
    "<a id='rhr'></a>\n",
    "#### Resting Heart Rate (RHR)\n"
   ]
  },
  {
   "cell_type": "code",
   "execution_count": null,
   "id": "25",
   "metadata": {},
   "outputs": [],
   "source": [
    "rhr_files = [file for file in file_list if re.match(r'resting_heart_rate-\\d{4}-\\d{2}-\\d{2}\\.json$', file)]\n",
    "rhr_files.sort()\n",
    "print(rhr_files[:5])\n",
    "\n",
    "dfs = []\n",
    "for file in rhr_files:\n",
    "    file_path = os.path.join(global_export_data_path + '/', file)\n",
    "    df = pd.read_json(file_path)\n",
    "    dfs.append(df)\n",
    "\n",
    "df = pd.concat(dfs, ignore_index=True)\n",
    "unnested = pd.json_normalize(df['value'])\n",
    "unnested['date'] = unnested['date'].replace({None: np.nan})\n",
    "unnested['date'] = pd.to_datetime(unnested['date'], format='%m/%d/%y')\n",
    "unnested = unnested.dropna(subset='date')\n",
    "unnested.sample(5)"
   ]
  },
  {
   "cell_type": "code",
   "execution_count": null,
   "id": "26",
   "metadata": {},
   "outputs": [],
   "source": [
    "# RHR chart over time.\n",
    "alt.Chart(unnested).mark_line().encode(\n",
    "    x=alt.X(\n",
    "        'date', \n",
    "        axis=alt.Axis(domainOpacity=0, format='%b %y', grid=False)\n",
    "    ),\n",
    "    y=alt.Y(\n",
    "        'value',\n",
    "        axis=alt.Axis(title='RHR'),\n",
    "        scale=alt.Scale(\n",
    "            domain=[\n",
    "                unnested['value'].min() - 3, unnested['value'].max() + 3]\n",
    "        )\n",
    "    )\n",
    ").properties(width=800, title='Resting Heart Rate: Daily')"
   ]
  }
 ],
 "metadata": {
  "kernelspec": {
   "display_name": "Python 3 (ipykernel)",
   "language": "python",
   "name": "python3"
  },
  "language_info": {
   "codemirror_mode": {
    "name": "ipython",
    "version": 3
   },
   "file_extension": ".py",
   "mimetype": "text/x-python",
   "name": "python",
   "nbconvert_exporter": "python",
   "pygments_lexer": "ipython3",
   "version": "3.12.4"
  }
 },
 "nbformat": 4,
 "nbformat_minor": 5
}
