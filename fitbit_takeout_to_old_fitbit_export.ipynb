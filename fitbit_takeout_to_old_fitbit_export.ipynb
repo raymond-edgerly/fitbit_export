{
 "cells": [
  {
   "cell_type": "code",
   "execution_count": 2,
   "id": "84c820c5",
   "metadata": {},
   "outputs": [],
   "source": [
    "import pandas as pd\n",
    "from datetime import datetime"
   ]
  },
  {
   "cell_type": "markdown",
   "id": "585c5979-09ac-4daf-987c-b8bf7048d637",
   "metadata": {},
   "source": [
    "\n",
    "#### Reformat data into old Fitbit export style.\n"
   ]
  },
  {
   "cell_type": "code",
   "execution_count": 3,
   "id": "2354f619",
   "metadata": {},
   "outputs": [],
   "source": [
    "filepath = r'~/Downloads/takeout-20231226T235127Z-001'\n",
    "df = pd.read_json(f'{filepath}/Takeout/Fitbit/Global Export Data/sleep-2023-11-21.json') # Read 1 month at a time."
   ]
  },
  {
   "cell_type": "code",
   "execution_count": 4,
   "id": "4016555b",
   "metadata": {},
   "outputs": [],
   "source": [
    "unnested = pd.json_normalize(df['levels'])"
   ]
  },
  {
   "cell_type": "code",
   "execution_count": 5,
   "id": "7e95ab44",
   "metadata": {},
   "outputs": [],
   "source": [
    "df = pd.merge(\n",
    "    left=df[['startTime', 'endTime', 'minutesAsleep', 'minutesAwake', 'timeInBed']], \n",
    "    right=unnested.iloc[:, 2:], \n",
    "    left_index=True, \n",
    "    right_index=True\n",
    ")"
   ]
  },
  {
   "cell_type": "code",
   "execution_count": 6,
   "id": "c78583c1",
   "metadata": {},
   "outputs": [],
   "source": [
    "df.rename(columns={\n",
    "    'summary.wake.count':'Number of Awakenings',\n",
    "    'summary.rem.minutes': 'Minutes REM Sleep',\n",
    "    'summary.light.minutes':'Minutes Light Sleep',\n",
    "    'summary.deep.minutes':'Minutes Deep Sleep',\n",
    "}, inplace=True)"
   ]
  },
  {
   "cell_type": "code",
   "execution_count": 7,
   "id": "ceaa53b1",
   "metadata": {},
   "outputs": [],
   "source": [
    "tmp_col = df['Number of Awakenings'].copy()\n",
    "df.drop(columns=['Number of Awakenings'], inplace=True)\n",
    "df.insert(4, 'Number of Awakenings', tmp_col)"
   ]
  },
  {
   "cell_type": "code",
   "execution_count": 8,
   "id": "d37f9031",
   "metadata": {},
   "outputs": [],
   "source": [
    "df = df[[\n",
    "    'startTime', \n",
    "    'endTime', \n",
    "    'minutesAsleep', \n",
    "    'minutesAwake', \n",
    "    'Number of Awakenings', \n",
    "    'timeInBed', \n",
    "    'Minutes REM Sleep',\n",
    "    'Minutes Light Sleep',\n",
    "    'Minutes Deep Sleep',\n",
    "]]"
   ]
  },
  {
   "cell_type": "code",
   "execution_count": 11,
   "id": "1cfd6779",
   "metadata": {},
   "outputs": [],
   "source": [
    "df = df.astype({'startTime':'datetime64[ns]', 'endTime':'datetime64[ns]'})"
   ]
  },
  {
   "cell_type": "code",
   "execution_count": 12,
   "id": "df8fec6b",
   "metadata": {},
   "outputs": [],
   "source": [
    "def convert_to_fitbit_time(cols):\n",
    "    \"\"\"Converts millisecond UTC timestamp into native 12h time.\"\"\"\n",
    "    for col in cols:\n",
    "        df[col] = df[col].apply(lambda x: x.strftime('%Y-%m-%d %I:%M%p'))\n",
    "        df[col] = df[col].apply(lambda x: x.replace(' 0', ' '))\n",
    "\n",
    "        \n",
    "convert_to_fitbit_time(['startTime', 'endTime'])"
   ]
  },
  {
   "cell_type": "code",
   "execution_count": 23,
   "id": "f6d61b41-1108-4b8e-ad6f-5455cd6164a4",
   "metadata": {},
   "outputs": [
    {
     "data": {
      "text/html": [
       "<div>\n",
       "<style scoped>\n",
       "    .dataframe tbody tr th:only-of-type {\n",
       "        vertical-align: middle;\n",
       "    }\n",
       "\n",
       "    .dataframe tbody tr th {\n",
       "        vertical-align: top;\n",
       "    }\n",
       "\n",
       "    .dataframe thead th {\n",
       "        text-align: right;\n",
       "    }\n",
       "</style>\n",
       "<table border=\"1\" class=\"dataframe\">\n",
       "  <thead>\n",
       "    <tr style=\"text-align: right;\">\n",
       "      <th></th>\n",
       "      <th>startTime</th>\n",
       "      <th>endTime</th>\n",
       "      <th>minutesAsleep</th>\n",
       "      <th>minutesAwake</th>\n",
       "      <th>Number of Awakenings</th>\n",
       "      <th>timeInBed</th>\n",
       "      <th>Minutes REM Sleep</th>\n",
       "      <th>Minutes Light Sleep</th>\n",
       "      <th>Minutes Deep Sleep</th>\n",
       "    </tr>\n",
       "  </thead>\n",
       "  <tbody>\n",
       "    <tr>\n",
       "      <th>0</th>\n",
       "      <td>2023-12-21 12:49AM</td>\n",
       "      <td>2023-12-21 10:31AM</td>\n",
       "      <td>502</td>\n",
       "      <td>80</td>\n",
       "      <td>49.0</td>\n",
       "      <td>582</td>\n",
       "      <td>91.0</td>\n",
       "      <td>345.0</td>\n",
       "      <td>66.0</td>\n",
       "    </tr>\n",
       "    <tr>\n",
       "      <th>1</th>\n",
       "      <td>2023-12-20 12:47AM</td>\n",
       "      <td>2023-12-20 9:52AM</td>\n",
       "      <td>477</td>\n",
       "      <td>67</td>\n",
       "      <td>34.0</td>\n",
       "      <td>544</td>\n",
       "      <td>111.0</td>\n",
       "      <td>279.0</td>\n",
       "      <td>87.0</td>\n",
       "    </tr>\n",
       "    <tr>\n",
       "      <th>2</th>\n",
       "      <td>2023-12-19 1:28AM</td>\n",
       "      <td>2023-12-19 10:19AM</td>\n",
       "      <td>463</td>\n",
       "      <td>67</td>\n",
       "      <td>31.0</td>\n",
       "      <td>530</td>\n",
       "      <td>108.0</td>\n",
       "      <td>268.0</td>\n",
       "      <td>87.0</td>\n",
       "    </tr>\n",
       "    <tr>\n",
       "      <th>3</th>\n",
       "      <td>2023-12-18 12:15AM</td>\n",
       "      <td>2023-12-18 10:01AM</td>\n",
       "      <td>512</td>\n",
       "      <td>74</td>\n",
       "      <td>42.0</td>\n",
       "      <td>586</td>\n",
       "      <td>81.0</td>\n",
       "      <td>341.0</td>\n",
       "      <td>90.0</td>\n",
       "    </tr>\n",
       "    <tr>\n",
       "      <th>4</th>\n",
       "      <td>2023-12-17 1:11AM</td>\n",
       "      <td>2023-12-17 11:19AM</td>\n",
       "      <td>553</td>\n",
       "      <td>54</td>\n",
       "      <td>43.0</td>\n",
       "      <td>607</td>\n",
       "      <td>122.0</td>\n",
       "      <td>346.0</td>\n",
       "      <td>85.0</td>\n",
       "    </tr>\n",
       "  </tbody>\n",
       "</table>\n",
       "</div>"
      ],
      "text/plain": [
       "            startTime             endTime  minutesAsleep  minutesAwake  \\\n",
       "0  2023-12-21 12:49AM  2023-12-21 10:31AM            502            80   \n",
       "1  2023-12-20 12:47AM   2023-12-20 9:52AM            477            67   \n",
       "2   2023-12-19 1:28AM  2023-12-19 10:19AM            463            67   \n",
       "3  2023-12-18 12:15AM  2023-12-18 10:01AM            512            74   \n",
       "4   2023-12-17 1:11AM  2023-12-17 11:19AM            553            54   \n",
       "\n",
       "   Number of Awakenings  timeInBed  Minutes REM Sleep  Minutes Light Sleep  \\\n",
       "0                  49.0        582               91.0                345.0   \n",
       "1                  34.0        544              111.0                279.0   \n",
       "2                  31.0        530              108.0                268.0   \n",
       "3                  42.0        586               81.0                341.0   \n",
       "4                  43.0        607              122.0                346.0   \n",
       "\n",
       "   Minutes Deep Sleep  \n",
       "0                66.0  \n",
       "1                87.0  \n",
       "2                87.0  \n",
       "3                90.0  \n",
       "4                85.0  "
      ]
     },
     "execution_count": 23,
     "metadata": {},
     "output_type": "execute_result"
    }
   ],
   "source": [
    "df.head()"
   ]
  },
  {
   "cell_type": "code",
   "execution_count": 10,
   "id": "6bef754d",
   "metadata": {},
   "outputs": [],
   "source": [
    "savepath = r'~/OneDrive/Documents/531_data'\n",
    "df.to_csv(f'{savepath}/fitbit_sleep_export.csv', index=False, header=False, na_rep='N/A')"
   ]
  }
 ],
 "metadata": {
  "kernelspec": {
   "display_name": "Python 3 (ipykernel)",
   "language": "python",
   "name": "python3"
  },
  "language_info": {
   "codemirror_mode": {
    "name": "ipython",
    "version": 3
   },
   "file_extension": ".py",
   "mimetype": "text/x-python",
   "name": "python",
   "nbconvert_exporter": "python",
   "pygments_lexer": "ipython3",
   "version": "3.9.18"
  }
 },
 "nbformat": 4,
 "nbformat_minor": 5
}
